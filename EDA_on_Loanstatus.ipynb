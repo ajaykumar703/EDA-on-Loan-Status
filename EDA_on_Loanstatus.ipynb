{
 "cells": [
  {
   "cell_type": "markdown",
   "metadata": {
    "id": "fWntfXuIIWPA"
   },
   "source": [
    "## Task: Determine the eligibility for granting Home loan.\n",
    "\n",
    "Objective of this notebook is:\n",
    "\n",
    "1.   To understand the patterns in the data.\n",
    "2.   How to Handle the categorical features.\n",
    "3. How to deal with missing data.\n",
    "4. Feature Engineering\n",
    "5. Finding the most important features while taking the decision of granting a loan application.\n",
    "6. Understanding the Normalization and standardisation of the data.\n",
    "\n",
    "\n"
   ]
  },
  {
   "cell_type": "markdown",
   "metadata": {
    "id": "f5n7flegGQEe"
   },
   "source": [
    "## Load data and libraries"
   ]
  },
  {
   "cell_type": "code",
   "execution_count": 1,
   "metadata": {
    "id": "x9qeM0-oClpO"
   },
   "outputs": [
    {
     "name": "stderr",
     "output_type": "stream",
     "text": [
      "C:\\Users\\ajayk\\anaconda3\\lib\\site-packages\\scipy\\__init__.py:146: UserWarning: A NumPy version >=1.16.5 and <1.23.0 is required for this version of SciPy (detected version 1.26.1\n",
      "  warnings.warn(f\"A NumPy version >={np_minversion} and <{np_maxversion}\"\n"
     ]
    }
   ],
   "source": [
    "import numpy as np\n",
    "import pandas as pd\n",
    "from scipy import stats\n",
    "\n",
    "import matplotlib.pyplot as plt\n",
    "import seaborn as sns\n",
    "\n",
    "import warnings\n",
    "warnings.filterwarnings('ignore')"
   ]
  },
  {
   "cell_type": "code",
   "execution_count": 4,
   "metadata": {
    "colab": {
     "base_uri": "https://localhost:8080/"
    },
    "id": "na6rG_gDFzfk",
    "outputId": "2b5a7f0c-e94d-4b76-9fc4-1bf0a8a595de"
   },
   "outputs": [
    {
     "name": "stdout",
     "output_type": "stream",
     "text": [
      "https://docs.google.com/uc?export=download&id=1oJbdRpTLqPu1SIBXHkzWRaLaZbvZot7w\n"
     ]
    }
   ],
   "source": [
    "#Data: https://drive.google.com/file/d/1oJbdRpTLqPu1SIBXHkzWRaLaZbvZot7w/view?usp=sharing\n",
    "# Download data\n",
    "id = \"1oJbdRpTLqPu1SIBXHkzWRaLaZbvZot7w\"\n",
    "path = \"https://docs.google.com/uc?export=download&id=\" + id\n",
    "print(path)"
   ]
  },
  {
   "cell_type": "code",
   "execution_count": 5,
   "metadata": {
    "colab": {
     "base_uri": "https://localhost:8080/"
    },
    "id": "4RZeH24cF90Q",
    "outputId": "4a0f0918-bc55-42bd-e783-ea862976171a"
   },
   "outputs": [
    {
     "name": "stdout",
     "output_type": "stream",
     "text": [
      "--2022-10-30 20:34:10--  https://docs.google.com/uc?export=download&id=1oJbdRpTLqPu1SIBXHkzWRaLaZbvZot7w\n",
      "Resolving docs.google.com (docs.google.com)... 2404:6800:4007:81b::200e, 142.250.192.46\n",
      "Connecting to docs.google.com (docs.google.com)|2404:6800:4007:81b::200e|:443... connected.\n",
      "HTTP request sent, awaiting response... 303 See Other\n",
      "Location: https://doc-0o-90-docs.googleusercontent.com/docs/securesc/ha0ro937gcuc7l7deffksulhg5h7mbp1/jclp0bqteo0vv76m44leemrbjmd5u3b0/1667142225000/04821913037600172422/*/1oJbdRpTLqPu1SIBXHkzWRaLaZbvZot7w?e=download&uuid=21d62997-81ad-4a44-a601-b1c2b6645f19 [following]\n",
      "Warning: wildcards not supported in HTTP.\n",
      "--2022-10-30 20:34:11--  https://doc-0o-90-docs.googleusercontent.com/docs/securesc/ha0ro937gcuc7l7deffksulhg5h7mbp1/jclp0bqteo0vv76m44leemrbjmd5u3b0/1667142225000/04821913037600172422/*/1oJbdRpTLqPu1SIBXHkzWRaLaZbvZot7w?e=download&uuid=21d62997-81ad-4a44-a601-b1c2b6645f19\n",
      "Resolving doc-0o-90-docs.googleusercontent.com (doc-0o-90-docs.googleusercontent.com)... 2404:6800:4009:830::2001, 142.251.42.33\n",
      "Connecting to doc-0o-90-docs.googleusercontent.com (doc-0o-90-docs.googleusercontent.com)|2404:6800:4009:830::2001|:443... connected.\n",
      "HTTP request sent, awaiting response... 200 OK\n",
      "Length: 38011 (37K) [text/csv]\n",
      "Saving to: 'train.csv'\n",
      "\n",
      "train.csv           100%[===================>]  37.12K  --.-KB/s    in 0.04s   \n",
      "\n",
      "2022-10-30 20:34:12 (1000 KB/s) - 'train.csv' saved [38011/38011]\n",
      "\n"
     ]
    }
   ],
   "source": [
    "!wget \"https://docs.google.com/uc?export=download&id=1oJbdRpTLqPu1SIBXHkzWRaLaZbvZot7w\" -O train.csv"
   ]
  },
  {
   "cell_type": "code",
   "execution_count": 6,
   "metadata": {
    "colab": {
     "base_uri": "https://localhost:8080/"
    },
    "id": "r7vrYpvNGGbx",
    "outputId": "fbe453d4-6d48-41bb-a2e1-57b6dc829b38"
   },
   "outputs": [
    {
     "name": "stdout",
     "output_type": "stream",
     "text": [
      "total 69632\r\n",
      "-rw-rw-r--@ 1 shivank  staff  34813575 May 16  2017 loan 2.csv\r\n",
      "-rw-r--r--@ 1 shivank  staff     38011 Oct 17 00:33 loan.csv\r\n",
      "-rw-r--r--@ 1 shivank  staff    750126 Oct 30 11:06 EDA_FE (1).ipynb\r\n",
      "-rw-r--r--  1 shivank  staff     38011 Oct 30 20:34 train.csv\r\n"
     ]
    }
   ],
   "source": [
    "!ls -lrt"
   ]
  },
  {
   "cell_type": "code",
   "execution_count": 7,
   "metadata": {
    "colab": {
     "base_uri": "https://localhost:8080/"
    },
    "id": "F5qgJ5ORGJz5",
    "outputId": "d3c32332-b6c9-4ca0-9489-ef6f9c2fdf97"
   },
   "outputs": [
    {
     "name": "stdout",
     "output_type": "stream",
     "text": [
      "Loan_ID,Gender,Married,Dependents,Education,Self_Employed,ApplicantIncome,CoapplicantIncome,LoanAmount,Loan_Amount_Term,Credit_History,Property_Area,Loan_Status\r",
      "\r\n",
      "LP001002,Male,No,0,Graduate,No,5849,0,,360,1,Urban,Y\r",
      "\r\n",
      "LP001003,Male,Yes,1,Graduate,No,4583,1508,128,360,1,Rural,N\r",
      "\r\n",
      "LP001005,Male,Yes,0,Graduate,Yes,3000,0,66,360,1,Urban,Y\r",
      "\r\n",
      "LP001006,Male,Yes,0,Not Graduate,No,2583,2358,120,360,1,Urban,Y\r",
      "\r\n",
      "LP001008,Male,No,0,Graduate,No,6000,0,141,360,1,Urban,Y\r",
      "\r\n",
      "LP001011,Male,Yes,2,Graduate,Yes,5417,4196,267,360,1,Urban,Y\r",
      "\r\n",
      "LP001013,Male,Yes,0,Not Graduate,No,2333,1516,95,360,1,Urban,Y\r",
      "\r\n",
      "LP001014,Male,Yes,3+,Graduate,No,3036,2504,158,360,0,Semiurban,N\r",
      "\r\n",
      "LP001018,Male,Yes,2,Graduate,No,4006,1526,168,360,1,Urban,Y\r",
      "\r\n",
      "LP001020,Male,Yes,1,Graduate,No,12841,10968,349,360,1,Semiurban,N\r",
      "\r\n",
      "LP001024,Male,Yes,2,Graduate,No,3200,700,70,360,1,Urban,Y\r",
      "\r\n",
      "LP001027,Male,Yes,2,Graduate,,2500,1840,109,360,1,Urban,Y\r",
      "\r\n",
      "LP001028,Male,Yes,2,Graduate,No,3073,8106,200,360,1,Urban,Y\r",
      "\r\n",
      "LP001029,Male,No,0,Graduate,No,1853,2840,114,360,1,Rural,N\r",
      "\r\n",
      "LP001030,Male,Yes,2,Graduate,No,1299,1086,17,120,1,Urban,Y\r",
      "\r\n",
      "LP001032,Male,No,0,Graduate,No,4950,0,125,360,1,Urban,Y\r",
      "\r\n",
      "LP001034,Male,No,1,Not Graduate,No,3596,0,100,240,,Urban,Y\r",
      "\r\n",
      "LP001036,Female,No,0,Graduate,No,3510,0,76,360,0,Urban,N\r",
      "\r\n",
      "LP001038,Male,Yes,0,Not Graduate,No,4887,0,133,360,1,Rural,N\r",
      "\r\n",
      "LP001041,Male,Yes,0,Graduate,,2600,3500,115,,1,Urban,Y\r",
      "\r\n",
      "LP001043,Male,Yes,0,Not Graduate,No,7660,0,104,360,0,Urban,N\r",
      "\r\n",
      "LP001046,Male,Yes,1,Graduate,No,5955,5625,315,360,1,Urban,Y\r",
      "\r\n",
      "LP001047,Male,Yes,0,Not Graduate,No,2600,1911,116,360,0,Semiurban,N\r",
      "\r\n",
      "LP001050,,Yes,2,Not Graduate,No,3365,1917,112,360,0,Rural,N\r",
      "\r\n",
      "LP001052,Male,Yes,1,Graduate,,3717,2925,151,360,,Semiurban,N\r",
      "\r\n",
      "LP001066,Male,Yes,0,Graduate,Yes,9560,0,191,360,1,Semiurban,Y\r",
      "\r\n",
      "LP001068,Male,Yes,0,Graduate,No,2799,2253,122,360,1,Semiurban,Y\r",
      "\r\n",
      "LP001073,Male,Yes,2,Not Graduate,No,4226,1040,110,360,1,Urban,Y\r",
      "\r\n",
      "LP001086,Male,No,0,Not Graduate,No,1442,0,35,360,1,Urban,N\r",
      "\r\n",
      "LP001087,Female,No,2,Graduate,,3750,2083,120,360,1,Semiurban,Y\r",
      "\r\n",
      "LP001091,Male,Yes,1,Graduate,,4166,3369,201,360,,Urban,N\r",
      "\r\n",
      "LP001095,Male,No,0,Graduate,No,3167,0,74,360,1,Urban,N\r",
      "\r\n",
      "LP001097,Male,No,1,Graduate,Yes,4692,0,106,360,1,Rural,N\r",
      "\r\n",
      "LP001098,Male,Yes,0,Graduate,No,3500,1667,114,360,1,Semiurban,Y\r",
      "\r\n",
      "LP001100,Male,No,3+,Graduate,No,12500,3000,320,360,1,Rural,N\r",
      "\r\n",
      "LP001106,Male,Yes,0,Graduate,No,2275,2067,,360,1,Urban,Y\r",
      "\r\n",
      "LP001109,Male,Yes,0,Graduate,No,1828,1330,100,,0,Urban,N\r",
      "\r\n",
      "LP001112,Female,Yes,0,Graduate,No,3667,1459,144,360,1,Semiurban,Y\r",
      "\r\n",
      "LP001114,Male,No,0,Graduate,No,4166,7210,184,360,1,Urban,Y\r",
      "\r\n",
      "LP001116,Male,No,0,Not Graduate,No,3748,1668,110,360,1,Semiurban,Y\r",
      "\r\n",
      "LP001119,Male,No,0,Graduate,No,3600,0,80,360,1,Urban,N\r",
      "\r\n",
      "LP001120,Male,No,0,Graduate,No,1800,1213,47,360,1,Urban,Y\r",
      "\r\n",
      "LP001123,Male,Yes,0,Graduate,No,2400,0,75,360,,Urban,Y\r",
      "\r\n",
      "LP001131,Male,Yes,0,Graduate,No,3941,2336,134,360,1,Semiurban,Y\r",
      "\r\n",
      "LP001136,Male,Yes,0,Not Graduate,Yes,4695,0,96,,1,Urban,Y\r",
      "\r\n",
      "LP001137,Female,No,0,Graduate,No,3410,0,88,,1,Urban,Y\r",
      "\r\n",
      "LP001138,Male,Yes,1,Graduate,No,5649,0,44,360,1,Urban,Y\r",
      "\r\n",
      "LP001144,Male,Yes,0,Graduate,No,5821,0,144,360,1,Urban,Y\r",
      "\r\n",
      "LP001146,Female,Yes,0,Graduate,No,2645,3440,120,360,0,Urban,N\r",
      "\r\n",
      "LP001151,Female,No,0,Graduate,No,4000,2275,144,360,1,Semiurban,Y\r",
      "\r\n",
      "LP001155,Female,Yes,0,Not Graduate,No,1928,1644,100,360,1,Semiurban,Y\r",
      "\r\n",
      "LP001157,Female,No,0,Graduate,No,3086,0,120,360,1,Semiurban,Y\r",
      "\r\n",
      "LP001164,Female,No,0,Graduate,No,4230,0,112,360,1,Semiurban,N\r",
      "\r\n",
      "LP001179,Male,Yes,2,Graduate,No,4616,0,134,360,1,Urban,N\r",
      "\r\n",
      "LP001186,Female,Yes,1,Graduate,Yes,11500,0,286,360,0,Urban,N\r",
      "\r\n",
      "LP001194,Male,Yes,2,Graduate,No,2708,1167,97,360,1,Semiurban,Y\r",
      "\r\n",
      "LP001195,Male,Yes,0,Graduate,No,2132,1591,96,360,1,Semiurban,Y\r",
      "\r\n",
      "LP001197,Male,Yes,0,Graduate,No,3366,2200,135,360,1,Rural,N\r",
      "\r\n",
      "LP001198,Male,Yes,1,Graduate,No,8080,2250,180,360,1,Urban,Y\r",
      "\r\n",
      "LP001199,Male,Yes,2,Not Graduate,No,3357,2859,144,360,1,Urban,Y\r",
      "\r\n",
      "LP001205,Male,Yes,0,Graduate,No,2500,3796,120,360,1,Urban,Y\r",
      "\r\n",
      "LP001206,Male,Yes,3+,Graduate,No,3029,0,99,360,1,Urban,Y\r",
      "\r\n",
      "LP001207,Male,Yes,0,Not Graduate,Yes,2609,3449,165,180,0,Rural,N\r",
      "\r\n",
      "LP001213,Male,Yes,1,Graduate,No,4945,0,,360,0,Rural,N\r",
      "\r\n",
      "LP001222,Female,No,0,Graduate,No,4166,0,116,360,0,Semiurban,N\r",
      "\r\n",
      "LP001225,Male,Yes,0,Graduate,No,5726,4595,258,360,1,Semiurban,N\r",
      "\r\n",
      "LP001228,Male,No,0,Not Graduate,No,3200,2254,126,180,0,Urban,N\r",
      "\r\n",
      "LP001233,Male,Yes,1,Graduate,No,10750,0,312,360,1,Urban,Y\r",
      "\r\n",
      "LP001238,Male,Yes,3+,Not Graduate,Yes,7100,0,125,60,1,Urban,Y\r",
      "\r\n",
      "LP001241,Female,No,0,Graduate,No,4300,0,136,360,0,Semiurban,N\r",
      "\r\n",
      "LP001243,Male,Yes,0,Graduate,No,3208,3066,172,360,1,Urban,Y\r",
      "\r\n",
      "LP001245,Male,Yes,2,Not Graduate,Yes,1875,1875,97,360,1,Semiurban,Y\r",
      "\r\n",
      "LP001248,Male,No,0,Graduate,No,3500,0,81,300,1,Semiurban,Y\r",
      "\r\n",
      "LP001250,Male,Yes,3+,Not Graduate,No,4755,0,95,,0,Semiurban,N\r",
      "\r\n",
      "LP001253,Male,Yes,3+,Graduate,Yes,5266,1774,187,360,1,Semiurban,Y\r",
      "\r\n",
      "LP001255,Male,No,0,Graduate,No,3750,0,113,480,1,Urban,N\r",
      "\r\n",
      "LP001256,Male,No,0,Graduate,No,3750,4750,176,360,1,Urban,N\r",
      "\r\n",
      "LP001259,Male,Yes,1,Graduate,Yes,1000,3022,110,360,1,Urban,N\r",
      "\r\n",
      "LP001263,Male,Yes,3+,Graduate,No,3167,4000,180,300,0,Semiurban,N\r",
      "\r\n",
      "LP001264,Male,Yes,3+,Not Graduate,Yes,3333,2166,130,360,,Semiurban,Y\r",
      "\r\n",
      "LP001265,Female,No,0,Graduate,No,3846,0,111,360,1,Semiurban,Y\r",
      "\r\n",
      "LP001266,Male,Yes,1,Graduate,Yes,2395,0,,360,1,Semiurban,Y\r",
      "\r\n",
      "LP001267,Female,Yes,2,Graduate,No,1378,1881,167,360,1,Urban,N\r",
      "\r\n",
      "LP001273,Male,Yes,0,Graduate,No,6000,2250,265,360,,Semiurban,N\r",
      "\r\n",
      "LP001275,Male,Yes,1,Graduate,No,3988,0,50,240,1,Urban,Y\r",
      "\r\n",
      "LP001279,Male,No,0,Graduate,No,2366,2531,136,360,1,Semiurban,Y\r",
      "\r\n",
      "LP001280,Male,Yes,2,Not Graduate,No,3333,2000,99,360,,Semiurban,Y\r",
      "\r\n",
      "LP001282,Male,Yes,0,Graduate,No,2500,2118,104,360,1,Semiurban,Y\r",
      "\r\n",
      "LP001289,Male,No,0,Graduate,No,8566,0,210,360,1,Urban,Y\r",
      "\r\n",
      "LP001310,Male,Yes,0,Graduate,No,5695,4167,175,360,1,Semiurban,Y\r",
      "\r\n",
      "LP001316,Male,Yes,0,Graduate,No,2958,2900,131,360,1,Semiurban,Y\r",
      "\r\n",
      "LP001318,Male,Yes,2,Graduate,No,6250,5654,188,180,1,Semiurban,Y\r",
      "\r\n",
      "LP001319,Male,Yes,2,Not Graduate,No,3273,1820,81,360,1,Urban,Y\r",
      "\r\n",
      "LP001322,Male,No,0,Graduate,No,4133,0,122,360,1,Semiurban,Y\r",
      "\r\n",
      "LP001325,Male,No,0,Not Graduate,No,3620,0,25,120,1,Semiurban,Y\r",
      "\r\n",
      "LP001326,Male,No,0,Graduate,,6782,0,,360,,Urban,N\r",
      "\r\n",
      "LP001327,Female,Yes,0,Graduate,No,2484,2302,137,360,1,Semiurban,Y\r",
      "\r\n",
      "LP001333,Male,Yes,0,Graduate,No,1977,997,50,360,1,Semiurban,Y\r",
      "\r\n",
      "LP001334,Male,Yes,0,Not Graduate,No,4188,0,115,180,1,Semiurban,Y\r",
      "\r\n",
      "LP001343,Male,Yes,0,Graduate,No,1759,3541,131,360,1,Semiurban,Y\r",
      "\r\n",
      "LP001345,Male,Yes,2,Not Graduate,No,4288,3263,133,180,1,Urban,Y\r",
      "\r\n",
      "LP001349,Male,No,0,Graduate,No,4843,3806,151,360,1,Semiurban,Y\r",
      "\r\n",
      "LP001350,Male,Yes,,Graduate,No,13650,0,,360,1,Urban,Y\r",
      "\r\n",
      "LP001356,Male,Yes,0,Graduate,No,4652,3583,,360,1,Semiurban,Y\r",
      "\r\n",
      "LP001357,Male,,,Graduate,No,3816,754,160,360,1,Urban,Y\r",
      "\r\n",
      "LP001367,Male,Yes,1,Graduate,No,3052,1030,100,360,1,Urban,Y\r",
      "\r\n",
      "LP001369,Male,Yes,2,Graduate,No,11417,1126,225,360,1,Urban,Y\r",
      "\r\n",
      "LP001370,Male,No,0,Not Graduate,,7333,0,120,360,1,Rural,N\r",
      "\r\n",
      "LP001379,Male,Yes,2,Graduate,No,3800,3600,216,360,0,Urban,N\r",
      "\r\n",
      "LP001384,Male,Yes,3+,Not Graduate,No,2071,754,94,480,1,Semiurban,Y\r",
      "\r\n",
      "LP001385,Male,No,0,Graduate,No,5316,0,136,360,1,Urban,Y\r",
      "\r\n",
      "LP001387,Female,Yes,0,Graduate,,2929,2333,139,360,1,Semiurban,Y\r",
      "\r\n",
      "LP001391,Male,Yes,0,Not Graduate,No,3572,4114,152,,0,Rural,N\r",
      "\r\n",
      "LP001392,Female,No,1,Graduate,Yes,7451,0,,360,1,Semiurban,Y\r",
      "\r\n",
      "LP001398,Male,No,0,Graduate,,5050,0,118,360,1,Semiurban,Y\r",
      "\r\n",
      "LP001401,Male,Yes,1,Graduate,No,14583,0,185,180,1,Rural,Y\r",
      "\r\n",
      "LP001404,Female,Yes,0,Graduate,No,3167,2283,154,360,1,Semiurban,Y\r",
      "\r\n",
      "LP001405,Male,Yes,1,Graduate,No,2214,1398,85,360,,Urban,Y\r",
      "\r\n",
      "LP001421,Male,Yes,0,Graduate,No,5568,2142,175,360,1,Rural,N\r",
      "\r\n",
      "LP001422,Female,No,0,Graduate,No,10408,0,259,360,1,Urban,Y\r",
      "\r\n",
      "LP001426,Male,Yes,,Graduate,No,5667,2667,180,360,1,Rural,Y\r",
      "\r\n",
      "LP001430,Female,No,0,Graduate,No,4166,0,44,360,1,Semiurban,Y\r",
      "\r\n",
      "LP001431,Female,No,0,Graduate,No,2137,8980,137,360,0,Semiurban,Y\r",
      "\r\n",
      "LP001432,Male,Yes,2,Graduate,No,2957,0,81,360,1,Semiurban,Y\r",
      "\r\n",
      "LP001439,Male,Yes,0,Not Graduate,No,4300,2014,194,360,1,Rural,Y\r",
      "\r\n",
      "LP001443,Female,No,0,Graduate,No,3692,0,93,360,,Rural,Y\r",
      "\r\n",
      "LP001448,,Yes,3+,Graduate,No,23803,0,370,360,1,Rural,Y\r",
      "\r\n",
      "LP001449,Male,No,0,Graduate,No,3865,1640,,360,1,Rural,Y\r",
      "\r\n",
      "LP001451,Male,Yes,1,Graduate,Yes,10513,3850,160,180,0,Urban,N\r",
      "\r\n",
      "LP001465,Male,Yes,0,Graduate,No,6080,2569,182,360,,Rural,N\r",
      "\r\n",
      "LP001469,Male,No,0,Graduate,Yes,20166,0,650,480,,Urban,Y\r",
      "\r\n",
      "LP001473,Male,No,0,Graduate,No,2014,1929,74,360,1,Urban,Y\r",
      "\r\n",
      "LP001478,Male,No,0,Graduate,No,2718,0,70,360,1,Semiurban,Y\r",
      "\r\n",
      "LP001482,Male,Yes,0,Graduate,Yes,3459,0,25,120,1,Semiurban,Y\r",
      "\r\n",
      "LP001487,Male,No,0,Graduate,No,4895,0,102,360,1,Semiurban,Y\r",
      "\r\n",
      "LP001488,Male,Yes,3+,Graduate,No,4000,7750,290,360,1,Semiurban,N\r",
      "\r\n",
      "LP001489,Female,Yes,0,Graduate,No,4583,0,84,360,1,Rural,N\r",
      "\r\n",
      "LP001491,Male,Yes,2,Graduate,Yes,3316,3500,88,360,1,Urban,Y\r",
      "\r\n",
      "LP001492,Male,No,0,Graduate,No,14999,0,242,360,0,Semiurban,N\r",
      "\r\n",
      "LP001493,Male,Yes,2,Not Graduate,No,4200,1430,129,360,1,Rural,N\r",
      "\r\n",
      "LP001497,Male,Yes,2,Graduate,No,5042,2083,185,360,1,Rural,N\r",
      "\r\n",
      "LP001498,Male,No,0,Graduate,No,5417,0,168,360,1,Urban,Y\r",
      "\r\n",
      "LP001504,Male,No,0,Graduate,Yes,6950,0,175,180,1,Semiurban,Y\r",
      "\r\n",
      "LP001507,Male,Yes,0,Graduate,No,2698,2034,122,360,1,Semiurban,Y\r",
      "\r\n",
      "LP001508,Male,Yes,2,Graduate,No,11757,0,187,180,1,Urban,Y\r",
      "\r\n",
      "LP001514,Female,Yes,0,Graduate,No,2330,4486,100,360,1,Semiurban,Y\r",
      "\r\n",
      "LP001516,Female,Yes,2,Graduate,No,14866,0,70,360,1,Urban,Y\r",
      "\r\n",
      "LP001518,Male,Yes,1,Graduate,No,1538,1425,30,360,1,Urban,Y\r",
      "\r\n",
      "LP001519,Female,No,0,Graduate,No,10000,1666,225,360,1,Rural,N\r",
      "\r\n",
      "LP001520,Male,Yes,0,Graduate,No,4860,830,125,360,1,Semiurban,Y\r",
      "\r\n",
      "LP001528,Male,No,0,Graduate,No,6277,0,118,360,0,Rural,N\r",
      "\r\n",
      "LP001529,Male,Yes,0,Graduate,Yes,2577,3750,152,360,1,Rural,Y\r",
      "\r\n",
      "LP001531,Male,No,0,Graduate,No,9166,0,244,360,1,Urban,N\r",
      "\r\n",
      "LP001532,Male,Yes,2,Not Graduate,No,2281,0,113,360,1,Rural,N\r",
      "\r\n",
      "LP001535,Male,No,0,Graduate,No,3254,0,50,360,1,Urban,Y\r",
      "\r\n",
      "LP001536,Male,Yes,3+,Graduate,No,39999,0,600,180,0,Semiurban,Y\r",
      "\r\n",
      "LP001541,Male,Yes,1,Graduate,No,6000,0,160,360,,Rural,Y\r",
      "\r\n",
      "LP001543,Male,Yes,1,Graduate,No,9538,0,187,360,1,Urban,Y\r",
      "\r\n",
      "LP001546,Male,No,0,Graduate,,2980,2083,120,360,1,Rural,Y\r",
      "\r\n",
      "LP001552,Male,Yes,0,Graduate,No,4583,5625,255,360,1,Semiurban,Y\r",
      "\r\n",
      "LP001560,Male,Yes,0,Not Graduate,No,1863,1041,98,360,1,Semiurban,Y\r",
      "\r\n",
      "LP001562,Male,Yes,0,Graduate,No,7933,0,275,360,1,Urban,N\r",
      "\r\n",
      "LP001565,Male,Yes,1,Graduate,No,3089,1280,121,360,0,Semiurban,N\r",
      "\r\n",
      "LP001570,Male,Yes,2,Graduate,No,4167,1447,158,360,1,Rural,Y\r",
      "\r\n",
      "LP001572,Male,Yes,0,Graduate,No,9323,0,75,180,1,Urban,Y\r",
      "\r\n",
      "LP001574,Male,Yes,0,Graduate,No,3707,3166,182,,1,Rural,Y\r",
      "\r\n",
      "LP001577,Female,Yes,0,Graduate,No,4583,0,112,360,1,Rural,N\r",
      "\r\n",
      "LP001578,Male,Yes,0,Graduate,No,2439,3333,129,360,1,Rural,Y\r",
      "\r\n",
      "LP001579,Male,No,0,Graduate,No,2237,0,63,480,0,Semiurban,N\r",
      "\r\n",
      "LP001580,Male,Yes,2,Graduate,No,8000,0,200,360,1,Semiurban,Y\r",
      "\r\n",
      "LP001581,Male,Yes,0,Not Graduate,,1820,1769,95,360,1,Rural,Y\r",
      "\r\n",
      "LP001585,,Yes,3+,Graduate,No,51763,0,700,300,1,Urban,Y\r",
      "\r\n",
      "LP001586,Male,Yes,3+,Not Graduate,No,3522,0,81,180,1,Rural,N\r",
      "\r\n",
      "LP001594,Male,Yes,0,Graduate,No,5708,5625,187,360,1,Semiurban,Y\r",
      "\r\n",
      "LP001603,Male,Yes,0,Not Graduate,Yes,4344,736,87,360,1,Semiurban,N\r",
      "\r\n",
      "LP001606,Male,Yes,0,Graduate,No,3497,1964,116,360,1,Rural,Y\r",
      "\r\n",
      "LP001608,Male,Yes,2,Graduate,No,2045,1619,101,360,1,Rural,Y\r",
      "\r\n",
      "LP001610,Male,Yes,3+,Graduate,No,5516,11300,495,360,0,Semiurban,N\r",
      "\r\n",
      "LP001616,Male,Yes,1,Graduate,No,3750,0,116,360,1,Semiurban,Y\r",
      "\r\n",
      "LP001630,Male,No,0,Not Graduate,No,2333,1451,102,480,0,Urban,N\r",
      "\r\n",
      "LP001633,Male,Yes,1,Graduate,No,6400,7250,180,360,0,Urban,N\r",
      "\r\n",
      "LP001634,Male,No,0,Graduate,No,1916,5063,67,360,,Rural,N\r",
      "\r\n",
      "LP001636,Male,Yes,0,Graduate,No,4600,0,73,180,1,Semiurban,Y\r",
      "\r\n",
      "LP001637,Male,Yes,1,Graduate,No,33846,0,260,360,1,Semiurban,N\r",
      "\r\n",
      "LP001639,Female,Yes,0,Graduate,No,3625,0,108,360,1,Semiurban,Y\r",
      "\r\n",
      "LP001640,Male,Yes,0,Graduate,Yes,39147,4750,120,360,1,Semiurban,Y\r",
      "\r\n",
      "LP001641,Male,Yes,1,Graduate,Yes,2178,0,66,300,0,Rural,N\r",
      "\r\n",
      "LP001643,Male,Yes,0,Graduate,No,2383,2138,58,360,,Rural,Y\r",
      "\r\n",
      "LP001644,,Yes,0,Graduate,Yes,674,5296,168,360,1,Rural,Y\r",
      "\r\n",
      "LP001647,Male,Yes,0,Graduate,No,9328,0,188,180,1,Rural,Y\r",
      "\r\n",
      "LP001653,Male,No,0,Not Graduate,No,4885,0,48,360,1,Rural,Y\r",
      "\r\n",
      "LP001656,Male,No,0,Graduate,No,12000,0,164,360,1,Semiurban,N\r",
      "\r\n",
      "LP001657,Male,Yes,0,Not Graduate,No,6033,0,160,360,1,Urban,N\r",
      "\r\n",
      "LP001658,Male,No,0,Graduate,No,3858,0,76,360,1,Semiurban,Y\r",
      "\r\n",
      "LP001664,Male,No,0,Graduate,No,4191,0,120,360,1,Rural,Y\r",
      "\r\n",
      "LP001665,Male,Yes,1,Graduate,No,3125,2583,170,360,1,Semiurban,N\r",
      "\r\n",
      "LP001666,Male,No,0,Graduate,No,8333,3750,187,360,1,Rural,Y\r",
      "\r\n",
      "LP001669,Female,No,0,Not Graduate,No,1907,2365,120,,1,Urban,Y\r",
      "\r\n",
      "LP001671,Female,Yes,0,Graduate,No,3416,2816,113,360,,Semiurban,Y\r",
      "\r\n",
      "LP001673,Male,No,0,Graduate,Yes,11000,0,83,360,1,Urban,N\r",
      "\r\n",
      "LP001674,Male,Yes,1,Not Graduate,No,2600,2500,90,360,1,Semiurban,Y\r",
      "\r\n",
      "LP001677,Male,No,2,Graduate,No,4923,0,166,360,0,Semiurban,Y\r",
      "\r\n",
      "LP001682,Male,Yes,3+,Not Graduate,No,3992,0,,180,1,Urban,N\r",
      "\r\n",
      "LP001688,Male,Yes,1,Not Graduate,No,3500,1083,135,360,1,Urban,Y\r",
      "\r\n",
      "LP001691,Male,Yes,2,Not Graduate,No,3917,0,124,360,1,Semiurban,Y\r",
      "\r\n",
      "LP001692,Female,No,0,Not Graduate,No,4408,0,120,360,1,Semiurban,Y\r",
      "\r\n",
      "LP001693,Female,No,0,Graduate,No,3244,0,80,360,1,Urban,Y\r",
      "\r\n",
      "LP001698,Male,No,0,Not Graduate,No,3975,2531,55,360,1,Rural,Y\r",
      "\r\n",
      "LP001699,Male,No,0,Graduate,No,2479,0,59,360,1,Urban,Y\r",
      "\r\n",
      "LP001702,Male,No,0,Graduate,No,3418,0,127,360,1,Semiurban,N\r",
      "\r\n",
      "LP001708,Female,No,0,Graduate,No,10000,0,214,360,1,Semiurban,N\r",
      "\r\n",
      "LP001711,Male,Yes,3+,Graduate,No,3430,1250,128,360,0,Semiurban,N\r",
      "\r\n",
      "LP001713,Male,Yes,1,Graduate,Yes,7787,0,240,360,1,Urban,Y\r",
      "\r\n",
      "LP001715,Male,Yes,3+,Not Graduate,Yes,5703,0,130,360,1,Rural,Y\r",
      "\r\n",
      "LP001716,Male,Yes,0,Graduate,No,3173,3021,137,360,1,Urban,Y\r",
      "\r\n",
      "LP001720,Male,Yes,3+,Not Graduate,No,3850,983,100,360,1,Semiurban,Y\r",
      "\r\n",
      "LP001722,Male,Yes,0,Graduate,No,150,1800,135,360,1,Rural,N\r",
      "\r\n",
      "LP001726,Male,Yes,0,Graduate,No,3727,1775,131,360,1,Semiurban,Y\r",
      "\r\n",
      "LP001732,Male,Yes,2,Graduate,,5000,0,72,360,0,Semiurban,N\r",
      "\r\n",
      "LP001734,Female,Yes,2,Graduate,No,4283,2383,127,360,,Semiurban,Y\r",
      "\r\n",
      "LP001736,Male,Yes,0,Graduate,No,2221,0,60,360,0,Urban,N\r",
      "\r\n",
      "LP001743,Male,Yes,2,Graduate,No,4009,1717,116,360,1,Semiurban,Y\r",
      "\r\n",
      "LP001744,Male,No,0,Graduate,No,2971,2791,144,360,1,Semiurban,Y\r",
      "\r\n",
      "LP001749,Male,Yes,0,Graduate,No,7578,1010,175,,1,Semiurban,Y\r",
      "\r\n",
      "LP001750,Male,Yes,0,Graduate,No,6250,0,128,360,1,Semiurban,Y\r",
      "\r\n",
      "LP001751,Male,Yes,0,Graduate,No,3250,0,170,360,1,Rural,N\r",
      "\r\n",
      "LP001754,Male,Yes,,Not Graduate,Yes,4735,0,138,360,1,Urban,N\r",
      "\r\n",
      "LP001758,Male,Yes,2,Graduate,No,6250,1695,210,360,1,Semiurban,Y\r",
      "\r\n",
      "LP001760,Male,,,Graduate,No,4758,0,158,480,1,Semiurban,Y\r",
      "\r\n",
      "LP001761,Male,No,0,Graduate,Yes,6400,0,200,360,1,Rural,Y\r",
      "\r\n",
      "LP001765,Male,Yes,1,Graduate,No,2491,2054,104,360,1,Semiurban,Y\r",
      "\r\n",
      "LP001768,Male,Yes,0,Graduate,,3716,0,42,180,1,Rural,Y\r",
      "\r\n",
      "LP001770,Male,No,0,Not Graduate,No,3189,2598,120,,1,Rural,Y\r",
      "\r\n",
      "LP001776,Female,No,0,Graduate,No,8333,0,280,360,1,Semiurban,Y\r",
      "\r\n",
      "LP001778,Male,Yes,1,Graduate,No,3155,1779,140,360,1,Semiurban,Y\r",
      "\r\n",
      "LP001784,Male,Yes,1,Graduate,No,5500,1260,170,360,1,Rural,Y\r",
      "\r\n",
      "LP001786,Male,Yes,0,Graduate,,5746,0,255,360,,Urban,N\r",
      "\r\n",
      "LP001788,Female,No,0,Graduate,Yes,3463,0,122,360,,Urban,Y\r",
      "\r\n",
      "LP001790,Female,No,1,Graduate,No,3812,0,112,360,1,Rural,Y\r",
      "\r\n",
      "LP001792,Male,Yes,1,Graduate,No,3315,0,96,360,1,Semiurban,Y\r",
      "\r\n",
      "LP001798,Male,Yes,2,Graduate,No,5819,5000,120,360,1,Rural,Y\r",
      "\r\n",
      "LP001800,Male,Yes,1,Not Graduate,No,2510,1983,140,180,1,Urban,N\r",
      "\r\n",
      "LP001806,Male,No,0,Graduate,No,2965,5701,155,60,1,Urban,Y\r",
      "\r\n",
      "LP001807,Male,Yes,2,Graduate,Yes,6250,1300,108,360,1,Rural,Y\r",
      "\r\n",
      "LP001811,Male,Yes,0,Not Graduate,No,3406,4417,123,360,1,Semiurban,Y\r",
      "\r\n",
      "LP001813,Male,No,0,Graduate,Yes,6050,4333,120,180,1,Urban,N\r",
      "\r\n",
      "LP001814,Male,Yes,2,Graduate,No,9703,0,112,360,1,Urban,Y\r",
      "\r\n",
      "LP001819,Male,Yes,1,Not Graduate,No,6608,0,137,180,1,Urban,Y\r",
      "\r\n",
      "LP001824,Male,Yes,1,Graduate,No,2882,1843,123,480,1,Semiurban,Y\r",
      "\r\n",
      "LP001825,Male,Yes,0,Graduate,No,1809,1868,90,360,1,Urban,Y\r",
      "\r\n",
      "LP001835,Male,Yes,0,Not Graduate,No,1668,3890,201,360,0,Semiurban,N\r",
      "\r\n",
      "LP001836,Female,No,2,Graduate,No,3427,0,138,360,1,Urban,N\r",
      "\r\n",
      "LP001841,Male,No,0,Not Graduate,Yes,2583,2167,104,360,1,Rural,Y\r",
      "\r\n",
      "LP001843,Male,Yes,1,Not Graduate,No,2661,7101,279,180,1,Semiurban,Y\r",
      "\r\n",
      "LP001844,Male,No,0,Graduate,Yes,16250,0,192,360,0,Urban,N\r",
      "\r\n",
      "LP001846,Female,No,3+,Graduate,No,3083,0,255,360,1,Rural,Y\r",
      "\r\n",
      "LP001849,Male,No,0,Not Graduate,No,6045,0,115,360,0,Rural,N\r",
      "\r\n",
      "LP001854,Male,Yes,3+,Graduate,No,5250,0,94,360,1,Urban,N\r",
      "\r\n",
      "LP001859,Male,Yes,0,Graduate,No,14683,2100,304,360,1,Rural,N\r",
      "\r\n",
      "LP001864,Male,Yes,3+,Not Graduate,No,4931,0,128,360,,Semiurban,N\r",
      "\r\n",
      "LP001865,Male,Yes,1,Graduate,No,6083,4250,330,360,,Urban,Y\r",
      "\r\n",
      "LP001868,Male,No,0,Graduate,No,2060,2209,134,360,1,Semiurban,Y\r",
      "\r\n",
      "LP001870,Female,No,1,Graduate,No,3481,0,155,36,1,Semiurban,N\r",
      "\r\n",
      "LP001871,Female,No,0,Graduate,No,7200,0,120,360,1,Rural,Y\r",
      "\r\n",
      "LP001872,Male,No,0,Graduate,Yes,5166,0,128,360,1,Semiurban,Y\r",
      "\r\n",
      "LP001875,Male,No,0,Graduate,No,4095,3447,151,360,1,Rural,Y\r",
      "\r\n",
      "LP001877,Male,Yes,2,Graduate,No,4708,1387,150,360,1,Semiurban,Y\r",
      "\r\n",
      "LP001882,Male,Yes,3+,Graduate,No,4333,1811,160,360,0,Urban,Y\r",
      "\r\n",
      "LP001883,Female,No,0,Graduate,,3418,0,135,360,1,Rural,N\r",
      "\r\n",
      "LP001884,Female,No,1,Graduate,No,2876,1560,90,360,1,Urban,Y\r",
      "\r\n",
      "LP001888,Female,No,0,Graduate,No,3237,0,30,360,1,Urban,Y\r",
      "\r\n",
      "LP001891,Male,Yes,0,Graduate,No,11146,0,136,360,1,Urban,Y\r",
      "\r\n",
      "LP001892,Male,No,0,Graduate,No,2833,1857,126,360,1,Rural,Y\r",
      "\r\n",
      "LP001894,Male,Yes,0,Graduate,No,2620,2223,150,360,1,Semiurban,Y\r",
      "\r\n",
      "LP001896,Male,Yes,2,Graduate,No,3900,0,90,360,1,Semiurban,Y\r",
      "\r\n",
      "LP001900,Male,Yes,1,Graduate,No,2750,1842,115,360,1,Semiurban,Y\r",
      "\r\n",
      "LP001903,Male,Yes,0,Graduate,No,3993,3274,207,360,1,Semiurban,Y\r",
      "\r\n",
      "LP001904,Male,Yes,0,Graduate,No,3103,1300,80,360,1,Urban,Y\r",
      "\r\n",
      "LP001907,Male,Yes,0,Graduate,No,14583,0,436,360,1,Semiurban,Y\r",
      "\r\n",
      "LP001908,Female,Yes,0,Not Graduate,No,4100,0,124,360,,Rural,Y\r",
      "\r\n",
      "LP001910,Male,No,1,Not Graduate,Yes,4053,2426,158,360,0,Urban,N\r",
      "\r\n",
      "LP001914,Male,Yes,0,Graduate,No,3927,800,112,360,1,Semiurban,Y\r",
      "\r\n",
      "LP001915,Male,Yes,2,Graduate,No,2301,985.7999878,78,180,1,Urban,Y\r",
      "\r\n",
      "LP001917,Female,No,0,Graduate,No,1811,1666,54,360,1,Urban,Y\r",
      "\r\n",
      "LP001922,Male,Yes,0,Graduate,No,20667,0,,360,1,Rural,N\r",
      "\r\n",
      "LP001924,Male,No,0,Graduate,No,3158,3053,89,360,1,Rural,Y\r",
      "\r\n",
      "LP001925,Female,No,0,Graduate,Yes,2600,1717,99,300,1,Semiurban,N\r",
      "\r\n",
      "LP001926,Male,Yes,0,Graduate,No,3704,2000,120,360,1,Rural,Y\r",
      "\r\n",
      "LP001931,Female,No,0,Graduate,No,4124,0,115,360,1,Semiurban,Y\r",
      "\r\n",
      "LP001935,Male,No,0,Graduate,No,9508,0,187,360,1,Rural,Y\r",
      "\r\n",
      "LP001936,Male,Yes,0,Graduate,No,3075,2416,139,360,1,Rural,Y\r",
      "\r\n",
      "LP001938,Male,Yes,2,Graduate,No,4400,0,127,360,0,Semiurban,N\r",
      "\r\n",
      "LP001940,Male,Yes,2,Graduate,No,3153,1560,134,360,1,Urban,Y\r",
      "\r\n",
      "LP001945,Female,No,,Graduate,No,5417,0,143,480,0,Urban,N\r",
      "\r\n",
      "LP001947,Male,Yes,0,Graduate,No,2383,3334,172,360,1,Semiurban,Y\r",
      "\r\n",
      "LP001949,Male,Yes,3+,Graduate,,4416,1250,110,360,1,Urban,Y\r",
      "\r\n",
      "LP001953,Male,Yes,1,Graduate,No,6875,0,200,360,1,Semiurban,Y\r",
      "\r\n",
      "LP001954,Female,Yes,1,Graduate,No,4666,0,135,360,1,Urban,Y\r",
      "\r\n",
      "LP001955,Female,No,0,Graduate,No,5000,2541,151,480,1,Rural,N\r",
      "\r\n",
      "LP001963,Male,Yes,1,Graduate,No,2014,2925,113,360,1,Urban,N\r",
      "\r\n",
      "LP001964,Male,Yes,0,Not Graduate,No,1800,2934,93,360,0,Urban,N\r",
      "\r\n",
      "LP001972,Male,Yes,,Not Graduate,No,2875,1750,105,360,1,Semiurban,Y\r",
      "\r\n",
      "LP001974,Female,No,0,Graduate,No,5000,0,132,360,1,Rural,Y\r",
      "\r\n",
      "LP001977,Male,Yes,1,Graduate,No,1625,1803,96,360,1,Urban,Y\r",
      "\r\n",
      "LP001978,Male,No,0,Graduate,No,4000,2500,140,360,1,Rural,Y\r",
      "\r\n",
      "LP001990,Male,No,0,Not Graduate,No,2000,0,,360,1,Urban,N\r",
      "\r\n",
      "LP001993,Female,No,0,Graduate,No,3762,1666,135,360,1,Rural,Y\r",
      "\r\n",
      "LP001994,Female,No,0,Graduate,No,2400,1863,104,360,0,Urban,N\r",
      "\r\n",
      "LP001996,Male,No,0,Graduate,No,20233,0,480,360,1,Rural,N\r",
      "\r\n",
      "LP001998,Male,Yes,2,Not Graduate,No,7667,0,185,360,,Rural,Y\r",
      "\r\n",
      "LP002002,Female,No,0,Graduate,No,2917,0,84,360,1,Semiurban,Y\r",
      "\r\n",
      "LP002004,Male,No,0,Not Graduate,No,2927,2405,111,360,1,Semiurban,Y\r",
      "\r\n",
      "LP002006,Female,No,0,Graduate,No,2507,0,56,360,1,Rural,Y\r",
      "\r\n",
      "LP002008,Male,Yes,2,Graduate,Yes,5746,0,144,84,,Rural,Y\r",
      "\r\n",
      "LP002024,,Yes,0,Graduate,No,2473,1843,159,360,1,Rural,N\r",
      "\r\n",
      "LP002031,Male,Yes,1,Not Graduate,No,3399,1640,111,180,1,Urban,Y\r",
      "\r\n",
      "LP002035,Male,Yes,2,Graduate,No,3717,0,120,360,1,Semiurban,Y\r",
      "\r\n",
      "LP002036,Male,Yes,0,Graduate,No,2058,2134,88,360,,Urban,Y\r",
      "\r\n",
      "LP002043,Female,No,1,Graduate,No,3541,0,112,360,,Semiurban,Y\r",
      "\r\n",
      "LP002050,Male,Yes,1,Graduate,Yes,10000,0,155,360,1,Rural,N\r",
      "\r\n",
      "LP002051,Male,Yes,0,Graduate,No,2400,2167,115,360,1,Semiurban,Y\r",
      "\r\n",
      "LP002053,Male,Yes,3+,Graduate,No,4342,189,124,360,1,Semiurban,Y\r",
      "\r\n",
      "LP002054,Male,Yes,2,Not Graduate,No,3601,1590,,360,1,Rural,Y\r",
      "\r\n",
      "LP002055,Female,No,0,Graduate,No,3166,2985,132,360,,Rural,Y\r",
      "\r\n",
      "LP002065,Male,Yes,3+,Graduate,No,15000,0,300,360,1,Rural,Y\r",
      "\r\n",
      "LP002067,Male,Yes,1,Graduate,Yes,8666,4983,376,360,0,Rural,N\r",
      "\r\n",
      "LP002068,Male,No,0,Graduate,No,4917,0,130,360,0,Rural,Y\r",
      "\r\n",
      "LP002082,Male,Yes,0,Graduate,Yes,5818,2160,184,360,1,Semiurban,Y\r",
      "\r\n",
      "LP002086,Female,Yes,0,Graduate,No,4333,2451,110,360,1,Urban,N\r",
      "\r\n",
      "LP002087,Female,No,0,Graduate,No,2500,0,67,360,1,Urban,Y\r",
      "\r\n",
      "LP002097,Male,No,1,Graduate,No,4384,1793,117,360,1,Urban,Y\r",
      "\r\n",
      "LP002098,Male,No,0,Graduate,No,2935,0,98,360,1,Semiurban,Y\r",
      "\r\n",
      "LP002100,Male,No,,Graduate,No,2833,0,71,360,1,Urban,Y\r",
      "\r\n",
      "LP002101,Male,Yes,0,Graduate,,63337,0,490,180,1,Urban,Y\r",
      "\r\n",
      "LP002103,,Yes,1,Graduate,Yes,9833,1833,182,180,1,Urban,Y\r",
      "\r\n",
      "LP002106,Male,Yes,,Graduate,Yes,5503,4490,70,,1,Semiurban,Y\r",
      "\r\n",
      "LP002110,Male,Yes,1,Graduate,,5250,688,160,360,1,Rural,Y\r",
      "\r\n",
      "LP002112,Male,Yes,2,Graduate,Yes,2500,4600,176,360,1,Rural,Y\r",
      "\r\n",
      "LP002113,Female,No,3+,Not Graduate,No,1830,0,,360,0,Urban,N\r",
      "\r\n",
      "LP002114,Female,No,0,Graduate,No,4160,0,71,360,1,Semiurban,Y\r",
      "\r\n",
      "LP002115,Male,Yes,3+,Not Graduate,No,2647,1587,173,360,1,Rural,N\r",
      "\r\n",
      "LP002116,Female,No,0,Graduate,No,2378,0,46,360,1,Rural,N\r",
      "\r\n",
      "LP002119,Male,Yes,1,Not Graduate,No,4554,1229,158,360,1,Urban,Y\r",
      "\r\n",
      "LP002126,Male,Yes,3+,Not Graduate,No,3173,0,74,360,1,Semiurban,Y\r",
      "\r\n",
      "LP002128,Male,Yes,2,Graduate,,2583,2330,125,360,1,Rural,Y\r",
      "\r\n",
      "LP002129,Male,Yes,0,Graduate,No,2499,2458,160,360,1,Semiurban,Y\r",
      "\r\n",
      "LP002130,Male,Yes,,Not Graduate,No,3523,3230,152,360,0,Rural,N\r",
      "\r\n",
      "LP002131,Male,Yes,2,Not Graduate,No,3083,2168,126,360,1,Urban,Y\r",
      "\r\n",
      "LP002137,Male,Yes,0,Graduate,No,6333,4583,259,360,,Semiurban,Y\r",
      "\r\n",
      "LP002138,Male,Yes,0,Graduate,No,2625,6250,187,360,1,Rural,Y\r",
      "\r\n",
      "LP002139,Male,Yes,0,Graduate,No,9083,0,228,360,1,Semiurban,Y\r",
      "\r\n",
      "LP002140,Male,No,0,Graduate,No,8750,4167,308,360,1,Rural,N\r",
      "\r\n",
      "LP002141,Male,Yes,3+,Graduate,No,2666,2083,95,360,1,Rural,Y\r",
      "\r\n",
      "LP002142,Female,Yes,0,Graduate,Yes,5500,0,105,360,0,Rural,N\r",
      "\r\n",
      "LP002143,Female,Yes,0,Graduate,No,2423,505,130,360,1,Semiurban,Y\r",
      "\r\n",
      "LP002144,Female,No,,Graduate,No,3813,0,116,180,1,Urban,Y\r",
      "\r\n",
      "LP002149,Male,Yes,2,Graduate,No,8333,3167,165,360,1,Rural,Y\r",
      "\r\n",
      "LP002151,Male,Yes,1,Graduate,No,3875,0,67,360,1,Urban,N\r",
      "\r\n",
      "LP002158,Male,Yes,0,Not Graduate,No,3000,1666,100,480,0,Urban,N\r",
      "\r\n",
      "LP002160,Male,Yes,3+,Graduate,No,5167,3167,200,360,1,Semiurban,Y\r",
      "\r\n",
      "LP002161,Female,No,1,Graduate,No,4723,0,81,360,1,Semiurban,N\r",
      "\r\n",
      "LP002170,Male,Yes,2,Graduate,No,5000,3667,236,360,1,Semiurban,Y\r",
      "\r\n",
      "LP002175,Male,Yes,0,Graduate,No,4750,2333,130,360,1,Urban,Y\r",
      "\r\n",
      "LP002178,Male,Yes,0,Graduate,No,3013,3033,95,300,,Urban,Y\r",
      "\r\n",
      "LP002180,Male,No,0,Graduate,Yes,6822,0,141,360,1,Rural,Y\r",
      "\r\n",
      "LP002181,Male,No,0,Not Graduate,No,6216,0,133,360,1,Rural,N\r",
      "\r\n",
      "LP002187,Male,No,0,Graduate,No,2500,0,96,480,1,Semiurban,N\r",
      "\r\n",
      "LP002188,Male,No,0,Graduate,No,5124,0,124,,0,Rural,N\r",
      "\r\n",
      "LP002190,Male,Yes,1,Graduate,No,6325,0,175,360,1,Semiurban,Y\r",
      "\r\n",
      "LP002191,Male,Yes,0,Graduate,No,19730,5266,570,360,1,Rural,N\r",
      "\r\n",
      "LP002194,Female,No,0,Graduate,Yes,15759,0,55,360,1,Semiurban,Y\r",
      "\r\n",
      "LP002197,Male,Yes,2,Graduate,No,5185,0,155,360,1,Semiurban,Y\r",
      "\r\n",
      "LP002201,Male,Yes,2,Graduate,Yes,9323,7873,380,300,1,Rural,Y\r",
      "\r\n",
      "LP002205,Male,No,1,Graduate,No,3062,1987,111,180,0,Urban,N\r",
      "\r\n",
      "LP002209,Female,No,0,Graduate,,2764,1459,110,360,1,Urban,Y\r",
      "\r\n",
      "LP002211,Male,Yes,0,Graduate,No,4817,923,120,180,1,Urban,Y\r",
      "\r\n",
      "LP002219,Male,Yes,3+,Graduate,No,8750,4996,130,360,1,Rural,Y\r",
      "\r\n",
      "LP002223,Male,Yes,0,Graduate,No,4310,0,130,360,,Semiurban,Y\r",
      "\r\n",
      "LP002224,Male,No,0,Graduate,No,3069,0,71,480,1,Urban,N\r",
      "\r\n",
      "LP002225,Male,Yes,2,Graduate,No,5391,0,130,360,1,Urban,Y\r",
      "\r\n",
      "LP002226,Male,Yes,0,Graduate,,3333,2500,128,360,1,Semiurban,Y\r",
      "\r\n",
      "LP002229,Male,No,0,Graduate,No,5941,4232,296,360,1,Semiurban,Y\r",
      "\r\n",
      "LP002231,Female,No,0,Graduate,No,6000,0,156,360,1,Urban,Y\r",
      "\r\n",
      "LP002234,Male,No,0,Graduate,Yes,7167,0,128,360,1,Urban,Y\r",
      "\r\n",
      "LP002236,Male,Yes,2,Graduate,No,4566,0,100,360,1,Urban,N\r",
      "\r\n",
      "LP002237,Male,No,1,Graduate,,3667,0,113,180,1,Urban,Y\r",
      "\r\n",
      "LP002239,Male,No,0,Not Graduate,No,2346,1600,132,360,1,Semiurban,Y\r",
      "\r\n",
      "LP002243,Male,Yes,0,Not Graduate,No,3010,3136,,360,0,Urban,N\r",
      "\r\n",
      "LP002244,Male,Yes,0,Graduate,No,2333,2417,136,360,1,Urban,Y\r",
      "\r\n",
      "LP002250,Male,Yes,0,Graduate,No,5488,0,125,360,1,Rural,Y\r",
      "\r\n",
      "LP002255,Male,No,3+,Graduate,No,9167,0,185,360,1,Rural,Y\r",
      "\r\n",
      "LP002262,Male,Yes,3+,Graduate,No,9504,0,275,360,1,Rural,Y\r",
      "\r\n",
      "LP002263,Male,Yes,0,Graduate,No,2583,2115,120,360,,Urban,Y\r",
      "\r\n",
      "LP002265,Male,Yes,2,Not Graduate,No,1993,1625,113,180,1,Semiurban,Y\r",
      "\r\n",
      "LP002266,Male,Yes,2,Graduate,No,3100,1400,113,360,1,Urban,Y\r",
      "\r\n",
      "LP002272,Male,Yes,2,Graduate,No,3276,484,135,360,,Semiurban,Y\r",
      "\r\n",
      "LP002277,Female,No,0,Graduate,No,3180,0,71,360,0,Urban,N\r",
      "\r\n",
      "LP002281,Male,Yes,0,Graduate,No,3033,1459,95,360,1,Urban,Y\r",
      "\r\n",
      "LP002284,Male,No,0,Not Graduate,No,3902,1666,109,360,1,Rural,Y\r",
      "\r\n",
      "LP002287,Female,No,0,Graduate,No,1500,1800,103,360,0,Semiurban,N\r",
      "\r\n",
      "LP002288,Male,Yes,2,Not Graduate,No,2889,0,45,180,0,Urban,N\r",
      "\r\n",
      "LP002296,Male,No,0,Not Graduate,No,2755,0,65,300,1,Rural,N\r",
      "\r\n",
      "LP002297,Male,No,0,Graduate,No,2500,20000,103,360,1,Semiurban,Y\r",
      "\r\n",
      "LP002300,Female,No,0,Not Graduate,No,1963,0,53,360,1,Semiurban,Y\r",
      "\r\n",
      "LP002301,Female,No,0,Graduate,Yes,7441,0,194,360,1,Rural,N\r",
      "\r\n",
      "LP002305,Female,No,0,Graduate,No,4547,0,115,360,1,Semiurban,Y\r",
      "\r\n",
      "LP002308,Male,Yes,0,Not Graduate,No,2167,2400,115,360,1,Urban,Y\r",
      "\r\n",
      "LP002314,Female,No,0,Not Graduate,No,2213,0,66,360,1,Rural,Y\r",
      "\r\n",
      "LP002315,Male,Yes,1,Graduate,No,8300,0,152,300,0,Semiurban,N\r",
      "\r\n",
      "LP002317,Male,Yes,3+,Graduate,No,81000,0,360,360,0,Rural,N\r",
      "\r\n",
      "LP002318,Female,No,1,Not Graduate,Yes,3867,0,62,360,1,Semiurban,N\r",
      "\r\n",
      "LP002319,Male,Yes,0,Graduate,,6256,0,160,360,,Urban,Y\r",
      "\r\n",
      "LP002328,Male,Yes,0,Not Graduate,No,6096,0,218,360,0,Rural,N\r",
      "\r\n",
      "LP002332,Male,Yes,0,Not Graduate,No,2253,2033,110,360,1,Rural,Y\r",
      "\r\n",
      "LP002335,Female,Yes,0,Not Graduate,No,2149,3237,178,360,0,Semiurban,N\r",
      "\r\n",
      "LP002337,Female,No,0,Graduate,No,2995,0,60,360,1,Urban,Y\r",
      "\r\n",
      "LP002341,Female,No,1,Graduate,No,2600,0,160,360,1,Urban,N\r",
      "\r\n",
      "LP002342,Male,Yes,2,Graduate,Yes,1600,20000,239,360,1,Urban,N\r",
      "\r\n",
      "LP002345,Male,Yes,0,Graduate,No,1025,2773,112,360,1,Rural,Y\r",
      "\r\n",
      "LP002347,Male,Yes,0,Graduate,No,3246,1417,138,360,1,Semiurban,Y\r",
      "\r\n",
      "LP002348,Male,Yes,0,Graduate,No,5829,0,138,360,1,Rural,Y\r",
      "\r\n",
      "LP002357,Female,No,0,Not Graduate,No,2720,0,80,,0,Urban,N\r",
      "\r\n",
      "LP002361,Male,Yes,0,Graduate,No,1820,1719,100,360,1,Urban,Y\r",
      "\r\n",
      "LP002362,Male,Yes,1,Graduate,No,7250,1667,110,,0,Urban,N\r",
      "\r\n",
      "LP002364,Male,Yes,0,Graduate,No,14880,0,96,360,1,Semiurban,Y\r",
      "\r\n",
      "LP002366,Male,Yes,0,Graduate,No,2666,4300,121,360,1,Rural,Y\r",
      "\r\n",
      "LP002367,Female,No,1,Not Graduate,No,4606,0,81,360,1,Rural,N\r",
      "\r\n",
      "LP002368,Male,Yes,2,Graduate,No,5935,0,133,360,1,Semiurban,Y\r",
      "\r\n",
      "LP002369,Male,Yes,0,Graduate,No,2920,16.12000084,87,360,1,Rural,Y\r",
      "\r\n",
      "LP002370,Male,No,0,Not Graduate,No,2717,0,60,180,1,Urban,Y\r",
      "\r\n",
      "LP002377,Female,No,1,Graduate,Yes,8624,0,150,360,1,Semiurban,Y\r",
      "\r\n",
      "LP002379,Male,No,0,Graduate,No,6500,0,105,360,0,Rural,N\r",
      "\r\n",
      "LP002386,Male,No,0,Graduate,,12876,0,405,360,1,Semiurban,Y\r",
      "\r\n",
      "LP002387,Male,Yes,0,Graduate,No,2425,2340,143,360,1,Semiurban,Y\r",
      "\r\n",
      "LP002390,Male,No,0,Graduate,No,3750,0,100,360,1,Urban,Y\r",
      "\r\n",
      "LP002393,Female,,,Graduate,No,10047,0,,240,1,Semiurban,Y\r",
      "\r\n",
      "LP002398,Male,No,0,Graduate,No,1926,1851,50,360,1,Semiurban,Y\r",
      "\r\n",
      "LP002401,Male,Yes,0,Graduate,No,2213,1125,,360,1,Urban,Y\r",
      "\r\n",
      "LP002403,Male,No,0,Graduate,Yes,10416,0,187,360,0,Urban,N\r",
      "\r\n",
      "LP002407,Female,Yes,0,Not Graduate,Yes,7142,0,138,360,1,Rural,Y\r",
      "\r\n",
      "LP002408,Male,No,0,Graduate,No,3660,5064,187,360,1,Semiurban,Y\r",
      "\r\n",
      "LP002409,Male,Yes,0,Graduate,No,7901,1833,180,360,1,Rural,Y\r",
      "\r\n",
      "LP002418,Male,No,3+,Not Graduate,No,4707,1993,148,360,1,Semiurban,Y\r",
      "\r\n",
      "LP002422,Male,No,1,Graduate,No,37719,0,152,360,1,Semiurban,Y\r",
      "\r\n",
      "LP002424,Male,Yes,0,Graduate,No,7333,8333,175,300,,Rural,Y\r",
      "\r\n",
      "LP002429,Male,Yes,1,Graduate,Yes,3466,1210,130,360,1,Rural,Y\r",
      "\r\n",
      "LP002434,Male,Yes,2,Not Graduate,No,4652,0,110,360,1,Rural,Y\r",
      "\r\n",
      "LP002435,Male,Yes,0,Graduate,,3539,1376,55,360,1,Rural,N\r",
      "\r\n",
      "LP002443,Male,Yes,2,Graduate,No,3340,1710,150,360,0,Rural,N\r",
      "\r\n",
      "LP002444,Male,No,1,Not Graduate,Yes,2769,1542,190,360,,Semiurban,N\r",
      "\r\n",
      "LP002446,Male,Yes,2,Not Graduate,No,2309,1255,125,360,0,Rural,N\r",
      "\r\n",
      "LP002447,Male,Yes,2,Not Graduate,No,1958,1456,60,300,,Urban,Y\r",
      "\r\n",
      "LP002448,Male,Yes,0,Graduate,No,3948,1733,149,360,0,Rural,N\r",
      "\r\n",
      "LP002449,Male,Yes,0,Graduate,No,2483,2466,90,180,0,Rural,Y\r",
      "\r\n",
      "LP002453,Male,No,0,Graduate,Yes,7085,0,84,360,1,Semiurban,Y\r",
      "\r\n",
      "LP002455,Male,Yes,2,Graduate,No,3859,0,96,360,1,Semiurban,Y\r",
      "\r\n",
      "LP002459,Male,Yes,0,Graduate,No,4301,0,118,360,1,Urban,Y\r",
      "\r\n",
      "LP002467,Male,Yes,0,Graduate,No,3708,2569,173,360,1,Urban,N\r",
      "\r\n",
      "LP002472,Male,No,2,Graduate,No,4354,0,136,360,1,Rural,Y\r",
      "\r\n",
      "LP002473,Male,Yes,0,Graduate,No,8334,0,160,360,1,Semiurban,N\r",
      "\r\n",
      "LP002478,,Yes,0,Graduate,Yes,2083,4083,160,360,,Semiurban,Y\r",
      "\r\n",
      "LP002484,Male,Yes,3+,Graduate,No,7740,0,128,180,1,Urban,Y\r",
      "\r\n",
      "LP002487,Male,Yes,0,Graduate,No,3015,2188,153,360,1,Rural,Y\r",
      "\r\n",
      "LP002489,Female,No,1,Not Graduate,,5191,0,132,360,1,Semiurban,Y\r",
      "\r\n",
      "LP002493,Male,No,0,Graduate,No,4166,0,98,360,0,Semiurban,N\r",
      "\r\n",
      "LP002494,Male,No,0,Graduate,No,6000,0,140,360,1,Rural,Y\r",
      "\r\n",
      "LP002500,Male,Yes,3+,Not Graduate,No,2947,1664,70,180,0,Urban,N\r",
      "\r\n",
      "LP002501,,Yes,0,Graduate,No,16692,0,110,360,1,Semiurban,Y\r",
      "\r\n",
      "LP002502,Female,Yes,2,Not Graduate,,210,2917,98,360,1,Semiurban,Y\r",
      "\r\n",
      "LP002505,Male,Yes,0,Graduate,No,4333,2451,110,360,1,Urban,N\r",
      "\r\n",
      "LP002515,Male,Yes,1,Graduate,Yes,3450,2079,162,360,1,Semiurban,Y\r",
      "\r\n",
      "LP002517,Male,Yes,1,Not Graduate,No,2653,1500,113,180,0,Rural,N\r",
      "\r\n",
      "LP002519,Male,Yes,3+,Graduate,No,4691,0,100,360,1,Semiurban,Y\r",
      "\r\n",
      "LP002522,Female,No,0,Graduate,Yes,2500,0,93,360,,Urban,Y\r",
      "\r\n",
      "LP002524,Male,No,2,Graduate,No,5532,4648,162,360,1,Rural,Y\r",
      "\r\n",
      "LP002527,Male,Yes,2,Graduate,Yes,16525,1014,150,360,1,Rural,Y\r",
      "\r\n",
      "LP002529,Male,Yes,2,Graduate,No,6700,1750,230,300,1,Semiurban,Y\r",
      "\r\n",
      "LP002530,,Yes,2,Graduate,No,2873,1872,132,360,0,Semiurban,N\r",
      "\r\n",
      "LP002531,Male,Yes,1,Graduate,Yes,16667,2250,86,360,1,Semiurban,Y\r",
      "\r\n",
      "LP002533,Male,Yes,2,Graduate,No,2947,1603,,360,1,Urban,N\r",
      "\r\n",
      "LP002534,Female,No,0,Not Graduate,No,4350,0,154,360,1,Rural,Y\r",
      "\r\n",
      "LP002536,Male,Yes,3+,Not Graduate,No,3095,0,113,360,1,Rural,Y\r",
      "\r\n",
      "LP002537,Male,Yes,0,Graduate,No,2083,3150,128,360,1,Semiurban,Y\r",
      "\r\n",
      "LP002541,Male,Yes,0,Graduate,No,10833,0,234,360,1,Semiurban,Y\r",
      "\r\n",
      "LP002543,Male,Yes,2,Graduate,No,8333,0,246,360,1,Semiurban,Y\r",
      "\r\n",
      "LP002544,Male,Yes,1,Not Graduate,No,1958,2436,131,360,1,Rural,Y\r",
      "\r\n",
      "LP002545,Male,No,2,Graduate,No,3547,0,80,360,0,Rural,N\r",
      "\r\n",
      "LP002547,Male,Yes,1,Graduate,No,18333,0,500,360,1,Urban,N\r",
      "\r\n",
      "LP002555,Male,Yes,2,Graduate,Yes,4583,2083,160,360,1,Semiurban,Y\r",
      "\r\n",
      "LP002556,Male,No,0,Graduate,No,2435,0,75,360,1,Urban,N\r",
      "\r\n",
      "LP002560,Male,No,0,Not Graduate,No,2699,2785,96,360,,Semiurban,Y\r",
      "\r\n",
      "LP002562,Male,Yes,1,Not Graduate,No,5333,1131,186,360,,Urban,Y\r",
      "\r\n",
      "LP002571,Male,No,0,Not Graduate,No,3691,0,110,360,1,Rural,Y\r",
      "\r\n",
      "LP002582,Female,No,0,Not Graduate,Yes,17263,0,225,360,1,Semiurban,Y\r",
      "\r\n",
      "LP002585,Male,Yes,0,Graduate,No,3597,2157,119,360,0,Rural,N\r",
      "\r\n",
      "LP002586,Female,Yes,1,Graduate,No,3326,913,105,84,1,Semiurban,Y\r",
      "\r\n",
      "LP002587,Male,Yes,0,Not Graduate,No,2600,1700,107,360,1,Rural,Y\r",
      "\r\n",
      "LP002588,Male,Yes,0,Graduate,No,4625,2857,111,12,,Urban,Y\r",
      "\r\n",
      "LP002600,Male,Yes,1,Graduate,Yes,2895,0,95,360,1,Semiurban,Y\r",
      "\r\n",
      "LP002602,Male,No,0,Graduate,No,6283,4416,209,360,0,Rural,N\r",
      "\r\n",
      "LP002603,Female,No,0,Graduate,No,645,3683,113,480,1,Rural,Y\r",
      "\r\n",
      "LP002606,Female,No,0,Graduate,No,3159,0,100,360,1,Semiurban,Y\r",
      "\r\n",
      "LP002615,Male,Yes,2,Graduate,No,4865,5624,208,360,1,Semiurban,Y\r",
      "\r\n",
      "LP002618,Male,Yes,1,Not Graduate,No,4050,5302,138,360,,Rural,N\r",
      "\r\n",
      "LP002619,Male,Yes,0,Not Graduate,No,3814,1483,124,300,1,Semiurban,Y\r",
      "\r\n",
      "LP002622,Male,Yes,2,Graduate,No,3510,4416,243,360,1,Rural,Y\r",
      "\r\n",
      "LP002624,Male,Yes,0,Graduate,No,20833,6667,480,360,,Urban,Y\r",
      "\r\n",
      "LP002625,,No,0,Graduate,No,3583,0,96,360,1,Urban,N\r",
      "\r\n",
      "LP002626,Male,Yes,0,Graduate,Yes,2479,3013,188,360,1,Urban,Y\r",
      "\r\n",
      "LP002634,Female,No,1,Graduate,No,13262,0,40,360,1,Urban,Y\r",
      "\r\n",
      "LP002637,Male,No,0,Not Graduate,No,3598,1287,100,360,1,Rural,N\r",
      "\r\n",
      "LP002640,Male,Yes,1,Graduate,No,6065,2004,250,360,1,Semiurban,Y\r",
      "\r\n",
      "LP002643,Male,Yes,2,Graduate,No,3283,2035,148,360,1,Urban,Y\r",
      "\r\n",
      "LP002648,Male,Yes,0,Graduate,No,2130,6666,70,180,1,Semiurban,N\r",
      "\r\n",
      "LP002652,Male,No,0,Graduate,No,5815,3666,311,360,1,Rural,N\r",
      "\r\n",
      "LP002659,Male,Yes,3+,Graduate,No,3466,3428,150,360,1,Rural,Y\r",
      "\r\n",
      "LP002670,Female,Yes,2,Graduate,No,2031,1632,113,480,1,Semiurban,Y\r",
      "\r\n",
      "LP002682,Male,Yes,,Not Graduate,No,3074,1800,123,360,0,Semiurban,N\r",
      "\r\n",
      "LP002683,Male,No,0,Graduate,No,4683,1915,185,360,1,Semiurban,N\r",
      "\r\n",
      "LP002684,Female,No,0,Not Graduate,No,3400,0,95,360,1,Rural,N\r",
      "\r\n",
      "LP002689,Male,Yes,2,Not Graduate,No,2192,1742,45,360,1,Semiurban,Y\r",
      "\r\n",
      "LP002690,Male,No,0,Graduate,No,2500,0,55,360,1,Semiurban,Y\r",
      "\r\n",
      "LP002692,Male,Yes,3+,Graduate,Yes,5677,1424,100,360,1,Rural,Y\r",
      "\r\n",
      "LP002693,Male,Yes,2,Graduate,Yes,7948,7166,480,360,1,Rural,Y\r",
      "\r\n",
      "LP002697,Male,No,0,Graduate,No,4680,2087,,360,1,Semiurban,N\r",
      "\r\n",
      "LP002699,Male,Yes,2,Graduate,Yes,17500,0,400,360,1,Rural,Y\r",
      "\r\n",
      "LP002705,Male,Yes,0,Graduate,No,3775,0,110,360,1,Semiurban,Y\r",
      "\r\n",
      "LP002706,Male,Yes,1,Not Graduate,No,5285,1430,161,360,0,Semiurban,Y\r",
      "\r\n",
      "LP002714,Male,No,1,Not Graduate,No,2679,1302,94,360,1,Semiurban,Y\r",
      "\r\n",
      "LP002716,Male,No,0,Not Graduate,No,6783,0,130,360,1,Semiurban,Y\r",
      "\r\n",
      "LP002717,Male,Yes,0,Graduate,No,1025,5500,216,360,,Rural,Y\r",
      "\r\n",
      "LP002720,Male,Yes,3+,Graduate,No,4281,0,100,360,1,Urban,Y\r",
      "\r\n",
      "LP002723,Male,No,2,Graduate,No,3588,0,110,360,0,Rural,N\r",
      "\r\n",
      "LP002729,Male,No,1,Graduate,No,11250,0,196,360,,Semiurban,N\r",
      "\r\n",
      "LP002731,Female,No,0,Not Graduate,Yes,18165,0,125,360,1,Urban,Y\r",
      "\r\n",
      "LP002732,Male,No,0,Not Graduate,,2550,2042,126,360,1,Rural,Y\r",
      "\r\n",
      "LP002734,Male,Yes,0,Graduate,No,6133,3906,324,360,1,Urban,Y\r",
      "\r\n",
      "LP002738,Male,No,2,Graduate,No,3617,0,107,360,1,Semiurban,Y\r",
      "\r\n",
      "LP002739,Male,Yes,0,Not Graduate,No,2917,536,66,360,1,Rural,N\r",
      "\r\n",
      "LP002740,Male,Yes,3+,Graduate,No,6417,0,157,180,1,Rural,Y\r",
      "\r\n",
      "LP002741,Female,Yes,1,Graduate,No,4608,2845,140,180,1,Semiurban,Y\r",
      "\r\n",
      "LP002743,Female,No,0,Graduate,No,2138,0,99,360,0,Semiurban,N\r",
      "\r\n",
      "LP002753,Female,No,1,Graduate,,3652,0,95,360,1,Semiurban,Y\r",
      "\r\n",
      "LP002755,Male,Yes,1,Not Graduate,No,2239,2524,128,360,1,Urban,Y\r",
      "\r\n",
      "LP002757,Female,Yes,0,Not Graduate,No,3017,663,102,360,,Semiurban,Y\r",
      "\r\n",
      "LP002767,Male,Yes,0,Graduate,No,2768,1950,155,360,1,Rural,Y\r",
      "\r\n",
      "LP002768,Male,No,0,Not Graduate,No,3358,0,80,36,1,Semiurban,N\r",
      "\r\n",
      "LP002772,Male,No,0,Graduate,No,2526,1783,145,360,1,Rural,Y\r",
      "\r\n",
      "LP002776,Female,No,0,Graduate,No,5000,0,103,360,0,Semiurban,N\r",
      "\r\n",
      "LP002777,Male,Yes,0,Graduate,No,2785,2016,110,360,1,Rural,Y\r",
      "\r\n",
      "LP002778,Male,Yes,2,Graduate,Yes,6633,0,,360,0,Rural,N\r",
      "\r\n",
      "LP002784,Male,Yes,1,Not Graduate,No,2492,2375,,360,1,Rural,Y\r",
      "\r\n",
      "LP002785,Male,Yes,1,Graduate,No,3333,3250,158,360,1,Urban,Y\r",
      "\r\n",
      "LP002788,Male,Yes,0,Not Graduate,No,2454,2333,181,360,0,Urban,N\r",
      "\r\n",
      "LP002789,Male,Yes,0,Graduate,No,3593,4266,132,180,0,Rural,N\r",
      "\r\n",
      "LP002792,Male,Yes,1,Graduate,No,5468,1032,26,360,1,Semiurban,Y\r",
      "\r\n",
      "LP002794,Female,No,0,Graduate,No,2667,1625,84,360,,Urban,Y\r",
      "\r\n",
      "LP002795,Male,Yes,3+,Graduate,Yes,10139,0,260,360,1,Semiurban,Y\r",
      "\r\n",
      "LP002798,Male,Yes,0,Graduate,No,3887,2669,162,360,1,Semiurban,Y\r",
      "\r\n",
      "LP002804,Female,Yes,0,Graduate,No,4180,2306,182,360,1,Semiurban,Y\r",
      "\r\n",
      "LP002807,Male,Yes,2,Not Graduate,No,3675,242,108,360,1,Semiurban,Y\r",
      "\r\n",
      "LP002813,Female,Yes,1,Graduate,Yes,19484,0,600,360,1,Semiurban,Y\r",
      "\r\n",
      "LP002820,Male,Yes,0,Graduate,No,5923,2054,211,360,1,Rural,Y\r",
      "\r\n",
      "LP002821,Male,No,0,Not Graduate,Yes,5800,0,132,360,1,Semiurban,Y\r",
      "\r\n",
      "LP002832,Male,Yes,2,Graduate,No,8799,0,258,360,0,Urban,N\r",
      "\r\n",
      "LP002833,Male,Yes,0,Not Graduate,No,4467,0,120,360,,Rural,Y\r",
      "\r\n",
      "LP002836,Male,No,0,Graduate,No,3333,0,70,360,1,Urban,Y\r",
      "\r\n",
      "LP002837,Male,Yes,3+,Graduate,No,3400,2500,123,360,0,Rural,N\r",
      "\r\n",
      "LP002840,Female,No,0,Graduate,No,2378,0,9,360,1,Urban,N\r",
      "\r\n",
      "LP002841,Male,Yes,0,Graduate,No,3166,2064,104,360,0,Urban,N\r",
      "\r\n",
      "LP002842,Male,Yes,1,Graduate,No,3417,1750,186,360,1,Urban,Y\r",
      "\r\n",
      "LP002847,Male,Yes,,Graduate,No,5116,1451,165,360,0,Urban,N\r",
      "\r\n",
      "LP002855,Male,Yes,2,Graduate,No,16666,0,275,360,1,Urban,Y\r",
      "\r\n",
      "LP002862,Male,Yes,2,Not Graduate,No,6125,1625,187,480,1,Semiurban,N\r",
      "\r\n",
      "LP002863,Male,Yes,3+,Graduate,No,6406,0,150,360,1,Semiurban,N\r",
      "\r\n",
      "LP002868,Male,Yes,2,Graduate,No,3159,461,108,84,1,Urban,Y\r",
      "\r\n",
      "LP002872,,Yes,0,Graduate,No,3087,2210,136,360,0,Semiurban,N\r",
      "\r\n",
      "LP002874,Male,No,0,Graduate,No,3229,2739,110,360,1,Urban,Y\r",
      "\r\n",
      "LP002877,Male,Yes,1,Graduate,No,1782,2232,107,360,1,Rural,Y\r",
      "\r\n",
      "LP002888,Male,No,0,Graduate,,3182,2917,161,360,1,Urban,Y\r",
      "\r\n",
      "LP002892,Male,Yes,2,Graduate,No,6540,0,205,360,1,Semiurban,Y\r",
      "\r\n",
      "LP002893,Male,No,0,Graduate,No,1836,33837,90,360,1,Urban,N\r",
      "\r\n",
      "LP002894,Female,Yes,0,Graduate,No,3166,0,36,360,1,Semiurban,Y\r",
      "\r\n",
      "LP002898,Male,Yes,1,Graduate,No,1880,0,61,360,,Rural,N\r",
      "\r\n",
      "LP002911,Male,Yes,1,Graduate,No,2787,1917,146,360,0,Rural,N\r",
      "\r\n",
      "LP002912,Male,Yes,1,Graduate,No,4283,3000,172,84,1,Rural,N\r",
      "\r\n",
      "LP002916,Male,Yes,0,Graduate,No,2297,1522,104,360,1,Urban,Y\r",
      "\r\n",
      "LP002917,Female,No,0,Not Graduate,No,2165,0,70,360,1,Semiurban,Y\r",
      "\r\n",
      "LP002925,,No,0,Graduate,No,4750,0,94,360,1,Semiurban,Y\r",
      "\r\n",
      "LP002926,Male,Yes,2,Graduate,Yes,2726,0,106,360,0,Semiurban,N\r",
      "\r\n",
      "LP002928,Male,Yes,0,Graduate,No,3000,3416,56,180,1,Semiurban,Y\r",
      "\r\n",
      "LP002931,Male,Yes,2,Graduate,Yes,6000,0,205,240,1,Semiurban,N\r",
      "\r\n",
      "LP002933,,No,3+,Graduate,Yes,9357,0,292,360,1,Semiurban,Y\r",
      "\r\n",
      "LP002936,Male,Yes,0,Graduate,No,3859,3300,142,180,1,Rural,Y\r",
      "\r\n",
      "LP002938,Male,Yes,0,Graduate,Yes,16120,0,260,360,1,Urban,Y\r",
      "\r\n",
      "LP002940,Male,No,0,Not Graduate,No,3833,0,110,360,1,Rural,Y\r",
      "\r\n",
      "LP002941,Male,Yes,2,Not Graduate,Yes,6383,1000,187,360,1,Rural,N\r",
      "\r\n",
      "LP002943,Male,No,,Graduate,No,2987,0,88,360,0,Semiurban,N\r",
      "\r\n",
      "LP002945,Male,Yes,0,Graduate,Yes,9963,0,180,360,1,Rural,Y\r",
      "\r\n",
      "LP002948,Male,Yes,2,Graduate,No,5780,0,192,360,1,Urban,Y\r",
      "\r\n",
      "LP002949,Female,No,3+,Graduate,,416,41667,350,180,,Urban,N\r",
      "\r\n",
      "LP002950,Male,Yes,0,Not Graduate,,2894,2792,155,360,1,Rural,Y\r",
      "\r\n",
      "LP002953,Male,Yes,3+,Graduate,No,5703,0,128,360,1,Urban,Y\r",
      "\r\n",
      "LP002958,Male,No,0,Graduate,No,3676,4301,172,360,1,Rural,Y\r",
      "\r\n",
      "LP002959,Female,Yes,1,Graduate,No,12000,0,496,360,1,Semiurban,Y\r",
      "\r\n",
      "LP002960,Male,Yes,0,Not Graduate,No,2400,3800,,180,1,Urban,N\r",
      "\r\n",
      "LP002961,Male,Yes,1,Graduate,No,3400,2500,173,360,1,Semiurban,Y\r",
      "\r\n",
      "LP002964,Male,Yes,2,Not Graduate,No,3987,1411,157,360,1,Rural,Y\r",
      "\r\n",
      "LP002974,Male,Yes,0,Graduate,No,3232,1950,108,360,1,Rural,Y\r",
      "\r\n",
      "LP002978,Female,No,0,Graduate,No,2900,0,71,360,1,Rural,Y\r",
      "\r\n",
      "LP002979,Male,Yes,3+,Graduate,No,4106,0,40,180,1,Rural,Y\r",
      "\r\n",
      "LP002983,Male,Yes,1,Graduate,No,8072,240,253,360,1,Urban,Y\r",
      "\r\n",
      "LP002984,Male,Yes,2,Graduate,No,7583,0,187,360,1,Urban,Y\r",
      "\r\n",
      "LP002990,Female,No,0,Graduate,Yes,4583,0,133,360,0,Semiurban,N"
     ]
    }
   ],
   "source": [
    "!cat train.csv"
   ]
  },
  {
   "cell_type": "code",
   "execution_count": 8,
   "metadata": {
    "colab": {
     "base_uri": "https://localhost:8080/"
    },
    "id": "Ej8pWNLIGL-i",
    "outputId": "3a229cda-00e3-4996-d0d4-b4acf406e5dd"
   },
   "outputs": [
    {
     "data": {
      "text/plain": [
       "(614, 13)"
      ]
     },
     "execution_count": 8,
     "metadata": {},
     "output_type": "execute_result"
    }
   ],
   "source": [
    "data = pd.read_csv('./train.csv')\n",
    "data.shape"
   ]
  },
  {
   "cell_type": "code",
   "execution_count": 9,
   "metadata": {
    "colab": {
     "base_uri": "https://localhost:8080/"
    },
    "id": "BxiTXBzLGZpi",
    "outputId": "690aba8b-6646-42c1-df4f-ec59e86f9997"
   },
   "outputs": [
    {
     "data": {
      "text/plain": [
       "Index(['Loan_ID', 'Gender', 'Married', 'Dependents', 'Education',\n",
       "       'Self_Employed', 'ApplicantIncome', 'CoapplicantIncome', 'LoanAmount',\n",
       "       'Loan_Amount_Term', 'Credit_History', 'Property_Area', 'Loan_Status'],\n",
       "      dtype='object')"
      ]
     },
     "execution_count": 9,
     "metadata": {},
     "output_type": "execute_result"
    }
   ],
   "source": [
    "data.columns"
   ]
  },
  {
   "cell_type": "code",
   "execution_count": 10,
   "metadata": {
    "colab": {
     "base_uri": "https://localhost:8080/",
     "height": 288
    },
    "id": "DEyPpdvDGfFl",
    "outputId": "0af83ed0-6f30-47ec-f519-b48da31a9b52"
   },
   "outputs": [
    {
     "data": {
      "text/html": [
       "<div>\n",
       "<style scoped>\n",
       "    .dataframe tbody tr th:only-of-type {\n",
       "        vertical-align: middle;\n",
       "    }\n",
       "\n",
       "    .dataframe tbody tr th {\n",
       "        vertical-align: top;\n",
       "    }\n",
       "\n",
       "    .dataframe thead th {\n",
       "        text-align: right;\n",
       "    }\n",
       "</style>\n",
       "<table border=\"1\" class=\"dataframe\">\n",
       "  <thead>\n",
       "    <tr style=\"text-align: right;\">\n",
       "      <th></th>\n",
       "      <th>Loan_ID</th>\n",
       "      <th>Gender</th>\n",
       "      <th>Married</th>\n",
       "      <th>Dependents</th>\n",
       "      <th>Education</th>\n",
       "      <th>Self_Employed</th>\n",
       "      <th>ApplicantIncome</th>\n",
       "      <th>CoapplicantIncome</th>\n",
       "      <th>LoanAmount</th>\n",
       "      <th>Loan_Amount_Term</th>\n",
       "      <th>Credit_History</th>\n",
       "      <th>Property_Area</th>\n",
       "      <th>Loan_Status</th>\n",
       "    </tr>\n",
       "  </thead>\n",
       "  <tbody>\n",
       "    <tr>\n",
       "      <th>0</th>\n",
       "      <td>LP001002</td>\n",
       "      <td>Male</td>\n",
       "      <td>No</td>\n",
       "      <td>0</td>\n",
       "      <td>Graduate</td>\n",
       "      <td>No</td>\n",
       "      <td>5849</td>\n",
       "      <td>0.0</td>\n",
       "      <td>NaN</td>\n",
       "      <td>360.0</td>\n",
       "      <td>1.0</td>\n",
       "      <td>Urban</td>\n",
       "      <td>Y</td>\n",
       "    </tr>\n",
       "    <tr>\n",
       "      <th>1</th>\n",
       "      <td>LP001003</td>\n",
       "      <td>Male</td>\n",
       "      <td>Yes</td>\n",
       "      <td>1</td>\n",
       "      <td>Graduate</td>\n",
       "      <td>No</td>\n",
       "      <td>4583</td>\n",
       "      <td>1508.0</td>\n",
       "      <td>128.0</td>\n",
       "      <td>360.0</td>\n",
       "      <td>1.0</td>\n",
       "      <td>Rural</td>\n",
       "      <td>N</td>\n",
       "    </tr>\n",
       "    <tr>\n",
       "      <th>2</th>\n",
       "      <td>LP001005</td>\n",
       "      <td>Male</td>\n",
       "      <td>Yes</td>\n",
       "      <td>0</td>\n",
       "      <td>Graduate</td>\n",
       "      <td>Yes</td>\n",
       "      <td>3000</td>\n",
       "      <td>0.0</td>\n",
       "      <td>66.0</td>\n",
       "      <td>360.0</td>\n",
       "      <td>1.0</td>\n",
       "      <td>Urban</td>\n",
       "      <td>Y</td>\n",
       "    </tr>\n",
       "    <tr>\n",
       "      <th>3</th>\n",
       "      <td>LP001006</td>\n",
       "      <td>Male</td>\n",
       "      <td>Yes</td>\n",
       "      <td>0</td>\n",
       "      <td>Not Graduate</td>\n",
       "      <td>No</td>\n",
       "      <td>2583</td>\n",
       "      <td>2358.0</td>\n",
       "      <td>120.0</td>\n",
       "      <td>360.0</td>\n",
       "      <td>1.0</td>\n",
       "      <td>Urban</td>\n",
       "      <td>Y</td>\n",
       "    </tr>\n",
       "    <tr>\n",
       "      <th>4</th>\n",
       "      <td>LP001008</td>\n",
       "      <td>Male</td>\n",
       "      <td>No</td>\n",
       "      <td>0</td>\n",
       "      <td>Graduate</td>\n",
       "      <td>No</td>\n",
       "      <td>6000</td>\n",
       "      <td>0.0</td>\n",
       "      <td>141.0</td>\n",
       "      <td>360.0</td>\n",
       "      <td>1.0</td>\n",
       "      <td>Urban</td>\n",
       "      <td>Y</td>\n",
       "    </tr>\n",
       "  </tbody>\n",
       "</table>\n",
       "</div>"
      ],
      "text/plain": [
       "    Loan_ID Gender Married Dependents     Education Self_Employed  \\\n",
       "0  LP001002   Male      No          0      Graduate            No   \n",
       "1  LP001003   Male     Yes          1      Graduate            No   \n",
       "2  LP001005   Male     Yes          0      Graduate           Yes   \n",
       "3  LP001006   Male     Yes          0  Not Graduate            No   \n",
       "4  LP001008   Male      No          0      Graduate            No   \n",
       "\n",
       "   ApplicantIncome  CoapplicantIncome  LoanAmount  Loan_Amount_Term  \\\n",
       "0             5849                0.0         NaN             360.0   \n",
       "1             4583             1508.0       128.0             360.0   \n",
       "2             3000                0.0        66.0             360.0   \n",
       "3             2583             2358.0       120.0             360.0   \n",
       "4             6000                0.0       141.0             360.0   \n",
       "\n",
       "   Credit_History Property_Area Loan_Status  \n",
       "0             1.0         Urban           Y  \n",
       "1             1.0         Rural           N  \n",
       "2             1.0         Urban           Y  \n",
       "3             1.0         Urban           Y  \n",
       "4             1.0         Urban           Y  "
      ]
     },
     "execution_count": 10,
     "metadata": {},
     "output_type": "execute_result"
    }
   ],
   "source": [
    "data.head()"
   ]
  },
  {
   "cell_type": "code",
   "execution_count": 11,
   "metadata": {
    "colab": {
     "base_uri": "https://localhost:8080/"
    },
    "id": "bFfV1VjkGmLE",
    "outputId": "38001398-ee0b-4bd4-dd63-cc8ca3bdb197"
   },
   "outputs": [
    {
     "data": {
      "text/plain": [
       "Loan_ID               object\n",
       "Gender                object\n",
       "Married               object\n",
       "Dependents            object\n",
       "Education             object\n",
       "Self_Employed         object\n",
       "ApplicantIncome        int64\n",
       "CoapplicantIncome    float64\n",
       "LoanAmount           float64\n",
       "Loan_Amount_Term     float64\n",
       "Credit_History       float64\n",
       "Property_Area         object\n",
       "Loan_Status           object\n",
       "dtype: object"
      ]
     },
     "execution_count": 11,
     "metadata": {},
     "output_type": "execute_result"
    }
   ],
   "source": [
    "data.dtypes\n",
    "#object => typically categorical/IDs\n",
    "#Int64, Float64"
   ]
  },
  {
   "cell_type": "code",
   "execution_count": 12,
   "metadata": {
    "colab": {
     "base_uri": "https://localhost:8080/"
    },
    "id": "z7fWWrnv8wv3",
    "outputId": "e2450474-ab85-4254-c7f7-7edb9a7b609c"
   },
   "outputs": [
    {
     "data": {
      "text/plain": [
       "0     345\n",
       "1     102\n",
       "2     101\n",
       "3+     51\n",
       "Name: Dependents, dtype: int64"
      ]
     },
     "execution_count": 12,
     "metadata": {},
     "output_type": "execute_result"
    }
   ],
   "source": [
    "data['Dependents'].value_counts()"
   ]
  },
  {
   "cell_type": "code",
   "execution_count": 13,
   "metadata": {
    "id": "hUVzYt8bG2hU"
   },
   "outputs": [],
   "source": [
    "# drop loanID column\n",
    "data = data.drop('Loan_ID',axis = 1)"
   ]
  },
  {
   "cell_type": "markdown",
   "metadata": {
    "id": "TarGSsXDG8Tp"
   },
   "source": [
    "## Basic Data Exploration"
   ]
  },
  {
   "cell_type": "code",
   "execution_count": 14,
   "metadata": {
    "colab": {
     "base_uri": "https://localhost:8080/"
    },
    "id": "BHXHp28hG-uh",
    "outputId": "16e33694-2166-42ed-828d-78179dfc2feb"
   },
   "outputs": [
    {
     "data": {
      "text/html": [
       "<div>\n",
       "<style scoped>\n",
       "    .dataframe tbody tr th:only-of-type {\n",
       "        vertical-align: middle;\n",
       "    }\n",
       "\n",
       "    .dataframe tbody tr th {\n",
       "        vertical-align: top;\n",
       "    }\n",
       "\n",
       "    .dataframe thead th {\n",
       "        text-align: right;\n",
       "    }\n",
       "</style>\n",
       "<table border=\"1\" class=\"dataframe\">\n",
       "  <thead>\n",
       "    <tr style=\"text-align: right;\">\n",
       "      <th></th>\n",
       "      <th>ApplicantIncome</th>\n",
       "      <th>CoapplicantIncome</th>\n",
       "      <th>LoanAmount</th>\n",
       "      <th>Loan_Amount_Term</th>\n",
       "      <th>Credit_History</th>\n",
       "    </tr>\n",
       "  </thead>\n",
       "  <tbody>\n",
       "    <tr>\n",
       "      <th>count</th>\n",
       "      <td>614.000000</td>\n",
       "      <td>614.000000</td>\n",
       "      <td>592.000000</td>\n",
       "      <td>600.00000</td>\n",
       "      <td>564.000000</td>\n",
       "    </tr>\n",
       "    <tr>\n",
       "      <th>mean</th>\n",
       "      <td>5403.459283</td>\n",
       "      <td>1621.245798</td>\n",
       "      <td>146.412162</td>\n",
       "      <td>342.00000</td>\n",
       "      <td>0.842199</td>\n",
       "    </tr>\n",
       "    <tr>\n",
       "      <th>std</th>\n",
       "      <td>6109.041673</td>\n",
       "      <td>2926.248369</td>\n",
       "      <td>85.587325</td>\n",
       "      <td>65.12041</td>\n",
       "      <td>0.364878</td>\n",
       "    </tr>\n",
       "    <tr>\n",
       "      <th>min</th>\n",
       "      <td>150.000000</td>\n",
       "      <td>0.000000</td>\n",
       "      <td>9.000000</td>\n",
       "      <td>12.00000</td>\n",
       "      <td>0.000000</td>\n",
       "    </tr>\n",
       "    <tr>\n",
       "      <th>25%</th>\n",
       "      <td>2877.500000</td>\n",
       "      <td>0.000000</td>\n",
       "      <td>100.000000</td>\n",
       "      <td>360.00000</td>\n",
       "      <td>1.000000</td>\n",
       "    </tr>\n",
       "    <tr>\n",
       "      <th>50%</th>\n",
       "      <td>3812.500000</td>\n",
       "      <td>1188.500000</td>\n",
       "      <td>128.000000</td>\n",
       "      <td>360.00000</td>\n",
       "      <td>1.000000</td>\n",
       "    </tr>\n",
       "    <tr>\n",
       "      <th>75%</th>\n",
       "      <td>5795.000000</td>\n",
       "      <td>2297.250000</td>\n",
       "      <td>168.000000</td>\n",
       "      <td>360.00000</td>\n",
       "      <td>1.000000</td>\n",
       "    </tr>\n",
       "    <tr>\n",
       "      <th>max</th>\n",
       "      <td>81000.000000</td>\n",
       "      <td>41667.000000</td>\n",
       "      <td>700.000000</td>\n",
       "      <td>480.00000</td>\n",
       "      <td>1.000000</td>\n",
       "    </tr>\n",
       "  </tbody>\n",
       "</table>\n",
       "</div>"
      ],
      "text/plain": [
       "       ApplicantIncome  CoapplicantIncome  LoanAmount  Loan_Amount_Term  \\\n",
       "count       614.000000         614.000000  592.000000         600.00000   \n",
       "mean       5403.459283        1621.245798  146.412162         342.00000   \n",
       "std        6109.041673        2926.248369   85.587325          65.12041   \n",
       "min         150.000000           0.000000    9.000000          12.00000   \n",
       "25%        2877.500000           0.000000  100.000000         360.00000   \n",
       "50%        3812.500000        1188.500000  128.000000         360.00000   \n",
       "75%        5795.000000        2297.250000  168.000000         360.00000   \n",
       "max       81000.000000       41667.000000  700.000000         480.00000   \n",
       "\n",
       "       Credit_History  \n",
       "count      564.000000  \n",
       "mean         0.842199  \n",
       "std          0.364878  \n",
       "min          0.000000  \n",
       "25%          1.000000  \n",
       "50%          1.000000  \n",
       "75%          1.000000  \n",
       "max          1.000000  "
      ]
     },
     "execution_count": 14,
     "metadata": {},
     "output_type": "execute_result"
    }
   ],
   "source": [
    "data.describe()\n",
    "# only numeric features"
   ]
  },
  {
   "cell_type": "code",
   "execution_count": 15,
   "metadata": {
    "colab": {
     "base_uri": "https://localhost:8080/"
    },
    "id": "WsyIZ1nfHCG7",
    "outputId": "cb9cf7a4-ec26-48c9-83ed-c1f536c3f75f"
   },
   "outputs": [
    {
     "data": {
      "text/html": [
       "<div>\n",
       "<style scoped>\n",
       "    .dataframe tbody tr th:only-of-type {\n",
       "        vertical-align: middle;\n",
       "    }\n",
       "\n",
       "    .dataframe tbody tr th {\n",
       "        vertical-align: top;\n",
       "    }\n",
       "\n",
       "    .dataframe thead th {\n",
       "        text-align: right;\n",
       "    }\n",
       "</style>\n",
       "<table border=\"1\" class=\"dataframe\">\n",
       "  <thead>\n",
       "    <tr style=\"text-align: right;\">\n",
       "      <th></th>\n",
       "      <th>Gender</th>\n",
       "      <th>Married</th>\n",
       "      <th>Dependents</th>\n",
       "      <th>Education</th>\n",
       "      <th>Self_Employed</th>\n",
       "      <th>Property_Area</th>\n",
       "      <th>Loan_Status</th>\n",
       "    </tr>\n",
       "  </thead>\n",
       "  <tbody>\n",
       "    <tr>\n",
       "      <th>count</th>\n",
       "      <td>601</td>\n",
       "      <td>611</td>\n",
       "      <td>599</td>\n",
       "      <td>614</td>\n",
       "      <td>582</td>\n",
       "      <td>614</td>\n",
       "      <td>614</td>\n",
       "    </tr>\n",
       "    <tr>\n",
       "      <th>unique</th>\n",
       "      <td>2</td>\n",
       "      <td>2</td>\n",
       "      <td>4</td>\n",
       "      <td>2</td>\n",
       "      <td>2</td>\n",
       "      <td>3</td>\n",
       "      <td>2</td>\n",
       "    </tr>\n",
       "    <tr>\n",
       "      <th>top</th>\n",
       "      <td>Male</td>\n",
       "      <td>Yes</td>\n",
       "      <td>0</td>\n",
       "      <td>Graduate</td>\n",
       "      <td>No</td>\n",
       "      <td>Semiurban</td>\n",
       "      <td>Y</td>\n",
       "    </tr>\n",
       "    <tr>\n",
       "      <th>freq</th>\n",
       "      <td>489</td>\n",
       "      <td>398</td>\n",
       "      <td>345</td>\n",
       "      <td>480</td>\n",
       "      <td>500</td>\n",
       "      <td>233</td>\n",
       "      <td>422</td>\n",
       "    </tr>\n",
       "  </tbody>\n",
       "</table>\n",
       "</div>"
      ],
      "text/plain": [
       "       Gender Married Dependents Education Self_Employed Property_Area  \\\n",
       "count     601     611        599       614           582           614   \n",
       "unique      2       2          4         2             2             3   \n",
       "top      Male     Yes          0  Graduate            No     Semiurban   \n",
       "freq      489     398        345       480           500           233   \n",
       "\n",
       "       Loan_Status  \n",
       "count          614  \n",
       "unique           2  \n",
       "top              Y  \n",
       "freq           422  "
      ]
     },
     "execution_count": 15,
     "metadata": {},
     "output_type": "execute_result"
    }
   ],
   "source": [
    "# catgeorical features\n",
    "data.describe(include = ['object'])"
   ]
  },
  {
   "cell_type": "code",
   "execution_count": 16,
   "metadata": {
    "colab": {
     "base_uri": "https://localhost:8080/"
    },
    "id": "1YAwMv3fHa10",
    "outputId": "4ba8fdec-2ccb-4fbf-bd42-f041024ad885"
   },
   "outputs": [
    {
     "data": {
      "text/plain": [
       "Gender               13\n",
       "Married               3\n",
       "Dependents           15\n",
       "Education             0\n",
       "Self_Employed        32\n",
       "ApplicantIncome       0\n",
       "CoapplicantIncome     0\n",
       "LoanAmount           22\n",
       "Loan_Amount_Term     14\n",
       "Credit_History       50\n",
       "Property_Area         0\n",
       "Loan_Status           0\n",
       "dtype: int64"
      ]
     },
     "execution_count": 16,
     "metadata": {},
     "output_type": "execute_result"
    }
   ],
   "source": [
    "#missing values\n",
    "data.isna().sum()"
   ]
  },
  {
   "cell_type": "code",
   "execution_count": 17,
   "metadata": {
    "id": "YWG1X1PhHhUz"
   },
   "outputs": [],
   "source": [
    "# catgeorical and numerical columns\n",
    "cat_cols = data.dtypes =='object'\n",
    "cat_cols = list(cat_cols[cat_cols].index)\n",
    "\n",
    "num_cols = data.dtypes !='object'\n",
    "num_cols = list(num_cols[num_cols].index)\n",
    "cat_cols.remove('Loan_Status')"
   ]
  },
  {
   "cell_type": "code",
   "execution_count": 18,
   "metadata": {
    "colab": {
     "base_uri": "https://localhost:8080/"
    },
    "id": "YPlirG0THoDH",
    "outputId": "ea89c755-3527-4f29-d344-27452e2273f9"
   },
   "outputs": [
    {
     "data": {
      "text/plain": [
       "['Gender',\n",
       " 'Married',\n",
       " 'Dependents',\n",
       " 'Education',\n",
       " 'Self_Employed',\n",
       " 'Property_Area']"
      ]
     },
     "execution_count": 18,
     "metadata": {},
     "output_type": "execute_result"
    }
   ],
   "source": [
    "cat_cols"
   ]
  },
  {
   "cell_type": "code",
   "execution_count": 19,
   "metadata": {
    "colab": {
     "base_uri": "https://localhost:8080/"
    },
    "id": "H2UZnPw-Hp2a",
    "outputId": "62efcdc7-c6aa-40be-a103-2170865eae0a"
   },
   "outputs": [
    {
     "data": {
      "text/plain": [
       "['ApplicantIncome',\n",
       " 'CoapplicantIncome',\n",
       " 'LoanAmount',\n",
       " 'Loan_Amount_Term',\n",
       " 'Credit_History']"
      ]
     },
     "execution_count": 19,
     "metadata": {},
     "output_type": "execute_result"
    }
   ],
   "source": [
    "num_cols"
   ]
  },
  {
   "cell_type": "code",
   "execution_count": 20,
   "metadata": {
    "colab": {
     "base_uri": "https://localhost:8080/"
    },
    "id": "wplTevS6Hts2",
    "outputId": "28c1c355-01cf-4b5d-dd8c-5a9317a6d132"
   },
   "outputs": [
    {
     "data": {
      "text/html": [
       "<div>\n",
       "<style scoped>\n",
       "    .dataframe tbody tr th:only-of-type {\n",
       "        vertical-align: middle;\n",
       "    }\n",
       "\n",
       "    .dataframe tbody tr th {\n",
       "        vertical-align: top;\n",
       "    }\n",
       "\n",
       "    .dataframe thead th {\n",
       "        text-align: right;\n",
       "    }\n",
       "</style>\n",
       "<table border=\"1\" class=\"dataframe\">\n",
       "  <thead>\n",
       "    <tr style=\"text-align: right;\">\n",
       "      <th></th>\n",
       "      <th>Gender</th>\n",
       "      <th>Married</th>\n",
       "      <th>Dependents</th>\n",
       "      <th>Education</th>\n",
       "      <th>Self_Employed</th>\n",
       "      <th>Property_Area</th>\n",
       "    </tr>\n",
       "  </thead>\n",
       "  <tbody>\n",
       "    <tr>\n",
       "      <th>0</th>\n",
       "      <td>Male</td>\n",
       "      <td>No</td>\n",
       "      <td>0</td>\n",
       "      <td>Graduate</td>\n",
       "      <td>No</td>\n",
       "      <td>Urban</td>\n",
       "    </tr>\n",
       "    <tr>\n",
       "      <th>1</th>\n",
       "      <td>Male</td>\n",
       "      <td>Yes</td>\n",
       "      <td>1</td>\n",
       "      <td>Graduate</td>\n",
       "      <td>No</td>\n",
       "      <td>Rural</td>\n",
       "    </tr>\n",
       "    <tr>\n",
       "      <th>2</th>\n",
       "      <td>Male</td>\n",
       "      <td>Yes</td>\n",
       "      <td>0</td>\n",
       "      <td>Graduate</td>\n",
       "      <td>Yes</td>\n",
       "      <td>Urban</td>\n",
       "    </tr>\n",
       "    <tr>\n",
       "      <th>3</th>\n",
       "      <td>Male</td>\n",
       "      <td>Yes</td>\n",
       "      <td>0</td>\n",
       "      <td>Not Graduate</td>\n",
       "      <td>No</td>\n",
       "      <td>Urban</td>\n",
       "    </tr>\n",
       "    <tr>\n",
       "      <th>4</th>\n",
       "      <td>Male</td>\n",
       "      <td>No</td>\n",
       "      <td>0</td>\n",
       "      <td>Graduate</td>\n",
       "      <td>No</td>\n",
       "      <td>Urban</td>\n",
       "    </tr>\n",
       "  </tbody>\n",
       "</table>\n",
       "</div>"
      ],
      "text/plain": [
       "  Gender Married Dependents     Education Self_Employed Property_Area\n",
       "0   Male      No          0      Graduate            No         Urban\n",
       "1   Male     Yes          1      Graduate            No         Rural\n",
       "2   Male     Yes          0      Graduate           Yes         Urban\n",
       "3   Male     Yes          0  Not Graduate            No         Urban\n",
       "4   Male      No          0      Graduate            No         Urban"
      ]
     },
     "execution_count": 20,
     "metadata": {},
     "output_type": "execute_result"
    }
   ],
   "source": [
    "data[cat_cols].head()"
   ]
  },
  {
   "cell_type": "code",
   "execution_count": 21,
   "metadata": {
    "colab": {
     "base_uri": "https://localhost:8080/"
    },
    "id": "peFAZ3ReHy29",
    "outputId": "2e64ef81-2793-4efa-d453-c9c2959a117c"
   },
   "outputs": [
    {
     "data": {
      "text/html": [
       "<div>\n",
       "<style scoped>\n",
       "    .dataframe tbody tr th:only-of-type {\n",
       "        vertical-align: middle;\n",
       "    }\n",
       "\n",
       "    .dataframe tbody tr th {\n",
       "        vertical-align: top;\n",
       "    }\n",
       "\n",
       "    .dataframe thead th {\n",
       "        text-align: right;\n",
       "    }\n",
       "</style>\n",
       "<table border=\"1\" class=\"dataframe\">\n",
       "  <thead>\n",
       "    <tr style=\"text-align: right;\">\n",
       "      <th></th>\n",
       "      <th>ApplicantIncome</th>\n",
       "      <th>CoapplicantIncome</th>\n",
       "      <th>LoanAmount</th>\n",
       "      <th>Loan_Amount_Term</th>\n",
       "      <th>Credit_History</th>\n",
       "    </tr>\n",
       "  </thead>\n",
       "  <tbody>\n",
       "    <tr>\n",
       "      <th>0</th>\n",
       "      <td>5849</td>\n",
       "      <td>0.0</td>\n",
       "      <td>NaN</td>\n",
       "      <td>360.0</td>\n",
       "      <td>1.0</td>\n",
       "    </tr>\n",
       "    <tr>\n",
       "      <th>1</th>\n",
       "      <td>4583</td>\n",
       "      <td>1508.0</td>\n",
       "      <td>128.0</td>\n",
       "      <td>360.0</td>\n",
       "      <td>1.0</td>\n",
       "    </tr>\n",
       "    <tr>\n",
       "      <th>2</th>\n",
       "      <td>3000</td>\n",
       "      <td>0.0</td>\n",
       "      <td>66.0</td>\n",
       "      <td>360.0</td>\n",
       "      <td>1.0</td>\n",
       "    </tr>\n",
       "    <tr>\n",
       "      <th>3</th>\n",
       "      <td>2583</td>\n",
       "      <td>2358.0</td>\n",
       "      <td>120.0</td>\n",
       "      <td>360.0</td>\n",
       "      <td>1.0</td>\n",
       "    </tr>\n",
       "    <tr>\n",
       "      <th>4</th>\n",
       "      <td>6000</td>\n",
       "      <td>0.0</td>\n",
       "      <td>141.0</td>\n",
       "      <td>360.0</td>\n",
       "      <td>1.0</td>\n",
       "    </tr>\n",
       "  </tbody>\n",
       "</table>\n",
       "</div>"
      ],
      "text/plain": [
       "   ApplicantIncome  CoapplicantIncome  LoanAmount  Loan_Amount_Term  \\\n",
       "0             5849                0.0         NaN             360.0   \n",
       "1             4583             1508.0       128.0             360.0   \n",
       "2             3000                0.0        66.0             360.0   \n",
       "3             2583             2358.0       120.0             360.0   \n",
       "4             6000                0.0       141.0             360.0   \n",
       "\n",
       "   Credit_History  \n",
       "0             1.0  \n",
       "1             1.0  \n",
       "2             1.0  \n",
       "3             1.0  \n",
       "4             1.0  "
      ]
     },
     "execution_count": 21,
     "metadata": {},
     "output_type": "execute_result"
    }
   ],
   "source": [
    "data[num_cols].head()\n"
   ]
  },
  {
   "cell_type": "code",
   "execution_count": null,
   "metadata": {
    "id": "7WLEx6gaH2hr"
   },
   "outputs": [],
   "source": []
  },
  {
   "cell_type": "markdown",
   "metadata": {
    "id": "aN_hoLBYIDx7"
   },
   "source": [
    "## Basic Data visualization: Univariate"
   ]
  },
  {
   "cell_type": "code",
   "execution_count": 22,
   "metadata": {
    "colab": {
     "base_uri": "https://localhost:8080/"
    },
    "id": "GNmtX3um9oJR",
    "outputId": "2d0e7a51-16f5-476a-eca5-8c9745634a4f"
   },
   "outputs": [
    {
     "data": {
      "text/plain": [
       "Y    422\n",
       "N    192\n",
       "Name: Loan_Status, dtype: int64"
      ]
     },
     "execution_count": 22,
     "metadata": {},
     "output_type": "execute_result"
    }
   ],
   "source": [
    "data['Loan_Status'].value_counts()"
   ]
  },
  {
   "cell_type": "code",
   "execution_count": 23,
   "metadata": {
    "colab": {
     "base_uri": "https://localhost:8080/",
     "height": 280
    },
    "id": "ufCVt1-DIO51",
    "outputId": "e7667088-39d9-40d0-b8b8-2a7ea5756268"
   },
   "outputs": [
    {
     "data": {
      "image/png": "[encoded data removed]",
      "text/plain": [
       "<Figure size 432x288 with 1 Axes>"
      ]
     },
     "metadata": {
      "needs_background": "light"
     },
     "output_type": "display_data"
    }
   ],
   "source": [
    "#Q: How many loans the company has approved in the past? \n",
    "sns.countplot(data=data, x='Loan_Status')\n",
    "plt.show()"
   ]
  },
  {
   "cell_type": "code",
   "execution_count": 24,
   "metadata": {
    "colab": {
     "base_uri": "https://localhost:8080/"
    },
    "id": "2rEd29HjJTrd",
    "outputId": "7f775130-219e-4961-f53b-dc1f9e993336"
   },
   "outputs": [
    {
     "data": {
      "text/plain": [
       "Y    422\n",
       "N    192\n",
       "Name: Loan_Status, dtype: int64"
      ]
     },
     "execution_count": 24,
     "metadata": {},
     "output_type": "execute_result"
    }
   ],
   "source": [
    "target = 'Loan_Status'\n",
    "data[target].value_counts()\n",
    "\n",
    "# Imbalanced data"
   ]
  },
  {
   "cell_type": "code",
   "execution_count": 25,
   "metadata": {
    "colab": {
     "base_uri": "https://localhost:8080/",
     "height": 237
    },
    "id": "YJaGsvMVJcpC",
    "outputId": "9c34f222-7cb3-4478-9a63-084083cc8f73"
   },
   "outputs": [
    {
     "data": {
      "image/png": "[encoded data removed]",
      "text/plain": [
       "<Figure size 1152x360 with 2 Axes>"
      ]
     },
     "metadata": {
      "needs_background": "light"
     },
     "output_type": "display_data"
    }
   ],
   "source": [
    "#Income of the applicant\n",
    "plt.subplot(121)\n",
    "sns.distplot(data[\"ApplicantIncome\"])\n",
    "\n",
    "plt.subplot(122)\n",
    "data[\"ApplicantIncome\"].plot.box(figsize=(16,5))\n",
    "plt.show()"
   ]
  },
  {
   "cell_type": "code",
   "execution_count": 26,
   "metadata": {
    "colab": {
     "base_uri": "https://localhost:8080/",
     "height": 279
    },
    "id": "mg6keQsT_PL5",
    "outputId": "101a7f37-813a-4ac7-9dae-4e1434de7a67"
   },
   "outputs": [
    {
     "data": {
      "image/png": "[encoded data removed]",
      "text/plain": [
       "<Figure size 432x288 with 1 Axes>"
      ]
     },
     "metadata": {
      "needs_background": "light"
     },
     "output_type": "display_data"
    }
   ],
   "source": [
    "plt.subplot(121)\n",
    "sns.distplot(np.log(data[\"ApplicantIncome\"]))\n",
    "\n",
    "plt.show()"
   ]
  },
  {
   "cell_type": "code",
   "execution_count": 27,
   "metadata": {
    "id": "Q7nuB5hLJvcs"
   },
   "outputs": [],
   "source": [
    "#Slice this data by Education"
   ]
  },
  {
   "cell_type": "code",
   "execution_count": 28,
   "metadata": {
    "colab": {
     "base_uri": "https://localhost:8080/",
     "height": 348
    },
    "id": "3B_FxWkKJy0M",
    "outputId": "10ca07eb-bc5b-4cdc-95e0-1cb7f25b4358"
   },
   "outputs": [
    {
     "data": {
      "image/png": "[encoded data removed]",
      "text/plain": [
       "<Figure size 576x360 with 1 Axes>"
      ]
     },
     "metadata": {
      "needs_background": "light"
     },
     "output_type": "display_data"
    }
   ],
   "source": [
    "data.boxplot(column='ApplicantIncome', by=\"Education\", figsize=(8,5))\n",
    "plt.suptitle(\"\")\n",
    "plt.show()"
   ]
  },
  {
   "cell_type": "code",
   "execution_count": 29,
   "metadata": {
    "colab": {
     "base_uri": "https://localhost:8080/",
     "height": 239
    },
    "id": "juKACrkOJ4gk",
    "outputId": "4b0918d7-3e74-428c-ccff-42e449cb7902"
   },
   "outputs": [
    {
     "data": {
      "image/png": "[encoded data removed]",
      "text/plain": [
       "<Figure size 1152x360 with 2 Axes>"
      ]
     },
     "metadata": {
      "needs_background": "light"
     },
     "output_type": "display_data"
    }
   ],
   "source": [
    "#co-applicant income\n",
    "plt.subplot(121)\n",
    "sns.distplot(data[\"CoapplicantIncome\"])\n",
    "\n",
    "plt.subplot(122)\n",
    "data[\"CoapplicantIncome\"].plot.box(figsize=(16,5))\n",
    "plt.show()"
   ]
  },
  {
   "cell_type": "code",
   "execution_count": 30,
   "metadata": {
    "id": "gwIudxlnKDvf"
   },
   "outputs": [],
   "source": [
    "#Relation between \"Loan_Status\" and \"Income\""
   ]
  },
  {
   "cell_type": "code",
   "execution_count": 31,
   "metadata": {
    "colab": {
     "base_uri": "https://localhost:8080/"
    },
    "id": "7lo0-XfwKFZU",
    "outputId": "9ea0bf02-6581-4708-8dc8-0a19d8cbc4aa"
   },
   "outputs": [
    {
     "data": {
      "text/plain": [
       "Loan_Status\n",
       "N    5446.078125\n",
       "Y    5384.068720\n",
       "Name: ApplicantIncome, dtype: float64"
      ]
     },
     "execution_count": 31,
     "metadata": {},
     "output_type": "execute_result"
    }
   ],
   "source": [
    "data.groupby(\"Loan_Status\").mean()['ApplicantIncome']"
   ]
  },
  {
   "cell_type": "code",
   "execution_count": 32,
   "metadata": {
    "colab": {
     "base_uri": "https://localhost:8080/",
     "height": 278
    },
    "id": "hPIXTsugKKcD",
    "outputId": "306290e1-9d70-4918-a7a0-236ff5cf0e64"
   },
   "outputs": [
    {
     "data": {
      "image/png": "[encoded data removed]",
      "text/plain": [
       "<Figure size 432x288 with 1 Axes>"
      ]
     },
     "metadata": {
      "needs_background": "light"
     },
     "output_type": "display_data"
    }
   ],
   "source": [
    "data.groupby(\"Loan_Status\").mean()['ApplicantIncome'].plot.bar()\n",
    "plt.ylabel(\"Mean Income of applicant\")\n",
    "plt.show()"
   ]
  },
  {
   "cell_type": "markdown",
   "metadata": {
    "id": "sp3SJkJmKaIm"
   },
   "source": [
    "## Simple Feature Engineering"
   ]
  },
  {
   "cell_type": "code",
   "execution_count": 33,
   "metadata": {
    "id": "19FtHN8LKZS_"
   },
   "outputs": [],
   "source": [
    "# Feature binning: income\n",
    "bins=[0,2500,4000,6000, 8000, 10000, 20000, 40000, 81000]\n",
    "group=['Low','Average','medium', 'H1', 'h2', 'h3', 'h4' , 'Very high']\n",
    "data['Income_bin']= pd.cut(data['ApplicantIncome'],bins,labels=group)"
   ]
  },
  {
   "cell_type": "code",
   "execution_count": 34,
   "metadata": {
    "colab": {
     "base_uri": "https://localhost:8080/"
    },
    "id": "8pJXVKGlKozz",
    "outputId": "1e452031-e882-4083-8a46-c9d561470382"
   },
   "outputs": [
    {
     "data": {
      "text/html": [
       "<div>\n",
       "<style scoped>\n",
       "    .dataframe tbody tr th:only-of-type {\n",
       "        vertical-align: middle;\n",
       "    }\n",
       "\n",
       "    .dataframe tbody tr th {\n",
       "        vertical-align: top;\n",
       "    }\n",
       "\n",
       "    .dataframe thead th {\n",
       "        text-align: right;\n",
       "    }\n",
       "</style>\n",
       "<table border=\"1\" class=\"dataframe\">\n",
       "  <thead>\n",
       "    <tr style=\"text-align: right;\">\n",
       "      <th></th>\n",
       "      <th>Gender</th>\n",
       "      <th>Married</th>\n",
       "      <th>Dependents</th>\n",
       "      <th>Education</th>\n",
       "      <th>Self_Employed</th>\n",
       "      <th>ApplicantIncome</th>\n",
       "      <th>CoapplicantIncome</th>\n",
       "      <th>LoanAmount</th>\n",
       "      <th>Loan_Amount_Term</th>\n",
       "      <th>Credit_History</th>\n",
       "      <th>Property_Area</th>\n",
       "      <th>Loan_Status</th>\n",
       "      <th>Income_bin</th>\n",
       "    </tr>\n",
       "  </thead>\n",
       "  <tbody>\n",
       "    <tr>\n",
       "      <th>0</th>\n",
       "      <td>Male</td>\n",
       "      <td>No</td>\n",
       "      <td>0</td>\n",
       "      <td>Graduate</td>\n",
       "      <td>No</td>\n",
       "      <td>5849</td>\n",
       "      <td>0.0</td>\n",
       "      <td>NaN</td>\n",
       "      <td>360.0</td>\n",
       "      <td>1.0</td>\n",
       "      <td>Urban</td>\n",
       "      <td>Y</td>\n",
       "      <td>medium</td>\n",
       "    </tr>\n",
       "    <tr>\n",
       "      <th>1</th>\n",
       "      <td>Male</td>\n",
       "      <td>Yes</td>\n",
       "      <td>1</td>\n",
       "      <td>Graduate</td>\n",
       "      <td>No</td>\n",
       "      <td>4583</td>\n",
       "      <td>1508.0</td>\n",
       "      <td>128.0</td>\n",
       "      <td>360.0</td>\n",
       "      <td>1.0</td>\n",
       "      <td>Rural</td>\n",
       "      <td>N</td>\n",
       "      <td>medium</td>\n",
       "    </tr>\n",
       "    <tr>\n",
       "      <th>2</th>\n",
       "      <td>Male</td>\n",
       "      <td>Yes</td>\n",
       "      <td>0</td>\n",
       "      <td>Graduate</td>\n",
       "      <td>Yes</td>\n",
       "      <td>3000</td>\n",
       "      <td>0.0</td>\n",
       "      <td>66.0</td>\n",
       "      <td>360.0</td>\n",
       "      <td>1.0</td>\n",
       "      <td>Urban</td>\n",
       "      <td>Y</td>\n",
       "      <td>Average</td>\n",
       "    </tr>\n",
       "    <tr>\n",
       "      <th>3</th>\n",
       "      <td>Male</td>\n",
       "      <td>Yes</td>\n",
       "      <td>0</td>\n",
       "      <td>Not Graduate</td>\n",
       "      <td>No</td>\n",
       "      <td>2583</td>\n",
       "      <td>2358.0</td>\n",
       "      <td>120.0</td>\n",
       "      <td>360.0</td>\n",
       "      <td>1.0</td>\n",
       "      <td>Urban</td>\n",
       "      <td>Y</td>\n",
       "      <td>Average</td>\n",
       "    </tr>\n",
       "    <tr>\n",
       "      <th>4</th>\n",
       "      <td>Male</td>\n",
       "      <td>No</td>\n",
       "      <td>0</td>\n",
       "      <td>Graduate</td>\n",
       "      <td>No</td>\n",
       "      <td>6000</td>\n",
       "      <td>0.0</td>\n",
       "      <td>141.0</td>\n",
       "      <td>360.0</td>\n",
       "      <td>1.0</td>\n",
       "      <td>Urban</td>\n",
       "      <td>Y</td>\n",
       "      <td>medium</td>\n",
       "    </tr>\n",
       "  </tbody>\n",
       "</table>\n",
       "</div>"
      ],
      "text/plain": [
       "  Gender Married Dependents     Education Self_Employed  ApplicantIncome  \\\n",
       "0   Male      No          0      Graduate            No             5849   \n",
       "1   Male     Yes          1      Graduate            No             4583   \n",
       "2   Male     Yes          0      Graduate           Yes             3000   \n",
       "3   Male     Yes          0  Not Graduate            No             2583   \n",
       "4   Male      No          0      Graduate            No             6000   \n",
       "\n",
       "   CoapplicantIncome  LoanAmount  Loan_Amount_Term  Credit_History  \\\n",
       "0                0.0         NaN             360.0             1.0   \n",
       "1             1508.0       128.0             360.0             1.0   \n",
       "2                0.0        66.0             360.0             1.0   \n",
       "3             2358.0       120.0             360.0             1.0   \n",
       "4                0.0       141.0             360.0             1.0   \n",
       "\n",
       "  Property_Area Loan_Status Income_bin  \n",
       "0         Urban           Y     medium  \n",
       "1         Rural           N     medium  \n",
       "2         Urban           Y    Average  \n",
       "3         Urban           Y    Average  \n",
       "4         Urban           Y     medium  "
      ]
     },
     "execution_count": 34,
     "metadata": {},
     "output_type": "execute_result"
    }
   ],
   "source": [
    "data.head()"
   ]
  },
  {
   "cell_type": "markdown",
   "metadata": {
    "id": "D8DZbk7hM4DF"
   },
   "source": [
    "### Incomes"
   ]
  },
  {
   "cell_type": "code",
   "execution_count": 35,
   "metadata": {
    "colab": {
     "base_uri": "https://localhost:8080/"
    },
    "id": "ugVaB8kKKsOF",
    "outputId": "f0695cd2-7f90-457d-f1ca-b272e1729197"
   },
   "outputs": [
    {
     "data": {
      "text/html": [
       "<div>\n",
       "<style scoped>\n",
       "    .dataframe tbody tr th:only-of-type {\n",
       "        vertical-align: middle;\n",
       "    }\n",
       "\n",
       "    .dataframe tbody tr th {\n",
       "        vertical-align: top;\n",
       "    }\n",
       "\n",
       "    .dataframe thead th {\n",
       "        text-align: right;\n",
       "    }\n",
       "</style>\n",
       "<table border=\"1\" class=\"dataframe\">\n",
       "  <thead>\n",
       "    <tr style=\"text-align: right;\">\n",
       "      <th>Loan_Status</th>\n",
       "      <th>N</th>\n",
       "      <th>Y</th>\n",
       "    </tr>\n",
       "    <tr>\n",
       "      <th>Income_bin</th>\n",
       "      <th></th>\n",
       "      <th></th>\n",
       "    </tr>\n",
       "  </thead>\n",
       "  <tbody>\n",
       "    <tr>\n",
       "      <th>Low</th>\n",
       "      <td>34</td>\n",
       "      <td>74</td>\n",
       "    </tr>\n",
       "    <tr>\n",
       "      <th>Average</th>\n",
       "      <td>67</td>\n",
       "      <td>159</td>\n",
       "    </tr>\n",
       "    <tr>\n",
       "      <th>medium</th>\n",
       "      <td>45</td>\n",
       "      <td>98</td>\n",
       "    </tr>\n",
       "    <tr>\n",
       "      <th>H1</th>\n",
       "      <td>20</td>\n",
       "      <td>34</td>\n",
       "    </tr>\n",
       "    <tr>\n",
       "      <th>h2</th>\n",
       "      <td>9</td>\n",
       "      <td>22</td>\n",
       "    </tr>\n",
       "    <tr>\n",
       "      <th>h3</th>\n",
       "      <td>13</td>\n",
       "      <td>27</td>\n",
       "    </tr>\n",
       "    <tr>\n",
       "      <th>h4</th>\n",
       "      <td>3</td>\n",
       "      <td>6</td>\n",
       "    </tr>\n",
       "    <tr>\n",
       "      <th>Very high</th>\n",
       "      <td>1</td>\n",
       "      <td>2</td>\n",
       "    </tr>\n",
       "  </tbody>\n",
       "</table>\n",
       "</div>"
      ],
      "text/plain": [
       "Loan_Status   N    Y\n",
       "Income_bin          \n",
       "Low          34   74\n",
       "Average      67  159\n",
       "medium       45   98\n",
       "H1           20   34\n",
       "h2            9   22\n",
       "h3           13   27\n",
       "h4            3    6\n",
       "Very high     1    2"
      ]
     },
     "execution_count": 35,
     "metadata": {},
     "output_type": "execute_result"
    }
   ],
   "source": [
    "#observed \n",
    "pd.crosstab(data[\"Income_bin\"],data[\"Loan_Status\"])\n"
   ]
  },
  {
   "cell_type": "code",
   "execution_count": 36,
   "metadata": {
    "colab": {
     "base_uri": "https://localhost:8080/"
    },
    "id": "EcFsZRhLK1Dl",
    "outputId": "c02ebad2-7c97-48fb-a11d-b909ec58e2ab"
   },
   "outputs": [
    {
     "data": {
      "image/png": "[encoded data removed]",
      "text/plain": [
       "<Figure size 288x288 with 1 Axes>"
      ]
     },
     "metadata": {
      "needs_background": "light"
     },
     "output_type": "display_data"
    }
   ],
   "source": [
    "Income_bin = pd.crosstab(data[\"Income_bin\"],data[\"Loan_Status\"])\n",
    "\n",
    "Income_bin.div(Income_bin.sum(axis=1),axis=0).plot(kind=\"bar\",figsize=(4,4))\n",
    "plt.xlabel(\"ApplicantIncome\")\n",
    "plt.ylabel(\"Percentage\")\n",
    "plt.show()\n",
    "\n",
    "#It can be inferred that Applicant income does not affect the chances of loan approval. Which seems wrong as per our understanding.\n"
   ]
  },
  {
   "cell_type": "code",
   "execution_count": 37,
   "metadata": {
    "id": "9cnxWVMaK4aM"
   },
   "outputs": [],
   "source": [
    "#co-appplicant income\n",
    "bins=[0,1000,3000,42000]\n",
    "group =['Low','Average','High']\n",
    "data['CoapplicantIncome_bin']=pd.cut(data[\"CoapplicantIncome\"],bins,labels=group)"
   ]
  },
  {
   "cell_type": "code",
   "execution_count": 38,
   "metadata": {
    "colab": {
     "base_uri": "https://localhost:8080/"
    },
    "id": "nqzTn_LiLxD_",
    "outputId": "88a93627-faec-4877-918d-91bc8c33e401"
   },
   "outputs": [
    {
     "data": {
      "text/html": [
       "<div>\n",
       "<style scoped>\n",
       "    .dataframe tbody tr th:only-of-type {\n",
       "        vertical-align: middle;\n",
       "    }\n",
       "\n",
       "    .dataframe tbody tr th {\n",
       "        vertical-align: top;\n",
       "    }\n",
       "\n",
       "    .dataframe thead th {\n",
       "        text-align: right;\n",
       "    }\n",
       "</style>\n",
       "<table border=\"1\" class=\"dataframe\">\n",
       "  <thead>\n",
       "    <tr style=\"text-align: right;\">\n",
       "      <th>Loan_Status</th>\n",
       "      <th>N</th>\n",
       "      <th>Y</th>\n",
       "    </tr>\n",
       "    <tr>\n",
       "      <th>CoapplicantIncome_bin</th>\n",
       "      <th></th>\n",
       "      <th></th>\n",
       "    </tr>\n",
       "  </thead>\n",
       "  <tbody>\n",
       "    <tr>\n",
       "      <th>Low</th>\n",
       "      <td>3</td>\n",
       "      <td>19</td>\n",
       "    </tr>\n",
       "    <tr>\n",
       "      <th>Average</th>\n",
       "      <td>61</td>\n",
       "      <td>161</td>\n",
       "    </tr>\n",
       "    <tr>\n",
       "      <th>High</th>\n",
       "      <td>32</td>\n",
       "      <td>65</td>\n",
       "    </tr>\n",
       "  </tbody>\n",
       "</table>\n",
       "</div>"
      ],
      "text/plain": [
       "Loan_Status             N    Y\n",
       "CoapplicantIncome_bin         \n",
       "Low                     3   19\n",
       "Average                61  161\n",
       "High                   32   65"
      ]
     },
     "execution_count": 38,
     "metadata": {},
     "output_type": "execute_result"
    }
   ],
   "source": [
    "pd.crosstab(data[\"CoapplicantIncome_bin\"],data[\"Loan_Status\"])\n"
   ]
  },
  {
   "cell_type": "code",
   "execution_count": 39,
   "metadata": {
    "colab": {
     "base_uri": "https://localhost:8080/"
    },
    "id": "Wt87woFXL-5q",
    "outputId": "319a856a-0ef2-4946-d08e-a297e20dcb1a"
   },
   "outputs": [
    {
     "data": {
      "image/png": "[encoded data removed]",
      "text/plain": [
       "<Figure size 288x288 with 1 Axes>"
      ]
     },
     "metadata": {
      "needs_background": "light"
     },
     "output_type": "display_data"
    }
   ],
   "source": [
    "CoapplicantIncome_Bin = pd.crosstab(data[\"CoapplicantIncome_bin\"],data[\"Loan_Status\"])\n",
    "CoapplicantIncome_Bin.div(CoapplicantIncome_Bin.sum(axis = 1),axis=0).plot(kind='bar',figsize=(4,4))\n",
    "plt.xlabel(\"CoapplicantIncome\")\n",
    "plt.ylabel(\"Percentage\")\n",
    "plt.show()\n",
    "\n",
    "## What's the problem here? Why co-applicant having low income is getting maximum loan approved?\n"
   ]
  },
  {
   "cell_type": "code",
   "execution_count": 40,
   "metadata": {
    "colab": {
     "base_uri": "https://localhost:8080/"
    },
    "id": "5Bc04XjgMHgb",
    "outputId": "fabcb7a3-058e-49a7-d39d-bcdca2cad2d2"
   },
   "outputs": [
    {
     "data": {
      "text/plain": [
       "0.0       273\n",
       "2500.0      5\n",
       "2083.0      5\n",
       "1666.0      5\n",
       "2250.0      3\n",
       "Name: CoapplicantIncome, dtype: int64"
      ]
     },
     "execution_count": 40,
     "metadata": {},
     "output_type": "execute_result"
    }
   ],
   "source": [
    "data['CoapplicantIncome'].value_counts().head()"
   ]
  },
  {
   "cell_type": "code",
   "execution_count": 41,
   "metadata": {
    "id": "oDO5pryhMK21"
   },
   "outputs": [],
   "source": [
    "# New feature:  total household income\n",
    "data[\"TotalIncome\"] = data[\"ApplicantIncome\"] + data[\"CoapplicantIncome\"]"
   ]
  },
  {
   "cell_type": "code",
   "execution_count": 42,
   "metadata": {
    "id": "hIyzygASMSB_"
   },
   "outputs": [],
   "source": [
    "bins = [0,3000,5000,8000,81000]\n",
    "group = ['Low','Average','High','Very High']\n",
    "data[\"TotalIncome_bin\"] = pd.cut(data[\"TotalIncome\"],bins,labels=group)"
   ]
  },
  {
   "cell_type": "code",
   "execution_count": 43,
   "metadata": {
    "colab": {
     "base_uri": "https://localhost:8080/"
    },
    "id": "oKJdfrnrMUlz",
    "outputId": "5cb95cf5-cc04-40f2-c92c-84d3957581de"
   },
   "outputs": [
    {
     "data": {
      "text/html": [
       "<div>\n",
       "<style scoped>\n",
       "    .dataframe tbody tr th:only-of-type {\n",
       "        vertical-align: middle;\n",
       "    }\n",
       "\n",
       "    .dataframe tbody tr th {\n",
       "        vertical-align: top;\n",
       "    }\n",
       "\n",
       "    .dataframe thead th {\n",
       "        text-align: right;\n",
       "    }\n",
       "</style>\n",
       "<table border=\"1\" class=\"dataframe\">\n",
       "  <thead>\n",
       "    <tr style=\"text-align: right;\">\n",
       "      <th>Loan_Status</th>\n",
       "      <th>N</th>\n",
       "      <th>Y</th>\n",
       "    </tr>\n",
       "    <tr>\n",
       "      <th>TotalIncome_bin</th>\n",
       "      <th></th>\n",
       "      <th></th>\n",
       "    </tr>\n",
       "  </thead>\n",
       "  <tbody>\n",
       "    <tr>\n",
       "      <th>Low</th>\n",
       "      <td>20</td>\n",
       "      <td>27</td>\n",
       "    </tr>\n",
       "    <tr>\n",
       "      <th>Average</th>\n",
       "      <td>69</td>\n",
       "      <td>154</td>\n",
       "    </tr>\n",
       "    <tr>\n",
       "      <th>High</th>\n",
       "      <td>61</td>\n",
       "      <td>151</td>\n",
       "    </tr>\n",
       "    <tr>\n",
       "      <th>Very High</th>\n",
       "      <td>42</td>\n",
       "      <td>90</td>\n",
       "    </tr>\n",
       "  </tbody>\n",
       "</table>\n",
       "</div>"
      ],
      "text/plain": [
       "Loan_Status       N    Y\n",
       "TotalIncome_bin         \n",
       "Low              20   27\n",
       "Average          69  154\n",
       "High             61  151\n",
       "Very High        42   90"
      ]
     },
     "execution_count": 43,
     "metadata": {},
     "output_type": "execute_result"
    }
   ],
   "source": [
    "pd.crosstab(data[\"TotalIncome_bin\"], data[\"Loan_Status\"])\n"
   ]
  },
  {
   "cell_type": "code",
   "execution_count": 44,
   "metadata": {
    "colab": {
     "base_uri": "https://localhost:8080/"
    },
    "id": "Au_kXNNzMWlD",
    "outputId": "a94915c4-e4cd-4823-8c03-78246d0ae7a3"
   },
   "outputs": [
    {
     "data": {
      "image/png": "[encoded data removed]",
      "text/plain": [
       "<Figure size 504x360 with 1 Axes>"
      ]
     },
     "metadata": {
      "needs_background": "light"
     },
     "output_type": "display_data"
    }
   ],
   "source": [
    "TotalIncome = pd.crosstab(data[\"TotalIncome_bin\"],data[\"Loan_Status\"])\n",
    "TotalIncome.div(TotalIncome.sum(axis = 1),axis=0).plot(kind='bar', figsize=(7,5))\n",
    "plt.xlabel(\"TotalIncome\")\n",
    "plt.ylabel(\"Percentage\")\n",
    "plt.show()\n",
    "\n",
    "# Observation: We can see that Proportion of loans getting approved for \n",
    "# applicants having low Total_Income is very less as compared to that of applicants \n",
    "# with Average, High and Very High Income."
   ]
  },
  {
   "cell_type": "code",
   "execution_count": 45,
   "metadata": {
    "id": "GFnLeoxbMoEl"
   },
   "outputs": [],
   "source": [
    "data = data.drop([\"Income_bin\",\"CoapplicantIncome_bin\",\"TotalIncome_bin\"],axis=1)"
   ]
  },
  {
   "cell_type": "markdown",
   "metadata": {
    "id": "f2aROZfGMz9t"
   },
   "source": [
    "### Loan Amount and Loan Term"
   ]
  },
  {
   "cell_type": "code",
   "execution_count": 46,
   "metadata": {
    "colab": {
     "base_uri": "https://localhost:8080/"
    },
    "id": "VotnESHPMzb0",
    "outputId": "033d2643-1978-4f64-fff2-7449af91ba94"
   },
   "outputs": [
    {
     "data": {
      "text/plain": [
       "360.0    512\n",
       "180.0     44\n",
       "480.0     15\n",
       "300.0     13\n",
       "240.0      4\n",
       "84.0       4\n",
       "120.0      3\n",
       "60.0       2\n",
       "36.0       2\n",
       "12.0       1\n",
       "Name: Loan_Amount_Term, dtype: int64"
      ]
     },
     "execution_count": 46,
     "metadata": {},
     "output_type": "execute_result"
    }
   ],
   "source": [
    "data['Loan_Amount_Term'].value_counts()\n"
   ]
  },
  {
   "cell_type": "code",
   "execution_count": 47,
   "metadata": {
    "id": "2xSkv737MvZQ"
   },
   "outputs": [],
   "source": [
    "data['Loan_Amount_Term'] = (data['Loan_Amount_Term']/12).astype('float')\n"
   ]
  },
  {
   "cell_type": "code",
   "execution_count": 48,
   "metadata": {
    "colab": {
     "base_uri": "https://localhost:8080/"
    },
    "id": "q1F5pukgM_sy",
    "outputId": "b5ea97da-8033-41b2-aed3-b4c7f8ca80ee"
   },
   "outputs": [
    {
     "data": {
      "image/png": "[encoded data removed]",
      "text/plain": [
       "<Figure size 432x288 with 1 Axes>"
      ]
     },
     "metadata": {
      "needs_background": "light"
     },
     "output_type": "display_data"
    }
   ],
   "source": [
    "sns.countplot(x='Loan_Amount_Term', data=data)\n",
    "plt.xlabel(\"Term in years\")\n",
    "plt.show()\n",
    "# Observation: We can clearly see that more than 90% of the loans were applied for 30 years.\n",
    "\n"
   ]
  },
  {
   "cell_type": "code",
   "execution_count": 49,
   "metadata": {
    "colab": {
     "base_uri": "https://localhost:8080/"
    },
    "id": "K4uMgmkQNE39",
    "outputId": "90b8f22b-6481-4c5d-b714-6ce325a1a24b"
   },
   "outputs": [
    {
     "data": {
      "image/png": "[encoded data removed]",
      "text/plain": [
       "<Figure size 1152x360 with 2 Axes>"
      ]
     },
     "metadata": {
      "needs_background": "light"
     },
     "output_type": "display_data"
    }
   ],
   "source": [
    "### Distribution of \"LoanAmount\" variable :\n",
    "\n",
    "plt.figure(figsize=(16,5))\n",
    "plt.subplot(121)\n",
    "sns.distplot(data['LoanAmount']);\n",
    "\n",
    "plt.subplot(122)\n",
    "sns.boxplot(data=data, x='Loan_Status', y = 'LoanAmount')\n",
    "\n",
    "plt.show()"
   ]
  },
  {
   "cell_type": "code",
   "execution_count": 50,
   "metadata": {
    "id": "lOiY60MoNV91"
   },
   "outputs": [],
   "source": [
    "# Approximate calc: ignoring interest rates as we dont know that.\n",
    "data['Loan_Amount_per_year']  = data['LoanAmount']/data['Loan_Amount_Term']\n"
   ]
  },
  {
   "cell_type": "code",
   "execution_count": 51,
   "metadata": {
    "colab": {
     "base_uri": "https://localhost:8080/"
    },
    "id": "GnRzoqOPNduE",
    "outputId": "c915ed26-6dc0-44c9-da5a-b05daba7434a"
   },
   "outputs": [
    {
     "data": {
      "image/png": "[encoded data removed]",
      "text/plain": [
       "<Figure size 1152x360 with 2 Axes>"
      ]
     },
     "metadata": {
      "needs_background": "light"
     },
     "output_type": "display_data"
    }
   ],
   "source": [
    "plt.figure(figsize=(16,5))\n",
    "plt.subplot(121)\n",
    "sns.distplot(data['Loan_Amount_per_year']);\n",
    "\n",
    "plt.subplot(122)\n",
    "sns.boxplot(data=data, x='Loan_Status', y = 'Loan_Amount_per_year')\n",
    "\n",
    "plt.show()"
   ]
  },
  {
   "cell_type": "code",
   "execution_count": 52,
   "metadata": {
    "colab": {
     "base_uri": "https://localhost:8080/",
     "height": 338
    },
    "id": "9Z9y-IcANrE4",
    "outputId": "4a278302-258a-41d5-ff04-1c1c4c5e5e22"
   },
   "outputs": [
    {
     "data": {
      "image/png": "[encoded data removed]",
      "text/plain": [
       "<Figure size 1152x360 with 2 Axes>"
      ]
     },
     "metadata": {
      "needs_background": "light"
     },
     "output_type": "display_data"
    }
   ],
   "source": [
    "# log transform\n",
    "plt.figure(figsize=(16,5))\n",
    "plt.subplot(121)\n",
    "log_loanAmount = np.log(data['Loan_Amount_per_year'])\n",
    "sns.distplot(log_loanAmount)\n",
    "\n",
    "plt.subplot(122)\n",
    "sns.boxplot(data=data, x='Loan_Status', y = log_loanAmount)\n",
    "\n",
    "plt.show()"
   ]
  },
  {
   "cell_type": "code",
   "execution_count": 53,
   "metadata": {},
   "outputs": [
    {
     "data": {
      "text/html": [
       "<div>\n",
       "<style scoped>\n",
       "    .dataframe tbody tr th:only-of-type {\n",
       "        vertical-align: middle;\n",
       "    }\n",
       "\n",
       "    .dataframe tbody tr th {\n",
       "        vertical-align: top;\n",
       "    }\n",
       "\n",
       "    .dataframe thead th {\n",
       "        text-align: right;\n",
       "    }\n",
       "</style>\n",
       "<table border=\"1\" class=\"dataframe\">\n",
       "  <thead>\n",
       "    <tr style=\"text-align: right;\">\n",
       "      <th></th>\n",
       "      <th>Gender</th>\n",
       "      <th>Married</th>\n",
       "      <th>Dependents</th>\n",
       "      <th>Education</th>\n",
       "      <th>Self_Employed</th>\n",
       "      <th>ApplicantIncome</th>\n",
       "      <th>CoapplicantIncome</th>\n",
       "      <th>LoanAmount</th>\n",
       "      <th>Loan_Amount_Term</th>\n",
       "      <th>Credit_History</th>\n",
       "      <th>Property_Area</th>\n",
       "      <th>Loan_Status</th>\n",
       "      <th>TotalIncome</th>\n",
       "      <th>Loan_Amount_per_year</th>\n",
       "    </tr>\n",
       "  </thead>\n",
       "  <tbody>\n",
       "    <tr>\n",
       "      <th>0</th>\n",
       "      <td>Male</td>\n",
       "      <td>No</td>\n",
       "      <td>0</td>\n",
       "      <td>Graduate</td>\n",
       "      <td>No</td>\n",
       "      <td>5849</td>\n",
       "      <td>0.0</td>\n",
       "      <td>NaN</td>\n",
       "      <td>30.0</td>\n",
       "      <td>1.0</td>\n",
       "      <td>Urban</td>\n",
       "      <td>Y</td>\n",
       "      <td>5849.0</td>\n",
       "      <td>NaN</td>\n",
       "    </tr>\n",
       "    <tr>\n",
       "      <th>1</th>\n",
       "      <td>Male</td>\n",
       "      <td>Yes</td>\n",
       "      <td>1</td>\n",
       "      <td>Graduate</td>\n",
       "      <td>No</td>\n",
       "      <td>4583</td>\n",
       "      <td>1508.0</td>\n",
       "      <td>128.0</td>\n",
       "      <td>30.0</td>\n",
       "      <td>1.0</td>\n",
       "      <td>Rural</td>\n",
       "      <td>N</td>\n",
       "      <td>6091.0</td>\n",
       "      <td>4.266667</td>\n",
       "    </tr>\n",
       "    <tr>\n",
       "      <th>2</th>\n",
       "      <td>Male</td>\n",
       "      <td>Yes</td>\n",
       "      <td>0</td>\n",
       "      <td>Graduate</td>\n",
       "      <td>Yes</td>\n",
       "      <td>3000</td>\n",
       "      <td>0.0</td>\n",
       "      <td>66.0</td>\n",
       "      <td>30.0</td>\n",
       "      <td>1.0</td>\n",
       "      <td>Urban</td>\n",
       "      <td>Y</td>\n",
       "      <td>3000.0</td>\n",
       "      <td>2.200000</td>\n",
       "    </tr>\n",
       "    <tr>\n",
       "      <th>3</th>\n",
       "      <td>Male</td>\n",
       "      <td>Yes</td>\n",
       "      <td>0</td>\n",
       "      <td>Not Graduate</td>\n",
       "      <td>No</td>\n",
       "      <td>2583</td>\n",
       "      <td>2358.0</td>\n",
       "      <td>120.0</td>\n",
       "      <td>30.0</td>\n",
       "      <td>1.0</td>\n",
       "      <td>Urban</td>\n",
       "      <td>Y</td>\n",
       "      <td>4941.0</td>\n",
       "      <td>4.000000</td>\n",
       "    </tr>\n",
       "    <tr>\n",
       "      <th>4</th>\n",
       "      <td>Male</td>\n",
       "      <td>No</td>\n",
       "      <td>0</td>\n",
       "      <td>Graduate</td>\n",
       "      <td>No</td>\n",
       "      <td>6000</td>\n",
       "      <td>0.0</td>\n",
       "      <td>141.0</td>\n",
       "      <td>30.0</td>\n",
       "      <td>1.0</td>\n",
       "      <td>Urban</td>\n",
       "      <td>Y</td>\n",
       "      <td>6000.0</td>\n",
       "      <td>4.700000</td>\n",
       "    </tr>\n",
       "  </tbody>\n",
       "</table>\n",
       "</div>"
      ],
      "text/plain": [
       "  Gender Married Dependents     Education Self_Employed  ApplicantIncome  \\\n",
       "0   Male      No          0      Graduate            No             5849   \n",
       "1   Male     Yes          1      Graduate            No             4583   \n",
       "2   Male     Yes          0      Graduate           Yes             3000   \n",
       "3   Male     Yes          0  Not Graduate            No             2583   \n",
       "4   Male      No          0      Graduate            No             6000   \n",
       "\n",
       "   CoapplicantIncome  LoanAmount  Loan_Amount_Term  Credit_History  \\\n",
       "0                0.0         NaN              30.0             1.0   \n",
       "1             1508.0       128.0              30.0             1.0   \n",
       "2                0.0        66.0              30.0             1.0   \n",
       "3             2358.0       120.0              30.0             1.0   \n",
       "4                0.0       141.0              30.0             1.0   \n",
       "\n",
       "  Property_Area Loan_Status  TotalIncome  Loan_Amount_per_year  \n",
       "0         Urban           Y       5849.0                   NaN  \n",
       "1         Rural           N       6091.0              4.266667  \n",
       "2         Urban           Y       3000.0              2.200000  \n",
       "3         Urban           Y       4941.0              4.000000  \n",
       "4         Urban           Y       6000.0              4.700000  "
      ]
     },
     "execution_count": 53,
     "metadata": {},
     "output_type": "execute_result"
    }
   ],
   "source": [
    "data.head()"
   ]
  },
  {
   "cell_type": "code",
   "execution_count": 54,
   "metadata": {
    "id": "UFT72uOzY9FG"
   },
   "outputs": [],
   "source": [
    "# Feature : Calculate the EMI based on the Loan Amount Per year.\n",
    "data['EMI'] = data['Loan_Amount_per_year']*1000/12"
   ]
  },
  {
   "cell_type": "code",
   "execution_count": 55,
   "metadata": {
    "id": "XIWTmwhDZEcN"
   },
   "outputs": [],
   "source": [
    "#Feature : Able_to_pay_EMI\n",
    "data['Able_to_pay_EMI'] = (data['TotalIncome']*0.1 > data['EMI']).astype('int')\n"
   ]
  },
  {
   "cell_type": "code",
   "execution_count": 56,
   "metadata": {},
   "outputs": [
    {
     "data": {
      "text/html": [
       "<div>\n",
       "<style scoped>\n",
       "    .dataframe tbody tr th:only-of-type {\n",
       "        vertical-align: middle;\n",
       "    }\n",
       "\n",
       "    .dataframe tbody tr th {\n",
       "        vertical-align: top;\n",
       "    }\n",
       "\n",
       "    .dataframe thead th {\n",
       "        text-align: right;\n",
       "    }\n",
       "</style>\n",
       "<table border=\"1\" class=\"dataframe\">\n",
       "  <thead>\n",
       "    <tr style=\"text-align: right;\">\n",
       "      <th></th>\n",
       "      <th>Gender</th>\n",
       "      <th>Married</th>\n",
       "      <th>Dependents</th>\n",
       "      <th>Education</th>\n",
       "      <th>Self_Employed</th>\n",
       "      <th>ApplicantIncome</th>\n",
       "      <th>CoapplicantIncome</th>\n",
       "      <th>LoanAmount</th>\n",
       "      <th>Loan_Amount_Term</th>\n",
       "      <th>Credit_History</th>\n",
       "      <th>Property_Area</th>\n",
       "      <th>Loan_Status</th>\n",
       "      <th>TotalIncome</th>\n",
       "      <th>Loan_Amount_per_year</th>\n",
       "      <th>EMI</th>\n",
       "      <th>Able_to_pay_EMI</th>\n",
       "    </tr>\n",
       "  </thead>\n",
       "  <tbody>\n",
       "    <tr>\n",
       "      <th>0</th>\n",
       "      <td>Male</td>\n",
       "      <td>No</td>\n",
       "      <td>0</td>\n",
       "      <td>Graduate</td>\n",
       "      <td>No</td>\n",
       "      <td>5849</td>\n",
       "      <td>0.0</td>\n",
       "      <td>NaN</td>\n",
       "      <td>30.0</td>\n",
       "      <td>1.0</td>\n",
       "      <td>Urban</td>\n",
       "      <td>Y</td>\n",
       "      <td>5849.0</td>\n",
       "      <td>NaN</td>\n",
       "      <td>NaN</td>\n",
       "      <td>0</td>\n",
       "    </tr>\n",
       "    <tr>\n",
       "      <th>1</th>\n",
       "      <td>Male</td>\n",
       "      <td>Yes</td>\n",
       "      <td>1</td>\n",
       "      <td>Graduate</td>\n",
       "      <td>No</td>\n",
       "      <td>4583</td>\n",
       "      <td>1508.0</td>\n",
       "      <td>128.0</td>\n",
       "      <td>30.0</td>\n",
       "      <td>1.0</td>\n",
       "      <td>Rural</td>\n",
       "      <td>N</td>\n",
       "      <td>6091.0</td>\n",
       "      <td>4.266667</td>\n",
       "      <td>355.555556</td>\n",
       "      <td>1</td>\n",
       "    </tr>\n",
       "    <tr>\n",
       "      <th>2</th>\n",
       "      <td>Male</td>\n",
       "      <td>Yes</td>\n",
       "      <td>0</td>\n",
       "      <td>Graduate</td>\n",
       "      <td>Yes</td>\n",
       "      <td>3000</td>\n",
       "      <td>0.0</td>\n",
       "      <td>66.0</td>\n",
       "      <td>30.0</td>\n",
       "      <td>1.0</td>\n",
       "      <td>Urban</td>\n",
       "      <td>Y</td>\n",
       "      <td>3000.0</td>\n",
       "      <td>2.200000</td>\n",
       "      <td>183.333333</td>\n",
       "      <td>1</td>\n",
       "    </tr>\n",
       "    <tr>\n",
       "      <th>3</th>\n",
       "      <td>Male</td>\n",
       "      <td>Yes</td>\n",
       "      <td>0</td>\n",
       "      <td>Not Graduate</td>\n",
       "      <td>No</td>\n",
       "      <td>2583</td>\n",
       "      <td>2358.0</td>\n",
       "      <td>120.0</td>\n",
       "      <td>30.0</td>\n",
       "      <td>1.0</td>\n",
       "      <td>Urban</td>\n",
       "      <td>Y</td>\n",
       "      <td>4941.0</td>\n",
       "      <td>4.000000</td>\n",
       "      <td>333.333333</td>\n",
       "      <td>1</td>\n",
       "    </tr>\n",
       "    <tr>\n",
       "      <th>4</th>\n",
       "      <td>Male</td>\n",
       "      <td>No</td>\n",
       "      <td>0</td>\n",
       "      <td>Graduate</td>\n",
       "      <td>No</td>\n",
       "      <td>6000</td>\n",
       "      <td>0.0</td>\n",
       "      <td>141.0</td>\n",
       "      <td>30.0</td>\n",
       "      <td>1.0</td>\n",
       "      <td>Urban</td>\n",
       "      <td>Y</td>\n",
       "      <td>6000.0</td>\n",
       "      <td>4.700000</td>\n",
       "      <td>391.666667</td>\n",
       "      <td>1</td>\n",
       "    </tr>\n",
       "  </tbody>\n",
       "</table>\n",
       "</div>"
      ],
      "text/plain": [
       "  Gender Married Dependents     Education Self_Employed  ApplicantIncome  \\\n",
       "0   Male      No          0      Graduate            No             5849   \n",
       "1   Male     Yes          1      Graduate            No             4583   \n",
       "2   Male     Yes          0      Graduate           Yes             3000   \n",
       "3   Male     Yes          0  Not Graduate            No             2583   \n",
       "4   Male      No          0      Graduate            No             6000   \n",
       "\n",
       "   CoapplicantIncome  LoanAmount  Loan_Amount_Term  Credit_History  \\\n",
       "0                0.0         NaN              30.0             1.0   \n",
       "1             1508.0       128.0              30.0             1.0   \n",
       "2                0.0        66.0              30.0             1.0   \n",
       "3             2358.0       120.0              30.0             1.0   \n",
       "4                0.0       141.0              30.0             1.0   \n",
       "\n",
       "  Property_Area Loan_Status  TotalIncome  Loan_Amount_per_year         EMI  \\\n",
       "0         Urban           Y       5849.0                   NaN         NaN   \n",
       "1         Rural           N       6091.0              4.266667  355.555556   \n",
       "2         Urban           Y       3000.0              2.200000  183.333333   \n",
       "3         Urban           Y       4941.0              4.000000  333.333333   \n",
       "4         Urban           Y       6000.0              4.700000  391.666667   \n",
       "\n",
       "   Able_to_pay_EMI  \n",
       "0                0  \n",
       "1                1  \n",
       "2                1  \n",
       "3                1  \n",
       "4                1  "
      ]
     },
     "execution_count": 56,
     "metadata": {},
     "output_type": "execute_result"
    }
   ],
   "source": [
    "data.head()"
   ]
  },
  {
   "cell_type": "code",
   "execution_count": 57,
   "metadata": {
    "colab": {
     "base_uri": "https://localhost:8080/",
     "height": 297
    },
    "id": "6x0wR3DnZOck",
    "outputId": "3b7bdbb8-06e1-4908-91d9-3a806fee862e"
   },
   "outputs": [
    {
     "data": {
      "text/plain": [
       "<AxesSubplot:xlabel='Able_to_pay_EMI', ylabel='count'>"
      ]
     },
     "execution_count": 57,
     "metadata": {},
     "output_type": "execute_result"
    },
    {
     "data": {
      "image/png": "[encoded data removed]",
      "text/plain": [
       "<Figure size 432x288 with 1 Axes>"
      ]
     },
     "metadata": {
      "needs_background": "light"
     },
     "output_type": "display_data"
    }
   ],
   "source": [
    "sns.countplot(x='Able_to_pay_EMI', data = data, hue = 'Loan_Status')\n",
    "#Observation:\n",
    "###There is 50% chance that you may get the loan approved if you cannot pay the EMI.\n",
    "###But there, is a 72% chance that you may get the loan approved if you can pay the EMI."
   ]
  },
  {
   "cell_type": "code",
   "execution_count": null,
   "metadata": {
    "id": "1Owk22AKZY6H"
   },
   "outputs": [],
   "source": []
  },
  {
   "cell_type": "markdown",
   "metadata": {
    "id": "IpP2KevSZdLd"
   },
   "source": [
    "### Dependents and Loan **approval**"
   ]
  },
  {
   "cell_type": "code",
   "execution_count": 58,
   "metadata": {
    "colab": {
     "base_uri": "https://localhost:8080/"
    },
    "id": "0eGVXudIZgMy",
    "outputId": "78e8eb02-8e5a-4689-b716-0fc2e93019f8"
   },
   "outputs": [
    {
     "data": {
      "text/plain": [
       "0     345\n",
       "1     102\n",
       "2     101\n",
       "3+     51\n",
       "Name: Dependents, dtype: int64"
      ]
     },
     "execution_count": 58,
     "metadata": {},
     "output_type": "execute_result"
    }
   ],
   "source": [
    "data['Dependents'].value_counts()\n"
   ]
  },
  {
   "cell_type": "code",
   "execution_count": 59,
   "metadata": {
    "id": "n30e47EOZkn9"
   },
   "outputs": [],
   "source": [
    "data['Dependents'].replace('3+',3,inplace=True)\n"
   ]
  },
  {
   "cell_type": "code",
   "execution_count": 60,
   "metadata": {
    "id": "0zG8oXRiZm-9"
   },
   "outputs": [],
   "source": [
    "data['Dependents'] = data['Dependents'].astype('float')\n"
   ]
  },
  {
   "cell_type": "code",
   "execution_count": 61,
   "metadata": {
    "colab": {
     "base_uri": "https://localhost:8080/"
    },
    "id": "MY8soDYeZpO8",
    "outputId": "ec3cf223-f7af-4c9d-9d52-c1f3d881a965"
   },
   "outputs": [
    {
     "data": {
      "text/plain": [
       "Gender                   object\n",
       "Married                  object\n",
       "Dependents              float64\n",
       "Education                object\n",
       "Self_Employed            object\n",
       "ApplicantIncome           int64\n",
       "CoapplicantIncome       float64\n",
       "LoanAmount              float64\n",
       "Loan_Amount_Term        float64\n",
       "Credit_History          float64\n",
       "Property_Area            object\n",
       "Loan_Status              object\n",
       "TotalIncome             float64\n",
       "Loan_Amount_per_year    float64\n",
       "EMI                     float64\n",
       "Able_to_pay_EMI           int64\n",
       "dtype: object"
      ]
     },
     "execution_count": 61,
     "metadata": {},
     "output_type": "execute_result"
    }
   ],
   "source": [
    "data.dtypes"
   ]
  },
  {
   "cell_type": "code",
   "execution_count": 62,
   "metadata": {
    "colab": {
     "base_uri": "https://localhost:8080/",
     "height": 296
    },
    "id": "HapHdndTZsCQ",
    "outputId": "b1cfcef9-14ff-48a2-f943-7d2c5b55c966"
   },
   "outputs": [
    {
     "data": {
      "text/plain": [
       "<AxesSubplot:xlabel='Dependents', ylabel='count'>"
      ]
     },
     "execution_count": 62,
     "metadata": {},
     "output_type": "execute_result"
    },
    {
     "data": {
      "image/png": "[encoded data removed]",
      "text/plain": [
       "<Figure size 432x288 with 1 Axes>"
      ]
     },
     "metadata": {
      "needs_background": "light"
     },
     "output_type": "display_data"
    }
   ],
   "source": [
    "sns.countplot(data =data, x = 'Dependents', hue = 'Loan_Status')\n",
    "\n",
    "#Observations:\n",
    "\n",
    "## No Dependents and 2 dependents will helps you get loan easily."
   ]
  },
  {
   "cell_type": "markdown",
   "metadata": {
    "id": "zX5gUc2baAZ_"
   },
   "source": []
  },
  {
   "cell_type": "markdown",
   "metadata": {
    "id": "FxqCjW7laETR"
   },
   "source": [
    "### Credit History vs Loan Approval"
   ]
  },
  {
   "cell_type": "code",
   "execution_count": 63,
   "metadata": {
    "colab": {
     "base_uri": "https://localhost:8080/"
    },
    "id": "f6ip69ZkaJO8",
    "outputId": "59c011b6-7d8c-42aa-b4b1-dcee7f740a28"
   },
   "outputs": [
    {
     "data": {
      "text/plain": [
       "1.0    475\n",
       "0.0     89\n",
       "Name: Credit_History, dtype: int64"
      ]
     },
     "execution_count": 63,
     "metadata": {},
     "output_type": "execute_result"
    }
   ],
   "source": [
    "data['Credit_History'].value_counts()\n"
   ]
  },
  {
   "cell_type": "code",
   "execution_count": 64,
   "metadata": {
    "colab": {
     "base_uri": "https://localhost:8080/"
    },
    "id": "mezoRK5waMTr",
    "outputId": "1da0fd0b-7187-4e75-c2b0-5e80ba80461e"
   },
   "outputs": [
    {
     "data": {
      "text/plain": [
       "<AxesSubplot:xlabel='Credit_History', ylabel='count'>"
      ]
     },
     "execution_count": 64,
     "metadata": {},
     "output_type": "execute_result"
    },
    {
     "data": {
      "image/png": "[encoded data removed]",
      "text/plain": [
       "<Figure size 432x288 with 1 Axes>"
      ]
     },
     "metadata": {
      "needs_background": "light"
     },
     "output_type": "display_data"
    }
   ],
   "source": [
    "sns.countplot(data =data, x = 'Credit_History', hue = 'Loan_Status')\n",
    "#Observation:\n",
    "## We can clearly see that the approval rate is 80% if your credit history is aligned with the guidlines.\n",
    "## Hence this is the most important question that can be considered."
   ]
  },
  {
   "cell_type": "code",
   "execution_count": null,
   "metadata": {
    "id": "sWEG79-RbOND"
   },
   "outputs": [],
   "source": []
  },
  {
   "cell_type": "markdown",
   "metadata": {
    "id": "dpRmBB0sbPfh"
   },
   "source": [
    "## Missing Values & Data Cleaning"
   ]
  },
  {
   "cell_type": "code",
   "execution_count": 65,
   "metadata": {
    "colab": {
     "base_uri": "https://localhost:8080/"
    },
    "id": "SkB8xczxbRc2",
    "outputId": "1127fba4-e45f-4eb3-f646-f08e48e96773"
   },
   "outputs": [
    {
     "data": {
      "text/plain": [
       "Gender                  13\n",
       "Married                  3\n",
       "Dependents              15\n",
       "Education                0\n",
       "Self_Employed           32\n",
       "ApplicantIncome          0\n",
       "CoapplicantIncome        0\n",
       "LoanAmount              22\n",
       "Loan_Amount_Term        14\n",
       "Credit_History          50\n",
       "Property_Area            0\n",
       "Loan_Status              0\n",
       "TotalIncome              0\n",
       "Loan_Amount_per_year    36\n",
       "EMI                     36\n",
       "Able_to_pay_EMI          0\n",
       "dtype: int64"
      ]
     },
     "execution_count": 65,
     "metadata": {},
     "output_type": "execute_result"
    }
   ],
   "source": [
    "data.isna().sum()\n"
   ]
  },
  {
   "cell_type": "code",
   "execution_count": 66,
   "metadata": {
    "id": "_ZaDNwb8bpQf"
   },
   "outputs": [],
   "source": [
    "# Function to create a data frame with number and percentage of missing data in a data frame\n",
    "\n",
    "def missing_to_df(df):\n",
    "    #Number and percentage of missing data in training data set for each column\n",
    "    total_missing_df = df.isnull().sum().sort_values(ascending =False)\n",
    "    percent_missing_df = (df.isnull().sum()/df.isnull().count()*100).sort_values(ascending=False)\n",
    "    missing_data_df = pd.concat([total_missing_df, percent_missing_df], axis=1, keys=['Total', 'Percent'])\n",
    "    return missing_data_df"
   ]
  },
  {
   "cell_type": "code",
   "execution_count": 67,
   "metadata": {
    "colab": {
     "base_uri": "https://localhost:8080/",
     "height": 332
    },
    "id": "_ZYMl6k8bp7h",
    "outputId": "95a11f00-1a08-465a-c18e-042498144621"
   },
   "outputs": [
    {
     "data": {
      "text/html": [
       "<div>\n",
       "<style scoped>\n",
       "    .dataframe tbody tr th:only-of-type {\n",
       "        vertical-align: middle;\n",
       "    }\n",
       "\n",
       "    .dataframe tbody tr th {\n",
       "        vertical-align: top;\n",
       "    }\n",
       "\n",
       "    .dataframe thead th {\n",
       "        text-align: right;\n",
       "    }\n",
       "</style>\n",
       "<table border=\"1\" class=\"dataframe\">\n",
       "  <thead>\n",
       "    <tr style=\"text-align: right;\">\n",
       "      <th></th>\n",
       "      <th>Total</th>\n",
       "      <th>Percent</th>\n",
       "    </tr>\n",
       "  </thead>\n",
       "  <tbody>\n",
       "    <tr>\n",
       "      <th>Credit_History</th>\n",
       "      <td>50</td>\n",
       "      <td>8.143322</td>\n",
       "    </tr>\n",
       "    <tr>\n",
       "      <th>Loan_Amount_per_year</th>\n",
       "      <td>36</td>\n",
       "      <td>5.863192</td>\n",
       "    </tr>\n",
       "    <tr>\n",
       "      <th>EMI</th>\n",
       "      <td>36</td>\n",
       "      <td>5.863192</td>\n",
       "    </tr>\n",
       "    <tr>\n",
       "      <th>Self_Employed</th>\n",
       "      <td>32</td>\n",
       "      <td>5.211726</td>\n",
       "    </tr>\n",
       "    <tr>\n",
       "      <th>LoanAmount</th>\n",
       "      <td>22</td>\n",
       "      <td>3.583062</td>\n",
       "    </tr>\n",
       "    <tr>\n",
       "      <th>Dependents</th>\n",
       "      <td>15</td>\n",
       "      <td>2.442997</td>\n",
       "    </tr>\n",
       "    <tr>\n",
       "      <th>Loan_Amount_Term</th>\n",
       "      <td>14</td>\n",
       "      <td>2.280130</td>\n",
       "    </tr>\n",
       "    <tr>\n",
       "      <th>Gender</th>\n",
       "      <td>13</td>\n",
       "      <td>2.117264</td>\n",
       "    </tr>\n",
       "    <tr>\n",
       "      <th>Married</th>\n",
       "      <td>3</td>\n",
       "      <td>0.488599</td>\n",
       "    </tr>\n",
       "  </tbody>\n",
       "</table>\n",
       "</div>"
      ],
      "text/plain": [
       "                      Total   Percent\n",
       "Credit_History           50  8.143322\n",
       "Loan_Amount_per_year     36  5.863192\n",
       "EMI                      36  5.863192\n",
       "Self_Employed            32  5.211726\n",
       "LoanAmount               22  3.583062\n",
       "Dependents               15  2.442997\n",
       "Loan_Amount_Term         14  2.280130\n",
       "Gender                   13  2.117264\n",
       "Married                   3  0.488599"
      ]
     },
     "execution_count": 67,
     "metadata": {},
     "output_type": "execute_result"
    }
   ],
   "source": [
    "missing_df = missing_to_df(data)\n",
    "missing_df[missing_df['Total'] > 0]"
   ]
  },
  {
   "cell_type": "code",
   "execution_count": 68,
   "metadata": {
    "id": "bQzPBynqbx2h"
   },
   "outputs": [],
   "source": [
    "# Credit History=2 for nan/missing values.\n",
    "data['Credit_History'] = data['Credit_History'].fillna(2)\n"
   ]
  },
  {
   "cell_type": "code",
   "execution_count": 69,
   "metadata": {
    "colab": {
     "base_uri": "https://localhost:8080/"
    },
    "id": "Q90IeQHrb2w0",
    "outputId": "a99060df-e95e-4197-fbe1-2d3842775406"
   },
   "outputs": [
    {
     "data": {
      "text/plain": [
       "array(['No', 'Yes', nan], dtype=object)"
      ]
     },
     "execution_count": 69,
     "metadata": {},
     "output_type": "execute_result"
    }
   ],
   "source": [
    "# Self_Employed = 'Other' for nan\n",
    "data.Self_Employed.unique()"
   ]
  },
  {
   "cell_type": "code",
   "execution_count": 70,
   "metadata": {
    "id": "NBPCsXobb82M"
   },
   "outputs": [],
   "source": [
    "data['Self_Employed'] = data['Self_Employed'].fillna('Other')\n"
   ]
  },
  {
   "cell_type": "code",
   "execution_count": 71,
   "metadata": {
    "id": "NeFywieNcFYI"
   },
   "outputs": [],
   "source": [
    "# median imputation for numerical columns.\n",
    "from sklearn.impute import SimpleImputer\n",
    "\n",
    "num_missing = ['EMI', 'Loan_Amount_per_year',  'LoanAmount',  'Loan_Amount_Term']\n",
    "\n",
    "median_imputer = SimpleImputer(strategy = 'median')\n",
    "for col in num_missing:\n",
    "    data[col] = pd.DataFrame(median_imputer.fit_transform(pd.DataFrame(data[col])))"
   ]
  },
  {
   "cell_type": "code",
   "execution_count": 72,
   "metadata": {
    "id": "XKmuSFZXcRFJ"
   },
   "outputs": [],
   "source": [
    "# Highest Freq imputation for some categorical columns.\n",
    "cat_missing = ['Gender', 'Married','Dependents']\n",
    "\n",
    "freq_imputer = SimpleImputer(strategy = 'most_frequent')\n",
    "for col in cat_missing:\n",
    "    data[col] = pd.DataFrame(freq_imputer.fit_transform(pd.DataFrame(data[col])))"
   ]
  },
  {
   "cell_type": "code",
   "execution_count": 73,
   "metadata": {
    "colab": {
     "base_uri": "https://localhost:8080/",
     "height": 49
    },
    "id": "AdXc2XBScYsk",
    "outputId": "53707f8f-8646-4008-b433-4863edc6c8ef"
   },
   "outputs": [
    {
     "data": {
      "text/html": [
       "<div>\n",
       "<style scoped>\n",
       "    .dataframe tbody tr th:only-of-type {\n",
       "        vertical-align: middle;\n",
       "    }\n",
       "\n",
       "    .dataframe tbody tr th {\n",
       "        vertical-align: top;\n",
       "    }\n",
       "\n",
       "    .dataframe thead th {\n",
       "        text-align: right;\n",
       "    }\n",
       "</style>\n",
       "<table border=\"1\" class=\"dataframe\">\n",
       "  <thead>\n",
       "    <tr style=\"text-align: right;\">\n",
       "      <th></th>\n",
       "      <th>Total</th>\n",
       "      <th>Percent</th>\n",
       "    </tr>\n",
       "  </thead>\n",
       "  <tbody>\n",
       "  </tbody>\n",
       "</table>\n",
       "</div>"
      ],
      "text/plain": [
       "Empty DataFrame\n",
       "Columns: [Total, Percent]\n",
       "Index: []"
      ]
     },
     "execution_count": 73,
     "metadata": {},
     "output_type": "execute_result"
    }
   ],
   "source": [
    "missing_df = missing_to_df(data)\n",
    "missing_df[missing_df['Total'] > 0]"
   ]
  },
  {
   "cell_type": "markdown",
   "metadata": {
    "id": "cdFOJY0acgcT"
   },
   "source": [
    "## Categorical to Numerical encoding\n",
    "\n",
    "Nominal vs Ordinal variables\n",
    "\n",
    "1. One Hot Encoding\n",
    "2. Label encoding\n",
    "3. Target Encoding\n",
    "\n",
    "Appropriate encoding depends on what our task is (and) what we do next?\n",
    "\n",
    "#### Task: Compute Correlation (PCC and SRCC) between each feature and the Loan-Status\n"
   ]
  },
  {
   "cell_type": "code",
   "execution_count": 74,
   "metadata": {
    "colab": {
     "base_uri": "https://localhost:8080/"
    },
    "id": "35nPGGFZcj4L",
    "outputId": "2cacf1c1-a0e3-45e8-f1f4-a8f4508ace16"
   },
   "outputs": [
    {
     "data": {
      "text/plain": [
       "['Gender',\n",
       " 'Married',\n",
       " 'Education',\n",
       " 'Self_Employed',\n",
       " 'Property_Area',\n",
       " 'Loan_Status']"
      ]
     },
     "execution_count": 74,
     "metadata": {},
     "output_type": "execute_result"
    }
   ],
   "source": [
    "s = (data.dtypes == 'object')\n",
    "object_cols = list(s[s].index)\n",
    "object_cols"
   ]
  },
  {
   "cell_type": "markdown",
   "metadata": {
    "id": "p1Bnyafgh7Ka"
   },
   "source": [
    "### Loan Status"
   ]
  },
  {
   "cell_type": "code",
   "execution_count": 75,
   "metadata": {
    "colab": {
     "base_uri": "https://localhost:8080/"
    },
    "id": "ffGjSIJtgvPW",
    "outputId": "ce62653b-f532-49fa-af9a-255802a87b1f"
   },
   "outputs": [
    {
     "data": {
      "text/plain": [
       "Y    422\n",
       "N    192\n",
       "Name: Loan_Status, dtype: int64"
      ]
     },
     "execution_count": 75,
     "metadata": {},
     "output_type": "execute_result"
    }
   ],
   "source": [
    "# Loan_Status\n",
    "col='Loan_Status'\n",
    "data[col].value_counts()"
   ]
  },
  {
   "cell_type": "code",
   "execution_count": 76,
   "metadata": {
    "id": "J7yeIn1vhOyD"
   },
   "outputs": [],
   "source": [
    "from sklearn.preprocessing import LabelEncoder\n",
    "\n",
    "label_encoder = LabelEncoder()\n",
    "col='Loan_Status'\n",
    "data[col] = label_encoder.fit_transform(data[col])"
   ]
  },
  {
   "cell_type": "code",
   "execution_count": 77,
   "metadata": {
    "colab": {
     "base_uri": "https://localhost:8080/"
    },
    "id": "eQlTPCrqhZKd",
    "outputId": "f14b0bef-5fcf-4352-c59e-40fea45b6cb9"
   },
   "outputs": [
    {
     "data": {
      "text/plain": [
       "1    422\n",
       "0    192\n",
       "Name: Loan_Status, dtype: int64"
      ]
     },
     "execution_count": 77,
     "metadata": {},
     "output_type": "execute_result"
    }
   ],
   "source": [
    "data[col].value_counts()"
   ]
  },
  {
   "cell_type": "markdown",
   "metadata": {
    "id": "U-lTHyZPiAek"
   },
   "source": [
    "### Gender"
   ]
  },
  {
   "cell_type": "code",
   "execution_count": 78,
   "metadata": {
    "colab": {
     "base_uri": "https://localhost:8080/"
    },
    "id": "6FitJPIzczGM",
    "outputId": "208e2ba2-0af3-412f-86bc-f5ca073af8b2"
   },
   "outputs": [
    {
     "data": {
      "text/plain": [
       "Male      502\n",
       "Female    112\n",
       "Name: Gender, dtype: int64"
      ]
     },
     "execution_count": 78,
     "metadata": {},
     "output_type": "execute_result"
    }
   ],
   "source": [
    "#Gender\n",
    "data['Gender'].value_counts()\n"
   ]
  },
  {
   "cell_type": "code",
   "execution_count": 79,
   "metadata": {
    "id": "iens6H0ceWKM"
   },
   "outputs": [],
   "source": [
    "from sklearn.preprocessing import LabelEncoder\n",
    "\n",
    "label_encoder = LabelEncoder()\n",
    "col='Gender'\n",
    "data[col] = label_encoder.fit_transform(data[col])"
   ]
  },
  {
   "cell_type": "code",
   "execution_count": 80,
   "metadata": {
    "colab": {
     "base_uri": "https://localhost:8080/"
    },
    "id": "muyPA-KCe_zC",
    "outputId": "93ba1a3f-98ab-4ec0-bbfa-3c213e0c6651"
   },
   "outputs": [
    {
     "data": {
      "text/plain": [
       "1    502\n",
       "0    112\n",
       "Name: Gender, dtype: int64"
      ]
     },
     "execution_count": 80,
     "metadata": {},
     "output_type": "execute_result"
    }
   ],
   "source": [
    "data[col].value_counts()"
   ]
  },
  {
   "cell_type": "markdown",
   "metadata": {
    "id": "_K4bmriUiDco"
   },
   "source": [
    "### Married"
   ]
  },
  {
   "cell_type": "code",
   "execution_count": 81,
   "metadata": {
    "colab": {
     "base_uri": "https://localhost:8080/"
    },
    "id": "pI_JumsPfBbF",
    "outputId": "b2171f47-5c00-4801-bac7-3cfacf327741"
   },
   "outputs": [
    {
     "data": {
      "text/plain": [
       "Yes    401\n",
       "No     213\n",
       "Name: Married, dtype: int64"
      ]
     },
     "execution_count": 81,
     "metadata": {},
     "output_type": "execute_result"
    }
   ],
   "source": [
    "# Married\n",
    "data['Married'].value_counts()"
   ]
  },
  {
   "cell_type": "code",
   "execution_count": 82,
   "metadata": {
    "colab": {
     "base_uri": "https://localhost:8080/"
    },
    "id": "VrTRKVTFfK-S",
    "outputId": "24423314-d103-4db9-f7ee-409f3142783b"
   },
   "outputs": [
    {
     "data": {
      "text/plain": [
       "1    401\n",
       "0    213\n",
       "Name: Married, dtype: int64"
      ]
     },
     "execution_count": 82,
     "metadata": {},
     "output_type": "execute_result"
    }
   ],
   "source": [
    "label_encoder = LabelEncoder()\n",
    "col='Married'\n",
    "data[col] = label_encoder.fit_transform(data[col])\n",
    "data[col].value_counts()"
   ]
  },
  {
   "cell_type": "markdown",
   "metadata": {
    "id": "WJABnHiHiGif"
   },
   "source": [
    "### Property Area"
   ]
  },
  {
   "cell_type": "code",
   "execution_count": 83,
   "metadata": {
    "colab": {
     "base_uri": "https://localhost:8080/"
    },
    "id": "I50fXNxtfRnj",
    "outputId": "2301a780-3f2b-47f9-9134-604e173c61a2"
   },
   "outputs": [
    {
     "data": {
      "text/plain": [
       "Semiurban    233\n",
       "Urban        202\n",
       "Rural        179\n",
       "Name: Property_Area, dtype: int64"
      ]
     },
     "execution_count": 83,
     "metadata": {},
     "output_type": "execute_result"
    }
   ],
   "source": [
    "# col='Property_Area'\n",
    "col='Property_Area'\n",
    "data[col].value_counts()"
   ]
  },
  {
   "cell_type": "code",
   "execution_count": 84,
   "metadata": {
    "colab": {
     "base_uri": "https://localhost:8080/"
    },
    "id": "AuK9i9iTf1iA",
    "outputId": "3ae342e3-8e32-4a23-bf96-2b2f5126924b"
   },
   "outputs": [
    {
     "name": "stdout",
     "output_type": "stream",
     "text": [
      "Requirement already satisfied: category_encoders in /Users/shivank/opt/anaconda3/lib/python3.9/site-packages (2.5.0)\n",
      "Requirement already satisfied: pandas>=1.0.5 in /Users/shivank/opt/anaconda3/lib/python3.9/site-packages (from category_encoders) (1.4.2)\n",
      "Requirement already satisfied: statsmodels>=0.9.0 in /Users/shivank/opt/anaconda3/lib/python3.9/site-packages (from category_encoders) (0.13.2)\n",
      "Requirement already satisfied: scipy>=1.0.0 in /Users/shivank/opt/anaconda3/lib/python3.9/site-packages (from category_encoders) (1.7.3)\n",
      "Requirement already satisfied: patsy>=0.5.1 in /Users/shivank/opt/anaconda3/lib/python3.9/site-packages (from category_encoders) (0.5.2)\n",
      "Requirement already satisfied: scikit-learn>=0.20.0 in /Users/shivank/opt/anaconda3/lib/python3.9/site-packages (from category_encoders) (1.0.2)\n",
      "Requirement already satisfied: numpy>=1.14.0 in /Users/shivank/opt/anaconda3/lib/python3.9/site-packages (from category_encoders) (1.21.5)\n",
      "Requirement already satisfied: python-dateutil>=2.8.1 in /Users/shivank/opt/anaconda3/lib/python3.9/site-packages (from pandas>=1.0.5->category_encoders) (2.8.2)\n",
      "Requirement already satisfied: pytz>=2020.1 in /Users/shivank/opt/anaconda3/lib/python3.9/site-packages (from pandas>=1.0.5->category_encoders) (2021.3)\n",
      "Requirement already satisfied: six in /Users/shivank/opt/anaconda3/lib/python3.9/site-packages (from patsy>=0.5.1->category_encoders) (1.16.0)\n",
      "Requirement already satisfied: joblib>=0.11 in /Users/shivank/opt/anaconda3/lib/python3.9/site-packages (from scikit-learn>=0.20.0->category_encoders) (1.1.0)\n",
      "Requirement already satisfied: threadpoolctl>=2.0.0 in /Users/shivank/opt/anaconda3/lib/python3.9/site-packages (from scikit-learn>=0.20.0->category_encoders) (2.2.0)\n",
      "Requirement already satisfied: packaging>=21.3 in /Users/shivank/opt/anaconda3/lib/python3.9/site-packages (from statsmodels>=0.9.0->category_encoders) (21.3)\n",
      "Requirement already satisfied: pyparsing!=3.0.5,>=2.0.2 in /Users/shivank/opt/anaconda3/lib/python3.9/site-packages (from packaging>=21.3->statsmodels>=0.9.0->category_encoders) (3.0.4)\n"
     ]
    }
   ],
   "source": [
    "!pip install category_encoders\n"
   ]
  },
  {
   "cell_type": "code",
   "execution_count": 85,
   "metadata": {
    "id": "bNv6fUnofgX-"
   },
   "outputs": [],
   "source": [
    "from category_encoders import TargetEncoder\n",
    "\n",
    "te = TargetEncoder()\n",
    "data[col] = te.fit_transform(data[col], data['Loan_Status'])\n"
   ]
  },
  {
   "cell_type": "code",
   "execution_count": 86,
   "metadata": {
    "colab": {
     "base_uri": "https://localhost:8080/"
    },
    "id": "5HdQTE4yhjMb",
    "outputId": "2bde78f9-cb04-48f4-ea94-0c094abe6bcb"
   },
   "outputs": [
    {
     "data": {
      "text/plain": [
       "0.768240    233\n",
       "0.658416    202\n",
       "0.614525    179\n",
       "Name: Property_Area, dtype: int64"
      ]
     },
     "execution_count": 86,
     "metadata": {},
     "output_type": "execute_result"
    }
   ],
   "source": [
    "col='Property_Area'\n",
    "data[col].value_counts()"
   ]
  },
  {
   "cell_type": "markdown",
   "metadata": {
    "id": "nVaYhxdJiKs2"
   },
   "source": [
    "### Education"
   ]
  },
  {
   "cell_type": "code",
   "execution_count": 87,
   "metadata": {
    "colab": {
     "base_uri": "https://localhost:8080/"
    },
    "id": "wvY_2U7Ch3CP",
    "outputId": "0f5e2b91-22cd-4fb0-ef31-eb270a1f1642"
   },
   "outputs": [
    {
     "data": {
      "text/plain": [
       "Graduate        480\n",
       "Not Graduate    134\n",
       "Name: Education, dtype: int64"
      ]
     },
     "execution_count": 87,
     "metadata": {},
     "output_type": "execute_result"
    }
   ],
   "source": [
    "col='Education'\n",
    "data[col].value_counts()"
   ]
  },
  {
   "cell_type": "code",
   "execution_count": 88,
   "metadata": {
    "colab": {
     "base_uri": "https://localhost:8080/"
    },
    "id": "9UVVH0H-iYbQ",
    "outputId": "94c5ff1a-23c8-438d-aa8f-b7e725be6a9c"
   },
   "outputs": [
    {
     "data": {
      "text/plain": [
       "0    480\n",
       "1    134\n",
       "Name: Education, dtype: int64"
      ]
     },
     "execution_count": 88,
     "metadata": {},
     "output_type": "execute_result"
    }
   ],
   "source": [
    "label_encoder = LabelEncoder()\n",
    "data[col] = label_encoder.fit_transform(data[col])\n",
    "data[col].value_counts()"
   ]
  },
  {
   "cell_type": "markdown",
   "metadata": {
    "id": "Qk2PGP6bia6d"
   },
   "source": [
    "### Self Employed"
   ]
  },
  {
   "cell_type": "code",
   "execution_count": 89,
   "metadata": {
    "colab": {
     "base_uri": "https://localhost:8080/"
    },
    "id": "SSeFI2flihiG",
    "outputId": "fe41ed40-2146-4752-ab97-fee78862e323"
   },
   "outputs": [
    {
     "data": {
      "text/plain": [
       "No       500\n",
       "Yes       82\n",
       "Other     32\n",
       "Name: Self_Employed, dtype: int64"
      ]
     },
     "execution_count": 89,
     "metadata": {},
     "output_type": "execute_result"
    }
   ],
   "source": [
    "col='Self_Employed'\n",
    "data[col].value_counts()"
   ]
  },
  {
   "cell_type": "code",
   "execution_count": 90,
   "metadata": {
    "colab": {
     "base_uri": "https://localhost:8080/"
    },
    "id": "Qz-vLu5yipUQ",
    "outputId": "95b2f8c0-f606-4344-e11d-c7e3d991ad25"
   },
   "outputs": [
    {
     "data": {
      "text/plain": [
       "0.686000    500\n",
       "0.682927     82\n",
       "0.718750     32\n",
       "Name: Self_Employed, dtype: int64"
      ]
     },
     "execution_count": 90,
     "metadata": {},
     "output_type": "execute_result"
    }
   ],
   "source": [
    "from category_encoders import TargetEncoder\n",
    "\n",
    "te = TargetEncoder()\n",
    "data[col] = te.fit_transform(data[col], data['Loan_Status'])\n",
    "data[col].value_counts()"
   ]
  },
  {
   "cell_type": "code",
   "execution_count": 91,
   "metadata": {
    "colab": {
     "base_uri": "https://localhost:8080/"
    },
    "id": "yE4B4PRfixKT",
    "outputId": "650426da-f808-472a-fde3-693948e89a21"
   },
   "outputs": [
    {
     "data": {
      "text/plain": [
       "[]"
      ]
     },
     "execution_count": 91,
     "metadata": {},
     "output_type": "execute_result"
    }
   ],
   "source": [
    "s = (data.dtypes == 'object')\n",
    "object_cols = list(s[s].index)\n",
    "object_cols\n",
    "# No more non numeric cols."
   ]
  },
  {
   "cell_type": "code",
   "execution_count": 92,
   "metadata": {
    "colab": {
     "base_uri": "https://localhost:8080/"
    },
    "id": "uEtHzANRlbK-",
    "outputId": "e959d470-e386-4507-d2f6-de707c10c52a"
   },
   "outputs": [
    {
     "data": {
      "text/plain": [
       "Gender                    int64\n",
       "Married                   int64\n",
       "Dependents              float64\n",
       "Education                 int64\n",
       "Self_Employed           float64\n",
       "ApplicantIncome           int64\n",
       "CoapplicantIncome       float64\n",
       "LoanAmount              float64\n",
       "Loan_Amount_Term        float64\n",
       "Credit_History          float64\n",
       "Property_Area           float64\n",
       "Loan_Status               int64\n",
       "TotalIncome             float64\n",
       "Loan_Amount_per_year    float64\n",
       "EMI                     float64\n",
       "Able_to_pay_EMI           int64\n",
       "dtype: object"
      ]
     },
     "execution_count": 92,
     "metadata": {},
     "output_type": "execute_result"
    }
   ],
   "source": [
    "data.dtypes"
   ]
  },
  {
   "cell_type": "markdown",
   "metadata": {
    "id": "x1m03MlIi0kb"
   },
   "source": [
    "### Correlation Coefficients\n"
   ]
  },
  {
   "cell_type": "code",
   "execution_count": 93,
   "metadata": {
    "colab": {
     "base_uri": "https://localhost:8080/",
     "height": 770
    },
    "id": "0HZa6geljVXo",
    "outputId": "db958c5f-3d92-4c94-9a1a-390313d9dda5"
   },
   "outputs": [
    {
     "data": {
      "text/plain": [
       "<AxesSubplot:>"
      ]
     },
     "execution_count": 93,
     "metadata": {},
     "output_type": "execute_result"
    },
    {
     "data": {
      "image/png": "[encoded data removed]",
      "text/plain": [
       "<Figure size 864x864 with 2 Axes>"
      ]
     },
     "metadata": {
      "needs_background": "light"
     },
     "output_type": "display_data"
    }
   ],
   "source": [
    "#PCC\n",
    "plt.figure(figsize=(12, 12))\n",
    "sns.heatmap(data.corr(method='pearson'), square=True,annot=True)"
   ]
  },
  {
   "cell_type": "code",
   "execution_count": 94,
   "metadata": {
    "colab": {
     "base_uri": "https://localhost:8080/",
     "height": 918
    },
    "id": "LojdqjhFi0Mu",
    "outputId": "d3b6bdd0-da7e-4284-bca0-624659926122"
   },
   "outputs": [
    {
     "data": {
      "text/plain": [
       "<AxesSubplot:>"
      ]
     },
     "execution_count": 94,
     "metadata": {},
     "output_type": "execute_result"
    },
    {
     "data": {
      "image/png": "[encoded data removed]",
      "text/plain": [
       "<Figure size 1080x1080 with 2 Axes>"
      ]
     },
     "metadata": {
      "needs_background": "light"
     },
     "output_type": "display_data"
    }
   ],
   "source": [
    "#SRCC\n",
    "plt.figure(figsize=(15, 15))\n",
    "sns.heatmap(data.corr(method='spearman'), square=True,annot=True)"
   ]
  },
  {
   "cell_type": "code",
   "execution_count": 95,
   "metadata": {
    "colab": {
     "base_uri": "https://localhost:8080/",
     "height": 265
    },
    "id": "ltAnXBSnj74b",
    "outputId": "de4cdcc7-58c1-4bcd-b269-222ebe9fdc1e"
   },
   "outputs": [
    {
     "data": {
      "image/png": "[encoded data removed]",
      "text/plain": [
       "<Figure size 432x288 with 1 Axes>"
      ]
     },
     "metadata": {
      "needs_background": "light"
     },
     "output_type": "display_data"
    }
   ],
   "source": [
    "plt.scatter(data['Credit_History'], data['Loan_Status'])\n",
    "plt.show()\n",
    "#sometimes scatter plots can be misleading do to catgeorical nature of the data"
   ]
  },
  {
   "cell_type": "code",
   "execution_count": 96,
   "metadata": {
    "colab": {
     "base_uri": "https://localhost:8080/",
     "height": 297
    },
    "id": "L-9aH2GykNPM",
    "outputId": "f7211f4b-1e3c-4720-d873-2f26ca97118e"
   },
   "outputs": [
    {
     "data": {
      "text/plain": [
       "<AxesSubplot:xlabel='Credit_History', ylabel='count'>"
      ]
     },
     "execution_count": 96,
     "metadata": {},
     "output_type": "execute_result"
    },
    {
     "data": {
      "image/png": "[encoded data removed]",
      "text/plain": [
       "<Figure size 432x288 with 1 Axes>"
      ]
     },
     "metadata": {
      "needs_background": "light"
     },
     "output_type": "display_data"
    }
   ],
   "source": [
    "sns.countplot(data =data, x = 'Credit_History', hue = 'Loan_Status')\n"
   ]
  },
  {
   "cell_type": "markdown",
   "metadata": {
    "id": "A-B0OnWTn1WV"
   },
   "source": [
    "## Column Standarization and Normalization\n",
    "- Mean centering and Variance scaling (Standard Scaling)\n",
    "- MinMax Scaling\n",
    "\n"
   ]
  },
  {
   "cell_type": "code",
   "execution_count": 97,
   "metadata": {
    "colab": {
     "base_uri": "https://localhost:8080/",
     "height": 270
    },
    "id": "-6tEgEImk0a5",
    "outputId": "7d90139e-1ab2-466e-e110-2a7f499b4910"
   },
   "outputs": [
    {
     "data": {
      "text/html": [
       "<div>\n",
       "<style scoped>\n",
       "    .dataframe tbody tr th:only-of-type {\n",
       "        vertical-align: middle;\n",
       "    }\n",
       "\n",
       "    .dataframe tbody tr th {\n",
       "        vertical-align: top;\n",
       "    }\n",
       "\n",
       "    .dataframe thead th {\n",
       "        text-align: right;\n",
       "    }\n",
       "</style>\n",
       "<table border=\"1\" class=\"dataframe\">\n",
       "  <thead>\n",
       "    <tr style=\"text-align: right;\">\n",
       "      <th></th>\n",
       "      <th>Gender</th>\n",
       "      <th>Married</th>\n",
       "      <th>Dependents</th>\n",
       "      <th>Education</th>\n",
       "      <th>Self_Employed</th>\n",
       "      <th>ApplicantIncome</th>\n",
       "      <th>CoapplicantIncome</th>\n",
       "      <th>LoanAmount</th>\n",
       "      <th>Loan_Amount_Term</th>\n",
       "      <th>Credit_History</th>\n",
       "      <th>Property_Area</th>\n",
       "      <th>Loan_Status</th>\n",
       "      <th>TotalIncome</th>\n",
       "      <th>Loan_Amount_per_year</th>\n",
       "      <th>EMI</th>\n",
       "      <th>Able_to_pay_EMI</th>\n",
       "    </tr>\n",
       "  </thead>\n",
       "  <tbody>\n",
       "    <tr>\n",
       "      <th>0</th>\n",
       "      <td>0.472343</td>\n",
       "      <td>-1.372089</td>\n",
       "      <td>-0.737806</td>\n",
       "      <td>-0.528362</td>\n",
       "      <td>-0.174052</td>\n",
       "      <td>0.072991</td>\n",
       "      <td>-0.554487</td>\n",
       "      <td>-0.211241</td>\n",
       "      <td>0.273231</td>\n",
       "      <td>0.134703</td>\n",
       "      <td>-0.440191</td>\n",
       "      <td>0.674519</td>\n",
       "      <td>-0.182184</td>\n",
       "      <td>-0.212270</td>\n",
       "      <td>-0.212270</td>\n",
       "      <td>-2.381998</td>\n",
       "    </tr>\n",
       "    <tr>\n",
       "      <th>1</th>\n",
       "      <td>0.472343</td>\n",
       "      <td>0.728816</td>\n",
       "      <td>0.253470</td>\n",
       "      <td>-0.528362</td>\n",
       "      <td>-0.174052</td>\n",
       "      <td>-0.134412</td>\n",
       "      <td>-0.038732</td>\n",
       "      <td>-0.211241</td>\n",
       "      <td>0.273231</td>\n",
       "      <td>0.134703</td>\n",
       "      <td>-1.109162</td>\n",
       "      <td>-1.482537</td>\n",
       "      <td>-0.144684</td>\n",
       "      <td>-0.231329</td>\n",
       "      <td>-0.231329</td>\n",
       "      <td>0.419816</td>\n",
       "    </tr>\n",
       "    <tr>\n",
       "      <th>2</th>\n",
       "      <td>0.472343</td>\n",
       "      <td>0.728816</td>\n",
       "      <td>-0.737806</td>\n",
       "      <td>-0.528362</td>\n",
       "      <td>-0.586643</td>\n",
       "      <td>-0.393747</td>\n",
       "      <td>-0.554487</td>\n",
       "      <td>-0.948996</td>\n",
       "      <td>0.273231</td>\n",
       "      <td>0.134703</td>\n",
       "      <td>-0.440191</td>\n",
       "      <td>0.674519</td>\n",
       "      <td>-0.623656</td>\n",
       "      <td>-0.568956</td>\n",
       "      <td>-0.568956</td>\n",
       "      <td>0.419816</td>\n",
       "    </tr>\n",
       "    <tr>\n",
       "      <th>3</th>\n",
       "      <td>0.472343</td>\n",
       "      <td>0.728816</td>\n",
       "      <td>-0.737806</td>\n",
       "      <td>1.892641</td>\n",
       "      <td>-0.174052</td>\n",
       "      <td>-0.462062</td>\n",
       "      <td>0.251980</td>\n",
       "      <td>-0.306435</td>\n",
       "      <td>0.273231</td>\n",
       "      <td>0.134703</td>\n",
       "      <td>-0.440191</td>\n",
       "      <td>0.674519</td>\n",
       "      <td>-0.322885</td>\n",
       "      <td>-0.274894</td>\n",
       "      <td>-0.274894</td>\n",
       "      <td>0.419816</td>\n",
       "    </tr>\n",
       "    <tr>\n",
       "      <th>4</th>\n",
       "      <td>0.472343</td>\n",
       "      <td>-1.372089</td>\n",
       "      <td>-0.737806</td>\n",
       "      <td>-0.528362</td>\n",
       "      <td>-0.174052</td>\n",
       "      <td>0.097728</td>\n",
       "      <td>-0.554487</td>\n",
       "      <td>-0.056551</td>\n",
       "      <td>0.273231</td>\n",
       "      <td>0.134703</td>\n",
       "      <td>-0.440191</td>\n",
       "      <td>0.674519</td>\n",
       "      <td>-0.158785</td>\n",
       "      <td>-0.160537</td>\n",
       "      <td>-0.160537</td>\n",
       "      <td>0.419816</td>\n",
       "    </tr>\n",
       "  </tbody>\n",
       "</table>\n",
       "</div>"
      ],
      "text/plain": [
       "     Gender   Married  Dependents  Education  Self_Employed  ApplicantIncome  \\\n",
       "0  0.472343 -1.372089   -0.737806  -0.528362      -0.174052         0.072991   \n",
       "1  0.472343  0.728816    0.253470  -0.528362      -0.174052        -0.134412   \n",
       "2  0.472343  0.728816   -0.737806  -0.528362      -0.586643        -0.393747   \n",
       "3  0.472343  0.728816   -0.737806   1.892641      -0.174052        -0.462062   \n",
       "4  0.472343 -1.372089   -0.737806  -0.528362      -0.174052         0.097728   \n",
       "\n",
       "   CoapplicantIncome  LoanAmount  Loan_Amount_Term  Credit_History  \\\n",
       "0          -0.554487   -0.211241          0.273231        0.134703   \n",
       "1          -0.038732   -0.211241          0.273231        0.134703   \n",
       "2          -0.554487   -0.948996          0.273231        0.134703   \n",
       "3           0.251980   -0.306435          0.273231        0.134703   \n",
       "4          -0.554487   -0.056551          0.273231        0.134703   \n",
       "\n",
       "   Property_Area  Loan_Status  TotalIncome  Loan_Amount_per_year       EMI  \\\n",
       "0      -0.440191     0.674519    -0.182184             -0.212270 -0.212270   \n",
       "1      -1.109162    -1.482537    -0.144684             -0.231329 -0.231329   \n",
       "2      -0.440191     0.674519    -0.623656             -0.568956 -0.568956   \n",
       "3      -0.440191     0.674519    -0.322885             -0.274894 -0.274894   \n",
       "4      -0.440191     0.674519    -0.158785             -0.160537 -0.160537   \n",
       "\n",
       "   Able_to_pay_EMI  \n",
       "0        -2.381998  \n",
       "1         0.419816  \n",
       "2         0.419816  \n",
       "3         0.419816  \n",
       "4         0.419816  "
      ]
     },
     "execution_count": 97,
     "metadata": {},
     "output_type": "execute_result"
    }
   ],
   "source": [
    "from sklearn.preprocessing import StandardScaler, MinMaxScaler\n",
    "\n",
    "scaler = StandardScaler()\n",
    "std_data = scaler.fit_transform(data)\n",
    "std_data = pd.DataFrame(std_data, columns=data.columns)\n",
    "std_data.head()\n"
   ]
  },
  {
   "cell_type": "code",
   "execution_count": null,
   "metadata": {},
   "outputs": [],
   "source": []
  }
 ],
 "metadata": {
  "colab": {
   "collapsed_sections": [
    "f5n7flegGQEe",
    "TarGSsXDG8Tp",
    "aN_hoLBYIDx7",
    "sp3SJkJmKaIm",
    "dpRmBB0sbPfh",
    "cdFOJY0acgcT",
    "p1Bnyafgh7Ka",
    "U-lTHyZPiAek",
    "_K4bmriUiDco",
    "WJABnHiHiGif",
    "nVaYhxdJiKs2"
   ],
   "name": "EDA_FE.ipynb",
   "provenance": []
  },
  "kernelspec": {
   "display_name": "Python 3 (ipykernel)",
   "language": "python",
   "name": "python3"
  },
  "language_info": {
   "codemirror_mode": {
    "name": "ipython",
    "version": 3
   },
   "file_extension": ".py",
   "mimetype": "text/x-python",
   "name": "python",
   "nbconvert_exporter": "python",
   "pygments_lexer": "ipython3",
   "version": "3.9.12"
  }
 },
 "nbformat": 4,
 "nbformat_minor": 1
}
